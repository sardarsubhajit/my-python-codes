{
 "cells": [
  {
   "cell_type": "code",
   "execution_count": 1,
   "id": "359b94b9",
   "metadata": {},
   "outputs": [
    {
     "name": "stdout",
     "output_type": "stream",
     "text": [
      "<class 'tuple'>\n",
      "Tuple with integers from 1 to 5: (1, 2, 3, 4, 5)\n"
     ]
    }
   ],
   "source": [
    "#Create a tuple with integers from 1 to 5\n",
    "t=tuple(range(1,6))\n",
    "print(type(t))\n",
    "print(\"Tuple with integers from 1 to 5:\",t)"
   ]
  },
  {
   "cell_type": "code",
   "execution_count": 5,
   "id": "c139ac9e",
   "metadata": {},
   "outputs": [
    {
     "name": "stdout",
     "output_type": "stream",
     "text": [
      "Enter a tuple: (10,50,30,80,54)\n",
      "<class 'tuple'>\n",
      "The 3rd element of the given tuple is: 30\n"
     ]
    }
   ],
   "source": [
    "#Access the third element of a tuple\n",
    "t=eval(input(\"Enter a tuple: \"))\n",
    "print(type(t))\n",
    "if len(t)>2:\n",
    "    print(\"The 3rd element of the given tuple is:\",t[2])\n",
    "else:\n",
    "    print(f\"Your input tuple contains {len(t)} elements\")"
   ]
  },
  {
   "cell_type": "code",
   "execution_count": 6,
   "id": "862eacfd",
   "metadata": {},
   "outputs": [
    {
     "name": "stdout",
     "output_type": "stream",
     "text": [
      "Enter a tuple: (10,20,30,40,50,60,70,80,90)\n",
      "Length of your input tuple is: 9\n"
     ]
    }
   ],
   "source": [
    "#Find the length of a tuple without using the `len()` function\n",
    "t=eval(input(\"Enter a tuple: \"))\n",
    "c=0\n",
    "for i in t:\n",
    "    c+=1\n",
    "print(\"Length of your input tuple is:\",c)"
   ]
  },
  {
   "cell_type": "code",
   "execution_count": 8,
   "id": "44e893e6",
   "metadata": {},
   "outputs": [
    {
     "name": "stdout",
     "output_type": "stream",
     "text": [
      "Enter a  tuple: (1,2,3,1,2,1,2,1,'python','java','1')\n",
      "Enter an element you want to search in the input tuple: python\n",
      "Occurence of python in the input tuple is: 1\n"
     ]
    }
   ],
   "source": [
    "#Count the occurrences of an element in a tuple\n",
    "t=eval(input(\"Enter a  tuple: \"))\n",
    "item=input(\"Enter an element you want to search in the input tuple: \")\n",
    "if item.isdigit():\n",
    "    item=int(item)\n",
    "if item in t:\n",
    "    print(f\"Occurence of {item} in the input tuple is: {t.count(item)}\")\n",
    "else:\n",
    "    print(f\"{item} is missing in the input tuple\")"
   ]
  },
  {
   "cell_type": "code",
   "execution_count": 10,
   "id": "fc7fca51",
   "metadata": {},
   "outputs": [
    {
     "name": "stdout",
     "output_type": "stream",
     "text": [
      "Enter a  tuple: (1,2,3,1,2,1,2,1,'python','java','1')\n",
      "Enter an element you want to search in the input tuple: C++\n",
      "C++ is missing in the input tuple\n"
     ]
    }
   ],
   "source": [
    "#Find the index of the first occurrence of an element in a tuple\n",
    "t=eval(input(\"Enter a  tuple: \"))\n",
    "item=input(\"Enter an element you want to search in the input tuple: \")\n",
    "if item.isdigit():\n",
    "    item=int(item)\n",
    "if item in t:\n",
    "    print(f\"First occurence of {item} in the input tuple is: {t.index(item)}\")\n",
    "else:\n",
    "    print(f\"{item} is missing in the input tuple\")"
   ]
  },
  {
   "cell_type": "code",
   "execution_count": 16,
   "id": "106a1f1e",
   "metadata": {},
   "outputs": [
    {
     "name": "stdout",
     "output_type": "stream",
     "text": [
      "Enter a tuple: (1,2,3,4,'I','am','learning','python')\n",
      "Enter an element you want to search in the input tuple: 4\n",
      "4 is present in the input tuple at index no.: 3\n"
     ]
    }
   ],
   "source": [
    "#Check if an element exists in a tuple\n",
    "t=eval(input(\"Enter a tuple: \"))\n",
    "item=input(\"Enter an element you want to search in the input tuple: \")\n",
    "if item in t:\n",
    "    print(f\"{item} is present in the input tuple at index no.: {t.index(item)}\")\n",
    "elif item.isdigit() in t:\n",
    "    print(f\"{item} is present in the input tuple at index no.: {t.index(int(item))}\")\n",
    "else:\n",
    "    print(f\"{item} is missing in the input tuple\")"
   ]
  },
  {
   "cell_type": "code",
   "execution_count": 19,
   "id": "82d7b799",
   "metadata": {},
   "outputs": [
    {
     "name": "stdout",
     "output_type": "stream",
     "text": [
      "Enter a tuple: (1,2,3,5,6,9,7)\n",
      "Type of 't' is: <class 'tuple'>\n",
      "Type of 'l' is: <class 'list'>\n"
     ]
    }
   ],
   "source": [
    "#Convert a tuple to a list\n",
    "t=eval(input(\"Enter a tuple: \"))\n",
    "l=list(t)\n",
    "print(\"Type of 't' is:\",type(t))\n",
    "print(\"Type of 'l' is:\",type(l))"
   ]
  },
  {
   "cell_type": "code",
   "execution_count": 20,
   "id": "8c185ce7",
   "metadata": {},
   "outputs": [
    {
     "name": "stdout",
     "output_type": "stream",
     "text": [
      "Enter the number of elements you require: 5\n",
      "Enter element no.1: 1\n",
      "Enter element no.2: 2\n",
      "Enter element no.3: 3\n",
      "Enter element no.4: python\n",
      "Enter element no.5: java\n",
      "Type of (1, 2, 3, 'python', 'java') is: <class 'tuple'>\n",
      "Type of [1, 2, 3, 'python', 'java'] is: <class 'list'>\n"
     ]
    }
   ],
   "source": [
    "#Convert a list to a tuple\n",
    "l=[]\n",
    "n=int(input(\"Enter the number of elements you require: \"))\n",
    "for i in range(n):\n",
    "    item=input(f\"Enter element no.{i+1}: \")\n",
    "    if item.isdigit():\n",
    "        l.append(int(item))\n",
    "    else:\n",
    "        l.append(item)\n",
    "t=tuple(l)\n",
    "print(f\"Type of {t} is: {type(t)}\")\n",
    "print(f\"Type of {l} is: {type(l)}\")"
   ]
  },
  {
   "cell_type": "code",
   "execution_count": 22,
   "id": "05ce8f0e",
   "metadata": {},
   "outputs": [
    {
     "name": "stdout",
     "output_type": "stream",
     "text": [
      "Enter a tuple: (1,2,3,'python')\n",
      "a: 1 \tb: 2 \tc: 3 \td: python\n"
     ]
    }
   ],
   "source": [
    "#Unpack the elements of a tuple into variables\n",
    "t=eval(input(\"Enter a tuple: \"))\n",
    "a,b,c,d=t\n",
    "print(\"a:\",a,\"\\tb:\",b,\"\\tc:\",c,\"\\td:\",d)"
   ]
  },
  {
   "cell_type": "code",
   "execution_count": 23,
   "id": "3d4676ef",
   "metadata": {},
   "outputs": [
    {
     "name": "stdout",
     "output_type": "stream",
     "text": [
      "Tuple of even numbers from 1 to 10: (2, 4, 6, 8, 10)\n"
     ]
    }
   ],
   "source": [
    "#Create a tuple of even numbers from 1 to 10\n",
    "t=tuple(range(2,11,2))\n",
    "print(\"Tuple of even numbers from 1 to 10:\",t)"
   ]
  },
  {
   "cell_type": "code",
   "execution_count": 24,
   "id": "d0f80bad",
   "metadata": {},
   "outputs": [
    {
     "name": "stdout",
     "output_type": "stream",
     "text": [
      "Tuple of odd numbers from 1 to 10: (1, 3, 5, 7, 9)\n"
     ]
    }
   ],
   "source": [
    "#Create a tuple of odd numbers from 1 to 10\n",
    "t=tuple(range(1,10,2))\n",
    "print(\"Tuple of odd numbers from 1 to 10:\",t)"
   ]
  },
  {
   "cell_type": "code",
   "execution_count": 28,
   "id": "fad5773f",
   "metadata": {},
   "outputs": [
    {
     "name": "stdout",
     "output_type": "stream",
     "text": [
      "Input a tuple: (1,2,3,4)\n",
      "Input a second tuple: ('I','learn','python')\n",
      "First tuple: (1, 2, 3, 4)\n",
      "Second tuple: ('I', 'learn', 'python')\n",
      "Concatenated tuple: (1, 2, 3, 4, 'I', 'learn', 'python')\n"
     ]
    }
   ],
   "source": [
    "#Concatenate two tuples\n",
    "t1=eval(input(\"Input a tuple: \"))\n",
    "t2=eval(input(\"Input a second tuple: \"))\n",
    "t3=t1+t2\n",
    "print(\"First tuple:\",t1)\n",
    "print(\"Second tuple:\",t2)\n",
    "print(\"Concatenated tuple:\",t3)"
   ]
  },
  {
   "cell_type": "code",
   "execution_count": 29,
   "id": "7f4cd292",
   "metadata": {},
   "outputs": [
    {
     "name": "stdout",
     "output_type": "stream",
     "text": [
      "Input a tuple: (1,2,3,4,5,6,7,8,9)\n",
      "Your desired tuple: (1, 2, 3, 4, 5, 6, 7, 8, 9, 1, 2, 3, 4, 5, 6, 7, 8, 9, 1, 2, 3, 4, 5, 6, 7, 8, 9)\n"
     ]
    }
   ],
   "source": [
    "#Repeat a tuple three times\n",
    "t1=eval(input(\"Input a tuple: \"))\n",
    "t2=t1*3\n",
    "print(\"Your desired tuple:\",t2)"
   ]
  },
  {
   "cell_type": "code",
   "execution_count": 5,
   "id": "e1abe147",
   "metadata": {},
   "outputs": [
    {
     "name": "stdout",
     "output_type": "stream",
     "text": [
      "Enter a tuple: ()\n",
      "Empty tuple!\n"
     ]
    }
   ],
   "source": [
    "#Check if a tuple is empty\n",
    "t=eval(input(\"Enter a tuple: \"))\n",
    "if t==():\n",
    "    print(\"Empty tuple!\")\n",
    "else:\n",
    "    print(t)"
   ]
  },
  {
   "cell_type": "code",
   "execution_count": 6,
   "id": "82ad85c5",
   "metadata": {},
   "outputs": [
    {
     "name": "stdout",
     "output_type": "stream",
     "text": [
      "Enter a tuple: (1,2,3,4,5,6,8,9)\n",
      "1 2 3 4 \n",
      "5 6 8 9 \n",
      "\n"
     ]
    }
   ],
   "source": [
    "#Create a nested tuple\n",
    "t=eval(input(\"Enter a tuple: \"))\n",
    "t1=((t[0:4]),t[4:8],t[8:12])\n",
    "for i in t1:\n",
    "    for j in i:\n",
    "        print(j,end=\" \")\n",
    "    print()"
   ]
  },
  {
   "cell_type": "code",
   "execution_count": 10,
   "id": "73f41afb",
   "metadata": {},
   "outputs": [
    {
     "name": "stdout",
     "output_type": "stream",
     "text": [
      "Enter a nested tuple: ((11,32,3,5,4,5),(2,63,454,6,6))\n",
      "First element of the nested tuple is: 11\n"
     ]
    }
   ],
   "source": [
    "#Access the first element of a nested tuple\n",
    "t=eval(input(\"Enter a nested tuple: \"))\n",
    "print(\"First element of the nested tuple is:\",t[0][0])"
   ]
  },
  {
   "cell_type": "code",
   "execution_count": 12,
   "id": "ac429963",
   "metadata": {},
   "outputs": [
    {
     "name": "stdout",
     "output_type": "stream",
     "text": [
      "Enter an element: python\n",
      "<class 'tuple'>\n",
      "('python',)\n"
     ]
    }
   ],
   "source": [
    "#Create a tuple with a single element\n",
    "item=input(\"Enter an element: \")\n",
    "if item.isdigit():\n",
    "    t=(int(item),)\n",
    "else:\n",
    "    t=(item,)\n",
    "print(type(t))\n",
    "print(t)"
   ]
  },
  {
   "cell_type": "code",
   "execution_count": 22,
   "id": "c942b6aa",
   "metadata": {},
   "outputs": [
    {
     "name": "stdout",
     "output_type": "stream",
     "text": [
      "Enter a tuple: 1,2,3,6\n",
      "Enter a second tuple: 1,2,3,6\n",
      "First and second tuple is exactly equal to each other\n"
     ]
    }
   ],
   "source": [
    "#Compare two tuples\n",
    "t1=eval(input(\"Enter a tuple: \"))\n",
    "t2=eval(input(\"Enter a second tuple: \"))\n",
    "if t1>t2:\n",
    "    print(\"First element of the first tuple is grater than the first element of the second tuple\")\n",
    "elif t1<t2:\n",
    "    print(\"First element of the second tuple is grater than the first element of the first tuple\")\n",
    "elif t1==t2:\n",
    "    print(\"First and second tuple is exactly equal to each other\")"
   ]
  },
  {
   "cell_type": "code",
   "execution_count": 25,
   "id": "2506589a",
   "metadata": {},
   "outputs": [],
   "source": [
    "#Delete a tuple\n"
   ]
  },
  {
   "cell_type": "code",
   "execution_count": 26,
   "id": "18105490",
   "metadata": {},
   "outputs": [
    {
     "name": "stdout",
     "output_type": "stream",
     "text": [
      "Enter a tuple:(2,3,6,4598,54,2,1)\n",
      "Input tuple: (2, 3, 6, 4598, 54, 2, 1)\n",
      "Reverse of the input tuple using slice operator: (1, 2, 54, 4598, 6, 3, 2)\n"
     ]
    }
   ],
   "source": [
    "#Slice a tuple\n",
    "t=eval(input(\"Enter a tuple:\"))\n",
    "t1=t[::-1]\n",
    "print(\"Input tuple:\",t)\n",
    "print(\"Reverse of the input tuple using slice operator:\",t1)"
   ]
  },
  {
   "cell_type": "code",
   "execution_count": 30,
   "id": "2d391301",
   "metadata": {},
   "outputs": [
    {
     "name": "stdout",
     "output_type": "stream",
     "text": [
      "Enter a tuple: (2,11,65,44,64,121,21,212,1)\n",
      "The maximum element present in the input tuple is: 212\n"
     ]
    }
   ],
   "source": [
    "#Find the maximum value in a tuple\n",
    "t=eval(input(\"Enter a tuple: \"))\n",
    "print(\"The maximum element present in the input tuple is:\",max(t))"
   ]
  },
  {
   "cell_type": "code",
   "execution_count": 31,
   "id": "331b09b8",
   "metadata": {},
   "outputs": [
    {
     "name": "stdout",
     "output_type": "stream",
     "text": [
      "Enter a tuple: (70,5,454,21,321,41,-431,31,313,500)\n",
      "The minimum element present in the input tuple is: -431\n"
     ]
    }
   ],
   "source": [
    "#Find the minimum value in a tuple\n",
    "t=eval(input(\"Enter a tuple: \"))\n",
    "print(\"The minimum element present in the input tuple is:\",min(t))"
   ]
  },
  {
   "cell_type": "code",
   "execution_count": 32,
   "id": "bbee0855",
   "metadata": {},
   "outputs": [
    {
     "name": "stdout",
     "output_type": "stream",
     "text": [
      "Enter a string: I am learning python\n",
      "('I', ' ', 'a', 'm', ' ', 'l', 'e', 'a', 'r', 'n', 'i', 'n', 'g', ' ', 'p', 'y', 't', 'h', 'o', 'n')\n"
     ]
    }
   ],
   "source": [
    "#Convert a string to a tuple of characters\n",
    "s=input(\"Enter a string: \")\n",
    "t=tuple(s)\n",
    "print(t)"
   ]
  },
  {
   "cell_type": "code",
   "execution_count": 33,
   "id": "8a3c4e29",
   "metadata": {},
   "outputs": [
    {
     "name": "stdout",
     "output_type": "stream",
     "text": [
      "Enter atuple of chracters: ('I','am','learning','python')\n",
      "I am learning python\n"
     ]
    }
   ],
   "source": [
    "#Convert a tuple of characters to a string\n",
    "t=eval(input(\"Enter atuple of chracters: \"))\n",
    "s=\" \".join(t)\n",
    "print(s)"
   ]
  },
  {
   "cell_type": "code",
   "execution_count": 34,
   "id": "40c28935",
   "metadata": {},
   "outputs": [],
   "source": [
    "#Create a tuple from multiple data types\n"
   ]
  },
  {
   "cell_type": "code",
   "execution_count": 37,
   "id": "661fc1e1",
   "metadata": {},
   "outputs": [
    {
     "name": "stdout",
     "output_type": "stream",
     "text": [
      "Enter a tuple: 1,2,3,'Python'\n",
      "Enter a second tuple: 1,2,3,'Python'\n",
      "Both the input tuples are identical to each other\n"
     ]
    }
   ],
   "source": [
    "#Check if two tuples are identical\n",
    "t1=eval(input(\"Enter a tuple: \"))\n",
    "t2=eval(input(\"Enter a second tuple: \"))\n",
    "if t1==t2:\n",
    "    print(\"Both the input tuples are identical to each other\")\n",
    "else:\n",
    "    print(\"Input tuples are not identical\")"
   ]
  },
  {
   "cell_type": "code",
   "execution_count": 42,
   "id": "01952441",
   "metadata": {},
   "outputs": [
    {
     "name": "stdout",
     "output_type": "stream",
     "text": [
      "Enter a tuple: (4,1,12,154,51,2,474,45,44,4,1)\n",
      "Before sorting: (4, 1, 12, 154, 51, 2, 474, 45, 44, 4, 1)\n",
      "Afetr sorting in ascending order: [1, 1, 2, 4, 4, 12, 44, 45, 51, 154, 474]\n"
     ]
    }
   ],
   "source": [
    "#Sort the elements of a tuple\n",
    "t=eval(input(\"Enter a tuple: \"))\n",
    "t1=sorted(t)\n",
    "print(\"Before sorting:\",t)\n",
    "print(\"Afetr sorting in ascending order:\",t1)"
   ]
  },
  {
   "cell_type": "code",
   "execution_count": 47,
   "id": "9fb5300a",
   "metadata": {},
   "outputs": [
    {
     "name": "stdout",
     "output_type": "stream",
     "text": [
      "Enter a tuple of intergers: 5,27,6411,63,21,35\n",
      "Input tuple of integers: (5, 27, 6411, 63, 21, 35)\n",
      "Output tuple of strings: ('5', '27', '6411', '63', '21', '35')\n"
     ]
    }
   ],
   "source": [
    "#Convert a tuple of integers to a tuple of strings\n",
    "t=eval(input(\"Enter a tuple of intergers: \"))\n",
    "l=[]\n",
    "for i in t:\n",
    "    l.append(str(i))\n",
    "t1=tuple(l)\n",
    "print(\"Input tuple of integers:\",t)\n",
    "print(\"Output tuple of strings:\",t1)"
   ]
  },
  {
   "cell_type": "code",
   "execution_count": 56,
   "id": "5a892135",
   "metadata": {},
   "outputs": [
    {
     "name": "stdout",
     "output_type": "stream",
     "text": [
      "Enter a tuple of strings: ('I','learn','python')\n",
      "Input tuple of strings: ('I', 'learn', 'python')\n",
      "Output tuple of integers: (73, 108, 112)\n"
     ]
    }
   ],
   "source": [
    "#Convert a tuple of strings to a tuple of integers\n",
    "t=eval(input(\"Enter a tuple of strings: \"))\n",
    "l=[]\n",
    "for i in t:\n",
    "        l.append(ord(i[0]))\n",
    "t1=tuple(l)\n",
    "print(\"Input tuple of strings:\",t)\n",
    "print(\"Output tuple of integers:\",t1)"
   ]
  },
  {
   "cell_type": "code",
   "execution_count": 57,
   "id": "1e4016fa",
   "metadata": {},
   "outputs": [
    {
     "name": "stdout",
     "output_type": "stream",
     "text": [
      "Enter a tuple: 1,2,3,5,7\n",
      "Enter a second tuple: 'I',1,2,3\n",
      "Merged tuple is: (1, 2, 3, 5, 7, 'I', 1, 2, 3)\n"
     ]
    }
   ],
   "source": [
    "#Merge two tuples\n",
    "t1=eval(input(\"Enter a tuple: \"))\n",
    "t2=eval(input(\"Enter a second tuple: \"))\n",
    "t3=t1+t2\n",
    "print(\"Merged tuple is:\",t3)"
   ]
  },
  {
   "cell_type": "code",
   "execution_count": 61,
   "id": "53a384cd",
   "metadata": {},
   "outputs": [
    {
     "name": "stdout",
     "output_type": "stream",
     "text": [
      "Enter a nested tuple: ((1,21,4,5),(11,1,12),(21,1))\n",
      "Flatten form of the given nested tuple is: (1, 21, 4, 5, 11, 1, 12, 21, 1)\n"
     ]
    }
   ],
   "source": [
    "#Flatten a nested tuple\n",
    "t=eval(input(\"Enter a nested tuple: \"))\n",
    "l=[i  for l in t for i in l]\n",
    "t1=tuple(l)\n",
    "print(\"Flatten form of the given nested tuple is:\",t1)"
   ]
  },
  {
   "cell_type": "code",
   "execution_count": 92,
   "id": "c029bee0",
   "metadata": {},
   "outputs": [
    {
     "name": "stdout",
     "output_type": "stream",
     "text": [
      "Tuple of first 5 prime numbers is: (2, 3, 5, 7, 11)\n"
     ]
    }
   ],
   "source": [
    "#Create a tuple of the first 5 prime numbers\n",
    "t=tuple()\n",
    "num=2\n",
    "while(len(t)<5):\n",
    "    c=1\n",
    "    for i in range(2,int(m.sqrt(num)+1)):\n",
    "        if num%i==0:\n",
    "            c=0\n",
    "            break\n",
    "    if(c):\n",
    "        t=t+(num,)\n",
    "    num+=1\n",
    "print(\"Tuple of first 5 prime numbers is:\",t)"
   ]
  },
  {
   "cell_type": "code",
   "execution_count": 96,
   "id": "d202a7ba",
   "metadata": {},
   "outputs": [
    {
     "name": "stdout",
     "output_type": "stream",
     "text": [
      "Enter a tuple: 1,2,3,2,1\n",
      "Your input tuple is palindrome\n"
     ]
    }
   ],
   "source": [
    "#Check if a tuple is a palindrome\n",
    "t=eval(input(\"Enter a tuple: \"))\n",
    "t1=t[::-1]\n",
    "if t==t1:\n",
    "    print(\"Your input tuple is palindrome\")\n",
    "else:\n",
    "    print(\"Your input tuple isn't palindrome\")"
   ]
  },
  {
   "cell_type": "code",
   "execution_count": 99,
   "id": "5ac28e39",
   "metadata": {},
   "outputs": [
    {
     "name": "stdout",
     "output_type": "stream",
     "text": [
      "Tuple of squares of numbers from 1 to 5: (1, 4, 9, 16, 25)\n"
     ]
    }
   ],
   "source": [
    "#Create a tuple of squares of numbers from 1 to 5\n",
    "t=tuple()\n",
    "for i in range(1,6):\n",
    "    t=t+(i**2,)\n",
    "print(\"Tuple of squares of numbers from 1 to 5:\",t)"
   ]
  },
  {
   "cell_type": "code",
   "execution_count": 101,
   "id": "65f200d5",
   "metadata": {},
   "outputs": [
    {
     "name": "stdout",
     "output_type": "stream",
     "text": [
      "Enter a tuple: 1,2,3,5,61,4,11,20,44,5\n",
      "The even numbers present in the tuple are: \n",
      "2 4 20 44 "
     ]
    }
   ],
   "source": [
    "#Filter out all even numbers from a tuple\n",
    "t=eval(input(\"Enter a tuple: \"))\n",
    "print(\"The even numbers present in the tuple are: \")\n",
    "for i in t:\n",
    "    if i%2==0:\n",
    "        print(i,end=\" \")"
   ]
  },
  {
   "cell_type": "code",
   "execution_count": 102,
   "id": "2a3cabcf",
   "metadata": {},
   "outputs": [
    {
     "name": "stdout",
     "output_type": "stream",
     "text": [
      "Enter a tuple: 1,321,4,4,1,41,11\n",
      "Input tuple: (1, 321, 4, 4, 1, 41, 11)\n",
      "Output tuple: (2, 642, 8, 8, 2, 82, 22)\n"
     ]
    }
   ],
   "source": [
    "#Multiply all elements in a tuple by 2\n",
    "t=eval(input(\"Enter a tuple: \"))\n",
    "t1=tuple()\n",
    "for i in t:\n",
    "    t1=t1+(i*2,)\n",
    "print(\"Input tuple:\",t)\n",
    "print(\"Output tuple:\",t1)"
   ]
  },
  {
   "cell_type": "code",
   "execution_count": 113,
   "id": "553c3667",
   "metadata": {},
   "outputs": [
    {
     "name": "stdout",
     "output_type": "stream",
     "text": [
      "Enter the number of elements required: 5\n",
      "A tuple of random numbers is: (840, 637, 410, 36, 231)\n"
     ]
    }
   ],
   "source": [
    "#Create a tuple of random numbers\n",
    "import random\n",
    "n=int(input(\"Enter the number of elements required: \"))\n",
    "t=tuple()\n",
    "for i in range(n):\n",
    "    t=t+(random.randint(1,1000),)\n",
    "print(\"A tuple of random numbers is:\",t)"
   ]
  },
  {
   "cell_type": "code",
   "execution_count": 119,
   "id": "e6e7e9a0",
   "metadata": {},
   "outputs": [
    {
     "name": "stdout",
     "output_type": "stream",
     "text": [
      "Enter a tuple: 1,2,5,6,41\n",
      "Your input tuple is sorted in ascending order\n"
     ]
    }
   ],
   "source": [
    "#Check if a tuple is sorted\n",
    "t=eval(input(\"Enter a tuple: \"))\n",
    "t1=tuple(sorted(t))\n",
    "t2=tuple(sorted(t,reverse=True))\n",
    "if t==t1:\n",
    "    print(\"Your input tuple is sorted in ascending order\")\n",
    "elif t==t2:\n",
    "    print(\"Your input tuple is sorted in descending order\")\n",
    "else:\n",
    "    print(\"Your input tuple isn't sorted\")"
   ]
  },
  {
   "cell_type": "code",
   "execution_count": 128,
   "id": "9ea2093b",
   "metadata": {},
   "outputs": [
    {
     "name": "stdout",
     "output_type": "stream",
     "text": [
      "Enter a tuple of elements: 9,4,3,2,5\n",
      "Enter the number of positions you want to left shift the tuple elements: 3\n",
      "Input tuple: (9, 4, 3, 2, 5)\n",
      "Output tuple: (2, 5, 9, 4, 3)\n"
     ]
    }
   ],
   "source": [
    "#Rotate a tuple to the left by `n` positions\n",
    "t=eval(input(\"Enter a tuple of elements: \"))\n",
    "l=list(t)\n",
    "n=int(input(\"Enter the number of positions you want to left shift the tuple elements: \"))\n",
    "for i in range(n):\n",
    "    for j in range(len(l)-1,0,-1):\n",
    "        temp=l[0]\n",
    "        l[0]=l[j]\n",
    "        l[j]=temp\n",
    "t1=tuple(l)\n",
    "print(\"Input tuple:\",t)\n",
    "print(\"Output tuple:\",t1)"
   ]
  },
  {
   "cell_type": "code",
   "execution_count": 129,
   "id": "d22fa6f9",
   "metadata": {},
   "outputs": [
    {
     "name": "stdout",
     "output_type": "stream",
     "text": [
      "Enter a tuple of elements: 9,4,3,2,5\n",
      "Enter the number of positions you want to right shift the tuple elements: 3\n",
      "Input tuple: (9, 4, 3, 2, 5)\n",
      "Output tuple: (3, 2, 5, 9, 4)\n"
     ]
    }
   ],
   "source": [
    "#Rotate a tuple to the right by `n` positions\n",
    "t=eval(input(\"Enter a tuple of elements: \"))\n",
    "l=list(t)\n",
    "n=int(input(\"Enter the number of positions you want to right shift the tuple elements: \"))\n",
    "for i in range(n):\n",
    "    for j in range(1,len(l)):\n",
    "        temp=l[0]\n",
    "        l[0]=l[j]\n",
    "        l[j]=temp\n",
    "t1=tuple(l)\n",
    "print(\"Input tuple:\",t)\n",
    "print(\"Output tuple:\",t1)"
   ]
  },
  {
   "cell_type": "code",
   "execution_count": 132,
   "id": "742c2fff",
   "metadata": {},
   "outputs": [
    {
     "name": "stdout",
     "output_type": "stream",
     "text": [
      "tuple of the first 5 Fibonacci numbers: (0, 1, 1, 2, 3)\n"
     ]
    }
   ],
   "source": [
    "#Create a tuple of the first 5 Fibonacci numbers\n",
    "t=(0,1)\n",
    "for i in range(5-2):\n",
    "    t=t+(t[i]+t[i+1],)\n",
    "print(\"tuple of the first 5 Fibonacci numbers:\",t)"
   ]
  },
  {
   "cell_type": "code",
   "execution_count": 133,
   "id": "458555d2",
   "metadata": {},
   "outputs": [
    {
     "name": "stdout",
     "output_type": "stream",
     "text": [
      "Enter the number of elements required: 5\n",
      "Enter element no.1: 1\n",
      "Enter element no.2: 2\n",
      "Enter element no.3: 3\n",
      "Enter element no.4: java\n",
      "Enter element no.5: python\n",
      "Your input tuple is: (1, 2, 3, 'java', 'python')\n"
     ]
    }
   ],
   "source": [
    "#Create a tuple from user input\n",
    "t=tuple()\n",
    "n=int(input(\"Enter the number of elements required: \"))\n",
    "for i in range(n):\n",
    "    item=input(f\"Enter element no.{i+1}: \")\n",
    "    if item.isdigit():\n",
    "        t=t+(int(item),)\n",
    "    else:\n",
    "        t=t+(item,)\n",
    "print(\"Your input tuple is:\",t)"
   ]
  },
  {
   "cell_type": "code",
   "execution_count": 3,
   "id": "a3ef8311",
   "metadata": {},
   "outputs": [
    {
     "name": "stdout",
     "output_type": "stream",
     "text": [
      "Enter a tuple of elements: 9,4,5,3,2\n",
      "Enter two indices with in the tuple: 1 4\n",
      "Before swapping: (9, 4, 5, 3, 2)\n",
      "After swapping: (9, 2, 5, 3, 4)\n"
     ]
    }
   ],
   "source": [
    "#Swap two elements in a tuple\n",
    "t=eval(input(\"Enter a tuple of elements: \"))\n",
    "l=list(t)\n",
    "a,b=map(int,input(\"Enter two indices with in the tuple: \").split())\n",
    "if 0<=a<len(l) and 0<=b<len(l):\n",
    "    temp=l[a]\n",
    "    l[a]=l[b]\n",
    "    l[b]=temp\n",
    "else:\n",
    "    print(\"Indices are out of bound\")\n",
    "t1=tuple(l)\n",
    "print(\"Before swapping:\",t)\n",
    "print(\"After swapping:\",t1)"
   ]
  },
  {
   "cell_type": "code",
   "execution_count": 9,
   "id": "f2c87f0d",
   "metadata": {},
   "outputs": [
    {
     "name": "stdout",
     "output_type": "stream",
     "text": [
      "Enter a tuple of elements: 9,4,5,3,2\n",
      "Initial tuple: (9, 4, 5, 3, 2)\n",
      "Final tuple: (2, 3, 5, 4, 9)\n"
     ]
    }
   ],
   "source": [
    "#Reverse the elements of a tuple\n",
    "t=eval(input(\"Enter a tuple of elements: \"))\n",
    "l=list(t)\n",
    "l.reverse()\n",
    "t1=tuple(l)\n",
    "print(\"Initial tuple:\",t)\n",
    "print(\"Final tuple:\",t1)"
   ]
  },
  {
   "cell_type": "code",
   "execution_count": 11,
   "id": "71704bcb",
   "metadata": {},
   "outputs": [
    {
     "name": "stdout",
     "output_type": "stream",
     "text": [
      "Enter the value of `n`: 10\n",
      "(1, 2, 4, 8, 16, 32, 64, 128, 256, 512)\n"
     ]
    }
   ],
   "source": [
    "#Create a tuple of the first `n` powers of 2\n",
    "t=tuple()\n",
    "n=int(input(\"Enter the value of `n`: \"))\n",
    "for i in range(n):\n",
    "    t=t+(2**i,)\n",
    "print(t)"
   ]
  },
  {
   "cell_type": "code",
   "execution_count": 22,
   "id": "2e13387f",
   "metadata": {},
   "outputs": [
    {
     "name": "stdout",
     "output_type": "stream",
     "text": [
      "Enter the number of string elements required: 5\n",
      "Enter element no.1: I\n",
      "Enter element no.2: love\n",
      "Enter element no.3: python\n",
      "Enter element no.4: and\n",
      "Enter element no.5: java\n",
      "Longest string present is: 'python' and its length is 6\n"
     ]
    }
   ],
   "source": [
    "#Find the longest string in a tuple of strings\n",
    "t=tuple()\n",
    "n=int(input(\"Enter the number of string elements required: \"))\n",
    "for i in range(n):\n",
    "    t=t+(input(f\"Enter element no.{i+1}: \"),)\n",
    "lock,m=0,len(t[0])\n",
    "for i in range(len(t)):\n",
    "    if m<len(t[i]):\n",
    "        lock=i\n",
    "        m=len(t[i])\n",
    "print(f\"Longest string present is: '{t[lock]}' and its length is {m}\")"
   ]
  },
  {
   "cell_type": "code",
   "execution_count": 24,
   "id": "77221479",
   "metadata": {},
   "outputs": [
    {
     "name": "stdout",
     "output_type": "stream",
     "text": [
      "Enter the number of string elements required: 5\n",
      "Enter element no.1: Hi\n",
      "Enter element no.2: I\n",
      "Enter element no.3: am\n",
      "Enter element no.4: learning\n",
      "Enter element no.5: python\n",
      "Shortest string present is: 'I' and its length is 1\n"
     ]
    }
   ],
   "source": [
    "#Find the shortest string in a tuple of strings\n",
    "t=tuple()\n",
    "n=int(input(\"Enter the number of string elements required: \"))\n",
    "for i in range(n):\n",
    "    t=t+(input(f\"Enter element no.{i+1}: \"),)\n",
    "lock,m=0,len(t[0])\n",
    "for i in range(len(t)):\n",
    "    if m>len(t[i]):\n",
    "        lock=i\n",
    "        m=len(t[i])\n",
    "print(f\"Shortest string present is: '{t[lock]}' and its length is {m}\")"
   ]
  },
  {
   "cell_type": "code",
   "execution_count": 1,
   "id": "11f0164b",
   "metadata": {},
   "outputs": [
    {
     "name": "stdout",
     "output_type": "stream",
     "text": [
      "Enter the value of `n`: 10\n",
      "Tuple of first 10 triangular number is: (1, 3, 6, 10, 15, 21, 28, 36, 45, 55)\n"
     ]
    }
   ],
   "source": [
    "#Create a tuple of the first `n` triangular numbers\n",
    "t=(1,)\n",
    "n=int(input(\"Enter the value of `n`: \"))\n",
    "j=2\n",
    "for i in range(1,n):\n",
    "    t=t+(t[i-1]+j,)\n",
    "    j+=1\n",
    "print(f\"Tuple of first {n} triangular number is: {t}\")"
   ]
  },
  {
   "cell_type": "code",
   "execution_count": 7,
   "id": "f56f95fa",
   "metadata": {},
   "outputs": [
    {
     "name": "stdout",
     "output_type": "stream",
     "text": [
      "Input a tuple: ((1,2,3),1,2,3,(21,23))\n",
      "Your input tuple contains 2 tuple(s) as subsequence\n"
     ]
    }
   ],
   "source": [
    "#Check if a tuple contains another tuple as a subsequence\n",
    "t=eval(input(\"Input a tuple: \"))\n",
    "flag,count=False,0\n",
    "for i in t:\n",
    "    if type(i)==type(tuple()):\n",
    "        flag=True\n",
    "        count+=1\n",
    "if(flag):\n",
    "    print(f\"Your input tuple contains {count} tuple(s) as subsequence\")\n",
    "else:\n",
    "    print(\"Your input tuple doesn't contain any tuple as a subsequence.\")"
   ]
  },
  {
   "cell_type": "code",
   "execution_count": 8,
   "id": "0d814f9b",
   "metadata": {},
   "outputs": [
    {
     "name": "stdout",
     "output_type": "stream",
     "text": [
      "Enter a value of n: 10\n",
      "tuple of alternating 1s and 0s of length 10 is: (1, 0, 1, 0, 1, 0, 1, 0, 1, 0)\n"
     ]
    }
   ],
   "source": [
    "#Create a tuple of alternating 1s and 0s of length `n`\n",
    "n=int(input(\"Enter a value of n: \"))\n",
    "t=tuple()\n",
    "for i in range(n):\n",
    "    if i%2==0:\n",
    "        t=t+(1,)\n",
    "    else:\n",
    "        t=t+(0,)\n",
    "print(f\"tuple of alternating 1s and 0s of length {n} is:\",t)"
   ]
  },
  {
   "cell_type": "code",
   "execution_count": null,
   "id": "0e385af8",
   "metadata": {},
   "outputs": [],
   "source": []
  }
 ],
 "metadata": {
  "kernelspec": {
   "display_name": "Python 3 (ipykernel)",
   "language": "python",
   "name": "python3"
  },
  "language_info": {
   "codemirror_mode": {
    "name": "ipython",
    "version": 3
   },
   "file_extension": ".py",
   "mimetype": "text/x-python",
   "name": "python",
   "nbconvert_exporter": "python",
   "pygments_lexer": "ipython3",
   "version": "3.11.4"
  }
 },
 "nbformat": 4,
 "nbformat_minor": 5
}
