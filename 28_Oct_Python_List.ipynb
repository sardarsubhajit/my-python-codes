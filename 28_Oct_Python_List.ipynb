{
 "cells": [
  {
   "cell_type": "code",
   "execution_count": 3,
   "id": "358f6444",
   "metadata": {},
   "outputs": [
    {
     "name": "stdout",
     "output_type": "stream",
     "text": [
      "Contents of the list: [1, 2, 3, 4, 5, 6, 7, 8, 9, 10]\n"
     ]
    }
   ],
   "source": [
    "#Create a list with integers from 1 to 10\n",
    "l=list(range(1,11))\n",
    "print(\"Contents of the list:\",l)"
   ]
  },
  {
   "cell_type": "code",
   "execution_count": 4,
   "id": "7ac6cad9",
   "metadata": {},
   "outputs": [
    {
     "name": "stdout",
     "output_type": "stream",
     "text": [
      "Enter a list of items: [1,2,3,4,5,'subho','sardar']\n",
      "Length of the list is: 7\n"
     ]
    }
   ],
   "source": [
    "#Find the length of a list without using the `len()` function\n",
    "l=eval(input(\"Enter a list of items: \"))\n",
    "c=0\n",
    "for i in l:\n",
    "   c+=1\n",
    "print(\"Length of the list is:\",c)"
   ]
  },
  {
   "cell_type": "code",
   "execution_count": 12,
   "id": "386fe2ba",
   "metadata": {},
   "outputs": [
    {
     "name": "stdout",
     "output_type": "stream",
     "text": [
      "Enter a list of items: [1,2,3,4,'python']\n",
      "Initial lis: [1, 2, 3, 4, 'python']\n",
      "Enter the new item you want to add to your exixting list: is easy\n",
      "Final list: [1, 2, 3, 4, 'python', 'is easy']\n"
     ]
    }
   ],
   "source": [
    "#Append an element to the end of a list\n",
    "l=eval(input(\"Enter a list of items: \"))\n",
    "print(\"Initial lis:\",l)\n",
    "item=input(\"Enter the new item you want to add to your exixting list: \")\n",
    "if item.isdigit():\n",
    "    l.append(int(item))\n",
    "elif item.isspace() or item==\"\":\n",
    "    print(\"No input!\")\n",
    "else:\n",
    "    l.append(item)\n",
    "print(\"Final list:\",l)"
   ]
  },
  {
   "cell_type": "code",
   "execution_count": 13,
   "id": "d1a9d492",
   "metadata": {},
   "outputs": [
    {
     "name": "stdout",
     "output_type": "stream",
     "text": [
      "Enter the number of elements required: 5\n",
      "Enter element no.1: 10\n",
      "Enter element no.2: 20\n",
      "Enter element no.3: 30\n",
      "Enter element no.4: 40\n",
      "Enter element no.5: python\n",
      "Initial list: [10, 20, 30, 40, 'python']\n",
      "Enter a new element that you want to add to the existing list: java\n",
      "Enter your desired position in the list: 3\n",
      "Final list: [10, 20, 'java', 30, 40, 'python']\n"
     ]
    }
   ],
   "source": [
    "#Insert an element at a specific index in a list\n",
    "l=[]\n",
    "n=int(input(\"Enter the number of elements required: \"))\n",
    "for i in range(n):\n",
    "    item=input(f\"Enter element no.{i+1}: \")\n",
    "    if item.isdigit():\n",
    "        l.append(int(item))\n",
    "    else:\n",
    "        l.append(item)\n",
    "print(\"Initial list:\",l)\n",
    "item=input(\"Enter a new element that you want to add to the existing list: \")\n",
    "index=int(input(\"Enter your desired position in the list: \"))\n",
    "if item.isdigit():\n",
    "    l.insert(index-1,int(item))\n",
    "else:\n",
    "    l.insert(index-1,item)\n",
    "print(\"Final list:\",l)"
   ]
  },
  {
   "cell_type": "code",
   "execution_count": 16,
   "id": "36a314e8",
   "metadata": {},
   "outputs": [
    {
     "name": "stdout",
     "output_type": "stream",
     "text": [
      "Enter the number of elements required: 5\n",
      "Enter element no.1: 10\n",
      "Enter element no.2: 20\n",
      "Enter element no.3: 30\n",
      "Enter element no.4: 40\n",
      "Enter element no.5: python\n",
      "Initial list: [10, 20, 30, 40, 'python']\n",
      "Enter the item you want to remove from the list: 30\n",
      "Final list: [10, 20, 40, 'python']\n"
     ]
    }
   ],
   "source": [
    "#Remove an element from a list by its value\n",
    "l=[]\n",
    "n=int(input(\"Enter the number of elements required: \"))\n",
    "for i in range(n):\n",
    "    item=input(f\"Enter element no.{i+1}: \")\n",
    "    if item.isdigit():\n",
    "        l.append(int(item))\n",
    "    else:\n",
    "        l.append(item)\n",
    "print(\"Initial list:\",l)\n",
    "item=input(\"Enter the item you want to remove from the list: \")\n",
    "if item.isdigit():\n",
    "    item=int(item)\n",
    "if item in l:\n",
    "    l.remove(item)\n",
    "    print(\"Final list:\",l)\n",
    "else:\n",
    "    print(f\"{item} is not present in the given list.\")"
   ]
  },
  {
   "cell_type": "code",
   "execution_count": 19,
   "id": "d62a4fc7",
   "metadata": {},
   "outputs": [
    {
     "name": "stdout",
     "output_type": "stream",
     "text": [
      "Enter the number of elements required: 5\n",
      "Enter element no.1: 10\n",
      "Enter element no.2: 20\n",
      "Enter element no.3: 30\n",
      "Enter element no.4: 40\n",
      "Enter element no.5: python\n",
      "Initial list: [10, 20, 30, 40, 'python']\n",
      "Enter the position of the element that you want to remove from the list: 5\n",
      "Final list: [10, 20, 30, 40]\n"
     ]
    }
   ],
   "source": [
    "#Remove an element from a list by its index\n",
    "l=[]\n",
    "n=int(input(\"Enter the number of elements required: \"))\n",
    "for i in range(n):\n",
    "    item=input(f\"Enter element no.{i+1}: \")\n",
    "    if item.isdigit():\n",
    "        l.append(int(item))\n",
    "    else:\n",
    "        l.append(item)\n",
    "print(\"Initial list:\",l)\n",
    "index=int(input(\"Enter the position of the element that you want to remove from the list: \"))\n",
    "if index>len(l) or index<0:\n",
    "    print(\"Given index value is out of bound in the given list!\")\n",
    "else:\n",
    "    l.remove(l[index-1])\n",
    "    print(\"Final list:\",l)"
   ]
  },
  {
   "cell_type": "code",
   "execution_count": 22,
   "id": "88e0dbdc",
   "metadata": {},
   "outputs": [
    {
     "name": "stdout",
     "output_type": "stream",
     "text": [
      "Enter the number of elements required: 5\n",
      "Enter element no.1: 10\n",
      "Enter element no.2: 20\n",
      "Enter element no.3: 30\n",
      "Enter element no.4: 40\n",
      "Enter element no.5: 50\n",
      "Enter the element you are searching for: 40\n",
      "40 is present in the given list\n"
     ]
    }
   ],
   "source": [
    "#Check if an element exists in a list\n",
    "l=[]\n",
    "n=int(input(\"Enter the number of elements required: \"))\n",
    "for i in range(n):\n",
    "    item=input(f\"Enter element no.{i+1}: \")\n",
    "    if item.isdigit():\n",
    "        l.append(int(item))\n",
    "    else:\n",
    "        l.append(item)\n",
    "item=input(\"Enter the element you are searching for: \")\n",
    "if item.isdigit():\n",
    "    item=int(item)\n",
    "if item in l:\n",
    "    print(f\"{item} is present in the given list\")\n",
    "else:\n",
    "     print(f\"{item} isn't present in the given list\")"
   ]
  },
  {
   "cell_type": "code",
   "execution_count": 3,
   "id": "7d853fa9",
   "metadata": {},
   "outputs": [
    {
     "name": "stdout",
     "output_type": "stream",
     "text": [
      "Enter the number of required elements: 5\n",
      "Enter element no.1: 10\n",
      "Enter element no.2: 20\n",
      "Enter element no.3: 30\n",
      "Enter element no.4: python\n",
      "Enter element no.5: java\n",
      "Enter the element you are searching: python\n",
      "python is found at index: 3\n"
     ]
    }
   ],
   "source": [
    "#Find the index of the first occurrence of an element in a list\n",
    "l=[]\n",
    "n=int(input(\"Enter the number of required elements: \"))\n",
    "for i in range(n):\n",
    "    item=input(f\"Enter element no.{i+1}: \")\n",
    "    if item.isdigit():\n",
    "        l.append(int(item))\n",
    "    else:\n",
    "        l.append(item)\n",
    "item=input(\"Enter the element you are searching: \")\n",
    "if item.isdigit():\n",
    "    item=int(item)\n",
    "flag=False\n",
    "for i in range(n):\n",
    "    if item==l[i]:\n",
    "        print(f\"{item} is found at index: {i}\")\n",
    "        flag=True\n",
    "        break\n",
    "if not flag:\n",
    "    print(f\"{item} is not present in the given list.\")"
   ]
  },
  {
   "cell_type": "code",
   "execution_count": 10,
   "id": "13b28403",
   "metadata": {},
   "outputs": [
    {
     "name": "stdout",
     "output_type": "stream",
     "text": [
      "Enter the number of required elements: 5\n",
      "Enter element no.1: 10\n",
      "Enter element no.2: 20\n",
      "Enter element no.3: 30\n",
      "Enter element no.4: python\n",
      "Enter element no.5: 20\n",
      "Enter the element you are searching: 20\n",
      "Occurence of the 20 in the list is: 2\n"
     ]
    }
   ],
   "source": [
    "#Count the occurrences of an element in a list\n",
    "l=[]\n",
    "n=int(input(\"Enter the number of required elements: \"))\n",
    "for i in range(n):\n",
    "    item=input(f\"Enter element no.{i+1}: \")\n",
    "    if item.isdigit():\n",
    "        l.append(int(item))\n",
    "    else:\n",
    "        l.append(item)\n",
    "item=input(\"Enter the element you are searching: \")\n",
    "if item.isdigit():\n",
    "    item=int(item)\n",
    "print(f\"Occurence of the {item} in the list is: {l.count(item)}\")"
   ]
  },
  {
   "cell_type": "code",
   "execution_count": 8,
   "id": "43a29fa1",
   "metadata": {},
   "outputs": [
    {
     "name": "stdout",
     "output_type": "stream",
     "text": [
      "Enter the number of required elements: 5\n",
      "Enter element no.1: 10\n",
      "Enter element no.2: 20\n",
      "Enter element no.3: 30\n",
      "Enter element no.4: java\n",
      "Enter element no.5: python\n",
      "Reverse of the given list is: ['python', 'java', 30, 20, 10]\n"
     ]
    }
   ],
   "source": [
    "#Reverse the order of elements in a list\n",
    "l=[]\n",
    "n=int(input(\"Enter the number of required elements: \"))\n",
    "for i in range(n):\n",
    "    item=input(f\"Enter element no.{i+1}: \")\n",
    "    if item.isdigit():\n",
    "        l.append(int(item))\n",
    "    else:\n",
    "        l.append(item)\n",
    "l1=[]\n",
    "l1=l[::-1]\n",
    "print(\"Reverse of the given list is:\",l1)"
   ]
  },
  {
   "cell_type": "code",
   "execution_count": 11,
   "id": "5a760030",
   "metadata": {},
   "outputs": [
    {
     "name": "stdout",
     "output_type": "stream",
     "text": [
      "Enter the number of required elements: 5\n",
      "Enter element no.1: 25\n",
      "Enter element no.2: 10\n",
      "Enter element no.3: python\n",
      "Enter element no.4: 12\n",
      "Enter element no.5: java\n",
      "Before sorting: [25, 10, 'python', 12, 'java']\n",
      "After sorting: [10, 12, 25, 'java', 'python']\n"
     ]
    }
   ],
   "source": [
    "#Sort a list in ascending order\n",
    "l=[]\n",
    "l1=[]\n",
    "l2=[]\n",
    "n=int(input(\"Enter the number of required elements: \"))\n",
    "for i in range(n):\n",
    "    item=input(f\"Enter element no.{i+1}: \")\n",
    "    if item.isdigit():\n",
    "        l1.append(int(item))\n",
    "        l.append(int(item))\n",
    "    else:\n",
    "        l2.append(item)\n",
    "        l.append(item)\n",
    "l1.sort()\n",
    "l2.sort()\n",
    "l1.extend(l2)\n",
    "print(\"Before sorting:\",l)\n",
    "print(\"After sorting:\",l1)"
   ]
  },
  {
   "cell_type": "code",
   "execution_count": 13,
   "id": "7a95041d",
   "metadata": {},
   "outputs": [
    {
     "name": "stdout",
     "output_type": "stream",
     "text": [
      "Enter the number of required elements: 5\n",
      "Enter element no.1: 3\n",
      "Enter element no.2: java\n",
      "Enter element no.3: 15\n",
      "Enter element no.4: 17\n",
      "Enter element no.5: python\n",
      "Before sorting: [3, 'java', 15, 17, 'python']\n",
      "After sorting: [17, 15, 3, 'python', 'java']\n"
     ]
    }
   ],
   "source": [
    "#Sort a list in descending order\n",
    "l=[]\n",
    "l1=[]\n",
    "l2=[]\n",
    "n=int(input(\"Enter the number of required elements: \"))\n",
    "for i in range(n):\n",
    "    item=input(f\"Enter element no.{i+1}: \")\n",
    "    if item.isdigit():\n",
    "        l1.append(int(item))\n",
    "        l.append(int(item))\n",
    "    else:\n",
    "        l2.append(item)\n",
    "        l.append(item)\n",
    "l1.sort(reverse=True)\n",
    "l2.sort(reverse=True)\n",
    "l1.extend(l2)\n",
    "print(\"Before sorting:\",l)\n",
    "print(\"After sorting:\",l1)"
   ]
  },
  {
   "cell_type": "code",
   "execution_count": 14,
   "id": "6e563c9a",
   "metadata": {},
   "outputs": [
    {
     "name": "stdout",
     "output_type": "stream",
     "text": [
      "Your desired list: [2, 4, 6, 8, 10, 12, 14, 16, 18, 20]\n"
     ]
    }
   ],
   "source": [
    "#Create a list of even numbers from 1 to 20\n",
    "l=[i for i in range(1,21) if i%2==0]\n",
    "print(\"Your desired list:\",l)"
   ]
  },
  {
   "cell_type": "code",
   "execution_count": 15,
   "id": "66524a90",
   "metadata": {},
   "outputs": [
    {
     "name": "stdout",
     "output_type": "stream",
     "text": [
      "Your desired list: [1, 3, 5, 7, 9, 11, 13, 15, 17, 19]\n"
     ]
    }
   ],
   "source": [
    "#Create a list of odd numbers from 1 to 20\n",
    "l=[i for i in range(1,21) if i%2!=0]\n",
    "print(\"Your desired list:\",l)"
   ]
  },
  {
   "cell_type": "code",
   "execution_count": 16,
   "id": "5e107b4f",
   "metadata": {},
   "outputs": [
    {
     "name": "stdout",
     "output_type": "stream",
     "text": [
      "Enter the number of elements required: 5\n",
      "Enter element no.1: 13\n",
      "Enter element no.2: 17\n",
      "Enter element no.3: 19\n",
      "Enter element no.4: 83\n",
      "Enter element no.5: 151\n",
      "Sum of all the given list items is: 283\n"
     ]
    }
   ],
   "source": [
    "#Find the sum of all elements in a list\n",
    "l=[]\n",
    "n=int(input(\"Enter the number of elements required: \"))\n",
    "s=0\n",
    "for i in range(n):\n",
    "    l.append(int(input(f\"Enter element no.{i+1}: \")))\n",
    "    s+=l[i]\n",
    "print(\"Sum of all the given list items is:\",s)"
   ]
  },
  {
   "cell_type": "code",
   "execution_count": 17,
   "id": "4c2e9076",
   "metadata": {},
   "outputs": [
    {
     "name": "stdout",
     "output_type": "stream",
     "text": [
      "Enter the number of elements required: 5\n",
      "Enter element no.1: 19\n",
      "Enter element no.2: 17\n",
      "Enter element no.3: 83\n",
      "Enter element no.4: 151\n",
      "Enter element no.5: 13\n",
      "The maximum list item present in the given list is: 151\n"
     ]
    }
   ],
   "source": [
    "#Find the maximum value in a list\n",
    "l=[]\n",
    "n=int(input(\"Enter the number of elements required: \"))\n",
    "\n",
    "for i in range(n):\n",
    "    l.append(int(input(f\"Enter element no.{i+1}: \")))\n",
    "m=l[0]\n",
    "for i in l:\n",
    "    if m<i:\n",
    "        m=i\n",
    "print(\"The maximum list item present in the given list is:\",m)"
   ]
  },
  {
   "cell_type": "code",
   "execution_count": 18,
   "id": "d3e140ed",
   "metadata": {},
   "outputs": [
    {
     "name": "stdout",
     "output_type": "stream",
     "text": [
      "Enter the number of elements required: 5\n",
      "Enter element no.1: 19\n",
      "Enter element no.2: 17\n",
      "Enter element no.3: 72\n",
      "Enter element no.4: 141\n",
      "Enter element no.5: 13\n",
      "The minimum list item present in the given list is: 13\n"
     ]
    }
   ],
   "source": [
    "#Find the minimum value in a list\n",
    "l=[]\n",
    "n=int(input(\"Enter the number of elements required: \"))\n",
    "for i in range(n):\n",
    "    l.append(int(input(f\"Enter element no.{i+1}: \")))\n",
    "m=l[0]\n",
    "for i in l:\n",
    "    if m>i:\n",
    "        m=i\n",
    "print(\"The minimum list item present in the given list is:\",m)"
   ]
  },
  {
   "cell_type": "code",
   "execution_count": 19,
   "id": "d22ab703",
   "metadata": {},
   "outputs": [
    {
     "name": "stdout",
     "output_type": "stream",
     "text": [
      "Your desired list is: [1, 4, 9, 16, 25, 36, 49, 64, 81, 100]\n"
     ]
    }
   ],
   "source": [
    "#Create a list of squares of numbers from 1 to 10\n",
    "l=[i**2 for i in range(1,11)]\n",
    "print(\"Your desired list is:\",l)"
   ]
  },
  {
   "cell_type": "code",
   "execution_count": 20,
   "id": "3c70785c",
   "metadata": {},
   "outputs": [
    {
     "name": "stdout",
     "output_type": "stream",
     "text": [
      "Enter the number of elements required: 6\n",
      "Enter element no.1: 18\n",
      "Enter element no.2: 16\n",
      "Enter element no.3: 15\n",
      "Enter element no.4: 46\n",
      "Enter element no.5: 15\n",
      "Enter element no.6: 21\n",
      "Your input list is: [18, 16, 15, 46, 15, 21]\n"
     ]
    }
   ],
   "source": [
    "#Create a list of random numbers\n",
    "l=[]\n",
    "n=int(input(\"Enter the number of elements required: \"))\n",
    "for i in range(n):\n",
    "    l.append(int(input(f\"Enter element no.{i+1}: \")))\n",
    "print(\"Your input list is:\",l)"
   ]
  },
  {
   "cell_type": "code",
   "execution_count": 22,
   "id": "7a000444",
   "metadata": {},
   "outputs": [
    {
     "name": "stdout",
     "output_type": "stream",
     "text": [
      "Enter the number of elements required: 10\n",
      "Enter element no.1: 10\n",
      "Enter element no.2: 20\n",
      "Enter element no.3: 10\n",
      "Enter element no.4: 30\n",
      "Enter element no.5: 10\n",
      "Enter element no.6: py\n",
      "Enter element no.7: py\n",
      "Enter element no.8: jv\n",
      "Enter element no.9: p\n",
      "Enter element no.10: j\n",
      "[10, 20, 30, 'py', 'jv', 'p', 'j']\n"
     ]
    }
   ],
   "source": [
    "#Remove duplicates from a list\n",
    "l=[]\n",
    "n=int(input(\"Enter the number of elements required: \"))\n",
    "for i in range(n):\n",
    "    item=input(f\"Enter element no.{i+1}: \")\n",
    "    if item.isdigit():\n",
    "        l.append(int(item))\n",
    "    else:\n",
    "        l.append(item)\n",
    "unique=[]\n",
    "for i in l:\n",
    "    if i not in unique:\n",
    "        unique.append(i)\n",
    "print(unique)"
   ]
  },
  {
   "cell_type": "code",
   "execution_count": 3,
   "id": "00e2c8c5",
   "metadata": {},
   "outputs": [
    {
     "name": "stdout",
     "output_type": "stream",
     "text": [
      "Enter the number of elements required for the first list: 5\n",
      "Enter element no.1: 5\n",
      "Enter element no.2: 5\n",
      "Enter element no.3: 5\n",
      "Enter element no.4: 5\n",
      "Enter element no.5: 7\n",
      "Enter the number of elements required for the first list: 4\n",
      "Enter element no.1: 5\n",
      "Enter element no.2: 7\n",
      "Enter element no.3: 7\n",
      "Enter element no.4: 5\n",
      "First list: [5, 5, 5, 5, 7]\n",
      "Second list: [5, 7, 7, 5]\n",
      "The common elements between the two lists: [5, 7]\n"
     ]
    }
   ],
   "source": [
    "#Find the common elements between two lists\n",
    "l1=[]\n",
    "l2=[]\n",
    "n1=int(input(\"Enter the number of elements required for the first list: \"))\n",
    "for i in range(n1):\n",
    "    l1.append(int(input(f\"Enter element no.{i+1}: \")))\n",
    "n2=int(input(\"Enter the number of elements required for the first list: \"))\n",
    "for i in range(n2):\n",
    "    l2.append(int(input(f\"Enter element no.{i+1}: \")))\n",
    "print(\"First list:\",l1)\n",
    "print(\"Second list:\",l2)\n",
    "l3=[]\n",
    "for i in l1:\n",
    "    if i in l2 and i not in l3:\n",
    "        l3.append(i)\n",
    "print(\"The common elements between the two lists:\",l3)"
   ]
  },
  {
   "cell_type": "code",
   "execution_count": 6,
   "id": "6ff83d44",
   "metadata": {},
   "outputs": [
    {
     "name": "stdout",
     "output_type": "stream",
     "text": [
      "Enter the number of elements required for the first list: 5\n",
      "Enter element no.1: 5\n",
      "Enter element no.2: 8\n",
      "Enter element no.3: 5\n",
      "Enter element no.4: 9\n",
      "Enter element no.5: 2\n",
      "Enter the number of elements required for the first list: 6\n",
      "Enter element no.1: 7\n",
      "Enter element no.2: 5\n",
      "Enter element no.3: 7\n",
      "Enter element no.4: 9\n",
      "Enter element no.5: 3\n",
      "Enter element no.6: 6\n",
      "First list: [5, 8, 5, 9, 2]\n",
      "Second list: [7, 5, 7, 9, 3, 6]\n",
      "Difference between the to lists: [8, 2, 7, 3, 6]\n"
     ]
    }
   ],
   "source": [
    "#Find the difference between two lists\n",
    "l1=[]\n",
    "l2=[]\n",
    "n1=int(input(\"Enter the number of elements required for the first list: \"))\n",
    "for i in range(n1):\n",
    "    l1.append(int(input(f\"Enter element no.{i+1}: \")))\n",
    "n2=int(input(\"Enter the number of elements required for the first list: \"))\n",
    "for i in range(n2):\n",
    "    l2.append(int(input(f\"Enter element no.{i+1}: \")))\n",
    "print(\"First list:\",l1)\n",
    "print(\"Second list:\",l2)\n",
    "l3=[]\n",
    "for i in l1:\n",
    "    if i not in l2 and i not in l3:\n",
    "        l3.append(i)\n",
    "for j in l2:\n",
    "    if j not in l1 and j not in l3:\n",
    "        l3.append(j)\n",
    "print(\"Difference between the to lists:\",l3)"
   ]
  },
  {
   "cell_type": "code",
   "execution_count": 8,
   "id": "111ececa",
   "metadata": {},
   "outputs": [
    {
     "name": "stdout",
     "output_type": "stream",
     "text": [
      "Enter the number of required elements: 5\n",
      "Enter element no.1: 1\n",
      "Enter element no.2: 2\n",
      "Enter element no.3: 3\n",
      "Enter element no.4: 4\n",
      "Enter element no.5: I\n",
      "Enter the number of required elements: 4\n",
      "Enter element no.1: love\n",
      "Enter element no.2: python\n",
      "Enter element no.3: so much\n",
      "Enter element no.4: .\n",
      "Final list after merger: [1, 2, 3, 4, 'I', 'love', 'python', 'so much', '.']\n"
     ]
    }
   ],
   "source": [
    "#Merge two lists\n",
    "l1=[]\n",
    "n1=int(input(\"Enter the number of required elements: \"))\n",
    "for i in range(n1):\n",
    "    item=input(f\"Enter element no.{i+1}: \")\n",
    "    if item.isdigit():\n",
    "        l1.append(int(item))\n",
    "    else:\n",
    "        l1.append(item)\n",
    "l2=[]\n",
    "n2=int(input(\"Enter the number of required elements: \"))\n",
    "for i in range(n2):\n",
    "    item=input(f\"Enter element no.{i+1}: \")\n",
    "    if item.isdigit():\n",
    "        l2.append(int(item))\n",
    "    else:\n",
    "        l2.append(item)\n",
    "l1.extend(l2)\n",
    "print(\"Final list after merger:\",l1)"
   ]
  },
  {
   "cell_type": "code",
   "execution_count": 10,
   "id": "9fbc43b1",
   "metadata": {},
   "outputs": [
    {
     "name": "stdout",
     "output_type": "stream",
     "text": [
      "Enter the number of required elements: 5\n",
      "Enter element no.1: 4\n",
      "Enter element no.2: 5\n",
      "Enter element no.3: 9\n",
      "Enter element no.4: 2\n",
      "Enter element no.5: 6\n",
      "Intial list: [4, 5, 9, 2, 6]\n",
      "Final list: [8, 10, 18, 4, 12]\n"
     ]
    }
   ],
   "source": [
    "#Multiply all elements in a list by 2\n",
    "l=[]\n",
    "n=int(input(\"Enter the number of required elements: \"))\n",
    "for i in range(n):\n",
    "    l.append(int(input(f\"Enter element no.{i+1}: \")))\n",
    "print(\"Intial list:\",l)\n",
    "for i in range(n):\n",
    "    l[i]*=2\n",
    "print(\"Final list:\",l)"
   ]
  },
  {
   "cell_type": "code",
   "execution_count": 11,
   "id": "c91220a1",
   "metadata": {},
   "outputs": [
    {
     "name": "stdout",
     "output_type": "stream",
     "text": [
      "Enter the number of required elements: 5\n",
      "Enter element no.1: 8\n",
      "Enter element no.2: 4\n",
      "Enter element no.3: 9\n",
      "Enter element no.4: 7\n",
      "Enter element no.5: 3\n",
      "All the even numbers present in the list: 8 4 "
     ]
    }
   ],
   "source": [
    "#Filter out all even numbers from a list\n",
    "l=[]\n",
    "n=int(input(\"Enter the number of required elements: \"))\n",
    "for i in range(n):\n",
    "    l.append(int(input(f\"Enter element no.{i+1}: \")))\n",
    "print(\"All the even numbers present in the list: \",end=\"\")\n",
    "for i in l:\n",
    "    if i%2==0:\n",
    "        print(i,end=\" \")"
   ]
  },
  {
   "cell_type": "code",
   "execution_count": 16,
   "id": "96790748",
   "metadata": {},
   "outputs": [
    {
     "name": "stdout",
     "output_type": "stream",
     "text": [
      "Enter the number of required elements: 5\n",
      "Enter element no.1: i\n",
      "Enter element no.2: love\n",
      "Enter element no.3: java\n",
      "Enter element no.4: and\n",
      "Enter element no.5: python\n",
      "Initial list of strings: ['i', 'love', 'java', 'and', 'python']\n",
      "Final list of integers: [105, 108, 106, 97, 112]\n"
     ]
    }
   ],
   "source": [
    "#Convert a list of strings to a list of integers\n",
    "l=[]\n",
    "n=int(input(\"Enter the number of required elements: \"))\n",
    "for i in range(n):\n",
    "    l.append(input(f\"Enter element no.{i+1}: \"))\n",
    "print(\"Initial list of strings:\",l)\n",
    "for i in range(n):\n",
    "    if l[i].isdigit():\n",
    "        l[i]=int(l[i])\n",
    "    else:\n",
    "        l[i]=ord(l[i][0])\n",
    "print(\"Final list of integers:\",l)"
   ]
  },
  {
   "cell_type": "code",
   "execution_count": 17,
   "id": "450fb8f7",
   "metadata": {},
   "outputs": [
    {
     "name": "stdout",
     "output_type": "stream",
     "text": [
      "Enter the number of required elements: 5\n",
      "Enter element no.1: 5\n",
      "Enter element no.2: 12\n",
      "Enter element no.3: 13\n",
      "Enter element no.4: 8\n",
      "Enter element no.5: 9\n",
      "Initial list of integers: [5, 12, 13, 8, 9]\n",
      "Final list of string: ['5', '12', '13', '8', '9']\n"
     ]
    }
   ],
   "source": [
    "#Convert a list of integers to a list of strings\n",
    "l=[]\n",
    "n=int(input(\"Enter the number of required elements: \"))\n",
    "for i in range(n):\n",
    "    l.append(int(input(f\"Enter element no.{i+1}: \")))\n",
    "print(\"Initial list of integers:\",l)\n",
    "for i in range(n):\n",
    "    l[i]=str(l[i])\n",
    "print(\"Final list of string:\",l)"
   ]
  },
  {
   "cell_type": "code",
   "execution_count": 19,
   "id": "39223437",
   "metadata": {},
   "outputs": [
    {
     "name": "stdout",
     "output_type": "stream",
     "text": [
      "Enter a nested list: [[1,0,5,9],[2,3,78],[2,21,29]]\n",
      "Your required flatten list: [1, 0, 5, 9, 2, 3, 78, 2, 21, 29]\n"
     ]
    }
   ],
   "source": [
    "#Flatten a nested list\n",
    "l1=eval(input(\"Enter a nested list: \"))\n",
    "l2=[item for sublist in l1 for item in sublist]\n",
    "print(\"Your required flatten list:\",l2)"
   ]
  },
  {
   "cell_type": "code",
   "execution_count": 20,
   "id": "cdfa6de7",
   "metadata": {},
   "outputs": [
    {
     "name": "stdout",
     "output_type": "stream",
     "text": [
      "list of the first 10 Fibonacci numbers: [0, 1, 1, 2, 3, 5, 8, 13, 21, 34]\n"
     ]
    }
   ],
   "source": [
    "#Create a list of the first 10 Fibonacci numbers\n",
    "l=[0,1]\n",
    "b,c,s=0,1,0\n",
    "for i in range(2,10):\n",
    "    s=b+c\n",
    "    l.append(s)\n",
    "    b=c\n",
    "    c=s\n",
    "print(\"list of the first 10 Fibonacci numbers:\",l)"
   ]
  },
  {
   "cell_type": "code",
   "execution_count": 25,
   "id": "e4ec128d",
   "metadata": {},
   "outputs": [
    {
     "name": "stdout",
     "output_type": "stream",
     "text": [
      "Enter the number of elements required: 5\n",
      "Enter homogenous list items only or there will be an error:\n",
      "Enter element no.1: 11\n",
      "Enter element no.2: 21\n",
      "Enter element no.3: 65\n",
      "Enter element no.4: 98\n",
      "Enter element no.5: 99\n",
      "Given list is sorted in ascending order.\n"
     ]
    }
   ],
   "source": [
    "#Check if a list is sorted\n",
    "l=[]\n",
    "n=int(input(\"Enter the number of elements required: \"))\n",
    "print(\"Enter homogenous list items only or there will be an error:\")\n",
    "for i in range(n):\n",
    "    item=input(f\"Enter element no.{i+1}: \")\n",
    "    if item.isdigit():\n",
    "        l.append(int(item))\n",
    "    else:\n",
    "        l.append(item)\n",
    "aux1=l.copy()\n",
    "aux2=l.copy()\n",
    "aux1.sort()\n",
    "aux2.sort(reverse=True)\n",
    "if l==aux1:\n",
    "    print(\"Given list is sorted in ascending order.\")\n",
    "elif l==aux2:\n",
    "    print(\"Given list is sorted in descending order.\")\n",
    "else:\n",
    "    print(\"Given list isn't sorted.\")"
   ]
  },
  {
   "cell_type": "code",
   "execution_count": 32,
   "id": "a7d05327",
   "metadata": {},
   "outputs": [
    {
     "name": "stdout",
     "output_type": "stream",
     "text": [
      "Enter the number of elements required: 5\n",
      "Enter element no.1: 1\n",
      "Enter element no.2: 2\n",
      "Enter element no.3: 3\n",
      "Enter element no.4: java\n",
      "Enter element no.5: python\n",
      "Before shifting: [1, 2, 3, 'java', 'python']\n",
      "Enter the number of position you want to left right: 2\n",
      "After shifting `2` positions to the right: ['java', 'python', 1, 2, 3]\n"
     ]
    }
   ],
   "source": [
    "#Rotate a list to the right by `n` positions\n",
    "l=[]\n",
    "n1=int(input(\"Enter the number of elements required: \"))\n",
    "for i in range(n1):\n",
    "    item=input(f\"Enter element no.{i+1}: \")\n",
    "    if item.isdigit():\n",
    "        l.append(int(item))\n",
    "    else:\n",
    "        l.append(item)\n",
    "print(\"Before shifting:\",l)\n",
    "n=int(input(\"Enter the number of position you want to left right: \"))\n",
    "for i in range(n):\n",
    "    for j in range(1,n1):\n",
    "        t=l[0]\n",
    "        l[0]=l[j]\n",
    "        l[j]=t\n",
    "print(f\"After shifting `{n}` positions to the right:\",l)"
   ]
  },
  {
   "cell_type": "code",
   "execution_count": 34,
   "id": "711a4544",
   "metadata": {},
   "outputs": [
    {
     "name": "stdout",
     "output_type": "stream",
     "text": [
      "Enter the number of elements required: 5\n",
      "Enter element no.1: 1\n",
      "Enter element no.2: 2\n",
      "Enter element no.3: 3\n",
      "Enter element no.4: java\n",
      "Enter element no.5: python\n",
      "Before shifting: [1, 2, 3, 'java', 'python']\n",
      "Enter the number of position you want to left shift: 2\n",
      "After shifting `2` positions to the left: [3, 'java', 'python', 1, 2]\n"
     ]
    }
   ],
   "source": [
    "#Rotate a list to the left by `n` positions\n",
    "l=[]\n",
    "n1=int(input(\"Enter the number of elements required: \"))\n",
    "for i in range(n1):\n",
    "    item=input(f\"Enter element no.{i+1}: \")\n",
    "    if item.isdigit():\n",
    "        l.append(int(item))\n",
    "    else:\n",
    "        l.append(item)\n",
    "print(\"Before shifting:\",l)\n",
    "n=int(input(\"Enter the number of position you want to left shift: \"))\n",
    "for i in range(n):\n",
    "    for j in range(n1-1,0,-1):\n",
    "        t=l[0]\n",
    "        l[0]=l[j]\n",
    "        l[j]=t\n",
    "print(f\"After shifting `{n}` positions to the left:\",l)"
   ]
  },
  {
   "cell_type": "code",
   "execution_count": 42,
   "id": "f2396b58",
   "metadata": {},
   "outputs": [
    {
     "name": "stdout",
     "output_type": "stream",
     "text": [
      "All the prime numbers upto 50: [2, 3, 5, 7, 11, 13, 17, 19, 23, 29, 31, 37, 41, 43, 47]\n"
     ]
    }
   ],
   "source": [
    "#Create a list of prime numbers up to 50\n",
    "import math as m\n",
    "l=[]\n",
    "for i in range(2,51):\n",
    "    c=0\n",
    "    for j in range(2,int(m.sqrt(i)+1)):\n",
    "        if i%j==0:\n",
    "            c=1\n",
    "            break\n",
    "    if c==0:\n",
    "        l.append(i)\n",
    "print(\"All the prime numbers upto 50:\",l)"
   ]
  },
  {
   "cell_type": "code",
   "execution_count": 45,
   "id": "06a3704a",
   "metadata": {},
   "outputs": [
    {
     "name": "stdout",
     "output_type": "stream",
     "text": [
      "Enter the number of elements required: 10\n",
      "Enter element no.1: 25\n",
      "Enter element no.2: 16\n",
      "Enter element no.3: python\n",
      "Enter element no.4: 25\n",
      "Enter element no.5: 49\n",
      "Enter element no.6: java\n",
      "Enter element no.7: 13\n",
      "Enter element no.8: 97\n",
      "Enter element no.9: c\n",
      "Enter element no.10: 26\n",
      "Enter the size of each chunks: 3\n",
      "Initial input list: [25, 16, 'python', 25, 49, 'java', 13, 97, 'c', 26]\n",
      "Desired output lis: [[25, 16, 'python'], [25, 49, 'java'], [13, 97, 'c'], [26]]\n"
     ]
    }
   ],
   "source": [
    "#Split a list into chunks of size `n`\n",
    "l=[]\n",
    "n=int(input(\"Enter the number of elements required: \"))\n",
    "for i in range(n):\n",
    "    item=input(f\"Enter element no.{i+1}: \")\n",
    "    if item.isdigit():\n",
    "        l.append(int(item))\n",
    "    else:\n",
    "        l.append(item)\n",
    "size=int(input(\"Enter the size of each chunks: \"))\n",
    "final=[l[i:i+size] for i in range(0,len(l),size)]\n",
    "print(\"Initial input list:\",l)\n",
    "print(\"Desired output lis:\",final)"
   ]
  },
  {
   "cell_type": "code",
   "execution_count": 47,
   "id": "6d0c9f93",
   "metadata": {},
   "outputs": [
    {
     "name": "stdout",
     "output_type": "stream",
     "text": [
      "Enter the number of required elements: 10\n",
      "Enter element no.1: 21\n",
      "Enter element no.2: 56\n",
      "Enter element no.3: 16\n",
      "Enter element no.4: 12\n",
      "Enter element no.5: 97\n",
      "Enter element no.6: 631\n",
      "Enter element no.7: 25\n",
      "Enter element no.8: 12\n",
      "Enter element no.9: 35\n",
      "Enter element no.10: 98\n",
      "Your given list: [21, 56, 16, 12, 97, 631, 25, 12, 35, 98]\n",
      "The second largest element in it: 98\n"
     ]
    }
   ],
   "source": [
    "#Find the second largest number in a list\n",
    "l=[]\n",
    "n=int(input(\"Enter the number of required elements: \"))\n",
    "for i in range(n):\n",
    "    l.append(int(input(f\"Enter element no.{i+1}: \")))\n",
    "m1=m2=l[0]\n",
    "for i in l:\n",
    "    if(m1<i):\n",
    "        m2=m1\n",
    "        m1=i\n",
    "    elif(m2<i) and (m2!=m1):\n",
    "        m2=i\n",
    "print(\"Your given list:\",l)\n",
    "print(\"The second largest element in it:\",m2)"
   ]
  },
  {
   "cell_type": "code",
   "execution_count": 48,
   "id": "361c6b46",
   "metadata": {},
   "outputs": [
    {
     "name": "stdout",
     "output_type": "stream",
     "text": [
      "Enter the number of required elements: 5\n",
      "Please enter numbers only oherwise it will raise an error: \n",
      "Enter element no.1: 5\n",
      "Enter element no.2: 12\n",
      "Enter element no.3: 13\n",
      "Enter element no.4: 7\n",
      "Enter element no.5: 9\n",
      "Input list: [5, 12, 13, 7, 9]\n",
      "Desired list: [25, 144, 169, 49, 81]\n"
     ]
    }
   ],
   "source": [
    "#Replace every element in a list with its square\n",
    "l=[]\n",
    "n=int(input(\"Enter the number of required elements: \"))\n",
    "print(\"Please enter numbers only oherwise it will raise an error: \")\n",
    "for i in range(n):\n",
    "    l.append(int(input(f\"Enter element no.{i+1}: \")))\n",
    "print(\"Input list:\",l)\n",
    "for i in range(n):\n",
    "    l[i]=l[i]**2\n",
    "print(\"Desired list:\",l)"
   ]
  },
  {
   "cell_type": "code",
   "execution_count": 50,
   "id": "5e32eafc",
   "metadata": {},
   "outputs": [
    {
     "name": "stdout",
     "output_type": "stream",
     "text": [
      "Enter the number of elements required: 5\n",
      "Enter element no.1: 1\n",
      "Enter element no.2: 2\n",
      "Enter element no.3: 3\n",
      "Enter element no.4: java\n",
      "Enter element no.5: python\n",
      "Desired output: {1: 0, 2: 1, 3: 2, 'java': 3, 'python': 4}\n"
     ]
    }
   ],
   "source": [
    "#Convert a list to a dictionary where list elements become keys and their indices become values\n",
    "l=[]\n",
    "n=int(input(\"Enter the number of elements required: \"))\n",
    "for i in range(n):\n",
    "    item=input(f\"Enter element no.{i+1}: \")\n",
    "    if item.isdigit():\n",
    "        l.append(int(item))\n",
    "    else:\n",
    "        l.append(item)\n",
    "d={}\n",
    "for i in range(n):\n",
    "    d[l[i]]=i\n",
    "print(\"Desired output:\",d)"
   ]
  },
  {
   "cell_type": "code",
   "execution_count": 51,
   "id": "0db63634",
   "metadata": {},
   "outputs": [
    {
     "name": "stdout",
     "output_type": "stream",
     "text": [
      "Enter the number of elements required: 5\n",
      "Enter element no.1: 1\n",
      "Enter element no.2: 2\n",
      "Enter element no.3: 3\n",
      "Enter element no.4: java\n",
      "Enter element no.5: python\n",
      "Initial list before shuffling: [1, 2, 3, 'java', 'python']\n",
      "Final list after shuffling: ['python', 1, 2, 'java', 3]\n"
     ]
    }
   ],
   "source": [
    "#Shuffle the elements of a list randomly\n",
    "import random\n",
    "l=[]\n",
    "n=int(input(\"Enter the number of elements required: \"))\n",
    "for i in range(n):\n",
    "    item=input(f\"Enter element no.{i+1}: \")\n",
    "    if item.isdigit():\n",
    "        l.append(int(item))\n",
    "    else:\n",
    "        l.append(item)\n",
    "print(\"Initial list before shuffling:\",l)\n",
    "random.shuffle(l)\n",
    "print(\"Final list after shuffling:\",l)"
   ]
  },
  {
   "cell_type": "code",
   "execution_count": 52,
   "id": "300d1e1b",
   "metadata": {},
   "outputs": [
    {
     "name": "stdout",
     "output_type": "stream",
     "text": [
      "Your required list is: [1, 2, 6, 24, 120, 720, 5040, 40320, 362880, 3628800]\n"
     ]
    }
   ],
   "source": [
    "#Create a list of the first 10 factorial numbers\n",
    "l=[]\n",
    "for i in range(1,11):\n",
    "    f=1\n",
    "    for j in range(i,0,-1):\n",
    "        f*=j\n",
    "    l.append(f)\n",
    "print(\"Your required list is:\",l)"
   ]
  },
  {
   "cell_type": "code",
   "execution_count": 55,
   "id": "fc5b17bb",
   "metadata": {},
   "outputs": [
    {
     "name": "stdout",
     "output_type": "stream",
     "text": [
      "Enter the number of elements required: 5\n",
      "Enter element no.1: 1\n",
      "Enter element no.2: 2\n",
      "Enter element no.3: 3\n",
      "Enter element no.4: java\n",
      "Enter element no.5: python\n",
      "Enter the number of elements required: 5\n",
      "Enter element no.1: python\n",
      "Enter element no.2: 2\n",
      "Enter element no.3: 5\n",
      "Enter element no.4: shell\n",
      "Enter element no.5: perl\n",
      "The common elements between the lists: [2, 'python']\n"
     ]
    }
   ],
   "source": [
    "#Check if two lists have at least one element in common\n",
    "l1=[]\n",
    "n1=int(input(\"Enter the number of elements required: \"))\n",
    "for i in range(n1):\n",
    "    item=input(f\"Enter element no.{i+1}: \")\n",
    "    if item.isdigit():\n",
    "        l1.append(int(item))\n",
    "    else:\n",
    "        l1.append(item)\n",
    "l2=[]\n",
    "n2=int(input(\"Enter the number of elements required: \"))\n",
    "for i in range(n):\n",
    "    item=input(f\"Enter element no.{i+1}: \")\n",
    "    if item.isdigit():\n",
    "        l2.append(int(item))\n",
    "    else:\n",
    "        l2.append(item)\n",
    "l3=[i for i in l1 if i in l2]\n",
    "if(len(l3)>=1):\n",
    "    print(\"The common elements between the lists:\",l3)\n",
    "else:\n",
    "    print(\"Two lists have no elements in common\")"
   ]
  },
  {
   "cell_type": "code",
   "execution_count": 8,
   "id": "58009d4f",
   "metadata": {},
   "outputs": [
    {
     "name": "stdout",
     "output_type": "stream",
     "text": [
      "Enter the number of elements required: 5\n",
      "Enter element no.1: 1\n",
      "Enter element no.2: 2\n",
      "Enter element no.3: 3\n",
      "Enter element no.4: java\n",
      "Enter element no.5: python\n",
      "Initial list: [1, 2, 3, 'java', 'python']\n",
      "Final list: []\n"
     ]
    }
   ],
   "source": [
    "#Remove all elements from a list\n",
    "l=[]\n",
    "n=int(input(\"Enter the number of elements required: \"))\n",
    "for i in range(n):\n",
    "    item=input(f\"Enter element no.{i+1}: \")\n",
    "    if item.isdigit():\n",
    "        l.append(int(item))\n",
    "    else:\n",
    "        l.append(item)\n",
    "print(\"Initial list:\",l)\n",
    "l.clear()\n",
    "print(\"Final list:\",l)"
   ]
  },
  {
   "cell_type": "code",
   "execution_count": 13,
   "id": "1aa07b4d",
   "metadata": {},
   "outputs": [
    {
     "name": "stdout",
     "output_type": "stream",
     "text": [
      "Enter the number of elements required: 5\n",
      "Enter numbers only:\n",
      "Enter element no.1: 2\n",
      "Enter element no.2: -6\n",
      "Enter element no.3: 0\n",
      "Enter element no.4: 3\n",
      "Enter element no.5: -10\n",
      "Initial list: [2, -6, 0, 3, -10]\n",
      "Final list: [2, 0, 0, 3, 0]\n"
     ]
    }
   ],
   "source": [
    "#Replace negative numbers in a list with 0\n",
    "l=[]\n",
    "n=int(input(\"Enter the number of elements required: \"))\n",
    "print(\"Enter numbers only:\")\n",
    "for i in range(n):\n",
    "        l.append(int(input(f\"Enter element no.{i+1}: \")))\n",
    "print(\"Initial list:\",l)\n",
    "for i in range(n):\n",
    "    if l[i]<0:\n",
    "        l[i]=0\n",
    "print(\"Final list:\",l)"
   ]
  },
  {
   "cell_type": "code",
   "execution_count": 14,
   "id": "710e8aec",
   "metadata": {},
   "outputs": [
    {
     "name": "stdout",
     "output_type": "stream",
     "text": [
      "Enter a string: Hi I am learning python\n",
      "['Hi', 'I', 'am', 'learning', 'python']\n"
     ]
    }
   ],
   "source": [
    "#Convert a string into a list of words\n",
    "s=input(\"Enter a string: \")\n",
    "l=s.split()\n",
    "print(l)"
   ]
  },
  {
   "cell_type": "code",
   "execution_count": 15,
   "id": "a1363c68",
   "metadata": {},
   "outputs": [
    {
     "name": "stdout",
     "output_type": "stream",
     "text": [
      "Enter the number of elements required: 5\n",
      "Enter element no.1: Hi\n",
      "Enter element no.2: I\n",
      "Enter element no.3: am\n",
      "Enter element no.4: learning\n",
      "Enter element no.5: python\n",
      "Output string: Hi I am learning python\n"
     ]
    }
   ],
   "source": [
    "#Convert a list of words into a string\n",
    "l=[]\n",
    "n=int(input(\"Enter the number of elements required: \"))\n",
    "for i in range(n):\n",
    "    l.append(input(f\"Enter element no.{i+1}: \"))\n",
    "s=\" \".join(l)\n",
    "print(\"Output string:\",s)"
   ]
  },
  {
   "cell_type": "code",
   "execution_count": 16,
   "id": "b298d51f",
   "metadata": {},
   "outputs": [
    {
     "name": "stdout",
     "output_type": "stream",
     "text": [
      "Enter the number of elements required: 5\n",
      "Enter element no.1: hi\n",
      "Enter element no.2: I\n",
      "Enter element no.3: am\n",
      "Enter element no.4: learning\n",
      "Enter element no.5: python\n",
      "Input list: ['hi', 'I', 'am', 'learning', 'python']\n",
      "The longest string present here is: learning\n"
     ]
    }
   ],
   "source": [
    "#Find the longest string in a list of strings\n",
    "l=[]\n",
    "n=int(input(\"Enter the number of elements required: \"))\n",
    "for i in range(n):\n",
    "    l.append(input(f\"Enter element no.{i+1}: \"))\n",
    "print(\"Input list:\",l)\n",
    "lock=\"\"\n",
    "for i in l:\n",
    "    if len(lock)<len(i):\n",
    "        lock=i\n",
    "print(\"The longest string present here is:\",lock)"
   ]
  },
  {
   "cell_type": "code",
   "execution_count": 17,
   "id": "f8d979de",
   "metadata": {},
   "outputs": [
    {
     "name": "stdout",
     "output_type": "stream",
     "text": [
      "Enter the number of elements required: 5\n",
      "Enter element no.1: hi\n",
      "Enter element no.2: I\n",
      "Enter element no.3: am\n",
      "Enter element no.4: learning\n",
      "Enter element no.5: python\n",
      "Input list: ['hi', 'I', 'am', 'learning', 'python']\n",
      "The shortest string present here is: I\n"
     ]
    }
   ],
   "source": [
    "#Find the shortest string in a list of strings\n",
    "l=[]\n",
    "n=int(input(\"Enter the number of elements required: \"))\n",
    "for i in range(n):\n",
    "    l.append(input(f\"Enter element no.{i+1}: \"))\n",
    "print(\"Input list:\",l)\n",
    "lock=l[0]\n",
    "for i in l:\n",
    "    if len(lock)>len(i):\n",
    "        lock=i\n",
    "print(\"The shortest string present here is:\",lock)"
   ]
  },
  {
   "cell_type": "code",
   "execution_count": 21,
   "id": "ee9e0674",
   "metadata": {},
   "outputs": [
    {
     "name": "stdout",
     "output_type": "stream",
     "text": [
      "Enter the value of n: 10\n",
      "List of first 10 triangular numbers: [1, 3, 6, 10, 15, 21, 28, 36, 45, 55]\n"
     ]
    }
   ],
   "source": [
    "#Create a list of the first `n` triangular numbers\n",
    "l=[]\n",
    "n=int(input(\"Enter the value of n: \"))\n",
    "step,k=2,1\n",
    "for i in range(0,n):\n",
    "    l.append(int(k))\n",
    "    k+=step\n",
    "    step+=1\n",
    "print(\"List of first {} triangular numbers: {}\".format(n,l))"
   ]
  },
  {
   "cell_type": "code",
   "execution_count": 30,
   "id": "4b0f11f7",
   "metadata": {},
   "outputs": [],
   "source": [
    "#Check if a list contains another list as a subsequence\n"
   ]
  },
  {
   "cell_type": "code",
   "execution_count": 32,
   "id": "dc0e1e6b",
   "metadata": {},
   "outputs": [
    {
     "name": "stdout",
     "output_type": "stream",
     "text": [
      "Enter the number of rquired elements: 5\n",
      "Enter element no.1: 1\n",
      "Enter element no.2: 2\n",
      "Enter element no.3: 3\n",
      "Enter element no.4: 4\n",
      "Enter element no.5: 5\n",
      "Initial list: [1, 2, 3, 4, 5]\n",
      "Enter two indices of the list whose elements we would like to swap: 2 3\n",
      "Final list: [1, 2, 4, 3, 5]\n"
     ]
    }
   ],
   "source": [
    "#Swap two elements in a list by their indices\n",
    "l=[]\n",
    "n=int(input(\"Enter the number of rquired elements: \"))\n",
    "for i in range(n):\n",
    "    item=input(f\"Enter element no.{i+1}: \")\n",
    "    if item.isdigit():\n",
    "        l.append(int(item))\n",
    "    else:\n",
    "        l.append(item)\n",
    "print(\"Initial list:\",l)\n",
    "a,b=map(int,input(\"Enter two indices of the list whose elements we would like to swap: \").split())\n",
    "if a<len(l) and b<len(l):\n",
    "    t=l[a]\n",
    "    l[a]=l[b]\n",
    "    l[b]=t\n",
    "    print(\"Final list:\",l)\n",
    "else:\n",
    "    print(\"Invalid input: list ondex out of bound\")"
   ]
  },
  {
   "cell_type": "code",
   "execution_count": null,
   "id": "013fda42",
   "metadata": {},
   "outputs": [],
   "source": []
  }
 ],
 "metadata": {
  "kernelspec": {
   "display_name": "Python 3 (ipykernel)",
   "language": "python",
   "name": "python3"
  },
  "language_info": {
   "codemirror_mode": {
    "name": "ipython",
    "version": 3
   },
   "file_extension": ".py",
   "mimetype": "text/x-python",
   "name": "python",
   "nbconvert_exporter": "python",
   "pygments_lexer": "ipython3",
   "version": "3.11.4"
  }
 },
 "nbformat": 4,
 "nbformat_minor": 5
}
