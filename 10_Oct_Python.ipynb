{
 "cells": [
  {
   "cell_type": "code",
   "execution_count": 1,
   "id": "d2b3a5d1",
   "metadata": {},
   "outputs": [
    {
     "name": "stdout",
     "output_type": "stream",
     "text": [
      "Output:\t\n",
      "1 2 3 4 5 6 7 8 9 10 "
     ]
    }
   ],
   "source": [
    "#python program to print number from 1 to 10\n",
    "print(\"Output:\\t\")\n",
    "for i in range(1,11):\n",
    "    print(i,end=\" \")"
   ]
  },
  {
   "cell_type": "code",
   "execution_count": 5,
   "id": "63232bac",
   "metadata": {},
   "outputs": [
    {
     "name": "stdout",
     "output_type": "stream",
     "text": [
      "The summation is:  5050\n"
     ]
    }
   ],
   "source": [
    "#sum of all numbers from 1 to 100\n",
    "s=0\n",
    "for i in range(1,101):\n",
    "    s+=i\n",
    "print(\"The summation is: \",s)"
   ]
  },
  {
   "cell_type": "code",
   "execution_count": 8,
   "id": "defd7d53",
   "metadata": {},
   "outputs": [
    {
     "name": "stdout",
     "output_type": "stream",
     "text": [
      "Enter a list:\t10,20,30,4\n",
      "The product is:  24000\n"
     ]
    }
   ],
   "source": [
    "#product of elements in a given list\n",
    "a=eval(input(\"Enter a list:\\t\"))\n",
    "f=1\n",
    "for i in a:\n",
    "    f=f*i\n",
    "print(\"The product is: \",f)"
   ]
  },
  {
   "cell_type": "code",
   "execution_count": 10,
   "id": "b1a6e368",
   "metadata": {},
   "outputs": [
    {
     "name": "stdout",
     "output_type": "stream",
     "text": [
      "Even numbers from 1 to 20: 2 4 6 8 10 12 14 16 18 20 "
     ]
    }
   ],
   "source": [
    "#print all even numbers from 1 to 20\n",
    "print(\"Even numbers from 1 to 20: \",end=\"\")\n",
    "for i in range(2,21,2):\n",
    "    print(i,end=\" \")"
   ]
  },
  {
   "cell_type": "code",
   "execution_count": 13,
   "id": "025fdeb9",
   "metadata": {},
   "outputs": [
    {
     "name": "stdout",
     "output_type": "stream",
     "text": [
      "Enter a number: 6\n",
      "Factorial of 6 is: 720\n"
     ]
    }
   ],
   "source": [
    "#factorial of a number\n",
    "a=int(input(\"Enter a number: \"))\n",
    "f=1\n",
    "for i in range(a,1,-1):\n",
    "    f=f*i\n",
    "print(f\"Factorial of {a} is: {f}\")"
   ]
  },
  {
   "cell_type": "code",
   "execution_count": 14,
   "id": "02dd51e7",
   "metadata": {},
   "outputs": [
    {
     "name": "stdout",
     "output_type": "stream",
     "text": [
      "Enter a list: 10,20,2,100,50,75\n",
      "100 is the largest given number.\n"
     ]
    }
   ],
   "source": [
    "#finding largest number in a given list\n",
    "a=eval(input(\"Enter a list: \"))\n",
    "maximum=a[0]\n",
    "for i in a:\n",
    "    if(maximum<i):\n",
    "        maximum=i\n",
    "print(f\"{maximum} is the largest given number.\")"
   ]
  },
  {
   "cell_type": "code",
   "execution_count": 2,
   "id": "7adcf571",
   "metadata": {},
   "outputs": [
    {
     "name": "stdout",
     "output_type": "stream",
     "text": [
      "Enter a string: subha\n",
      "Number of vowels is: 2\n"
     ]
    }
   ],
   "source": [
    "#counting the number of vowels in a string\n",
    "s=input(\"Enter a string: \")\n",
    "v=set(\"aeiouAEIOU\")\n",
    "c=0\n",
    "for i in s:\n",
    "    if i in v:\n",
    "        c+=1\n",
    "print(f\"Number of vowels is: {c}\")"
   ]
  },
  {
   "cell_type": "code",
   "execution_count": 5,
   "id": "51cdf4ae",
   "metadata": {},
   "outputs": [
    {
     "name": "stdout",
     "output_type": "stream",
     "text": [
      "Enter a number: 15\n",
      "15 x 1 = 15\n",
      "15 x 2 = 30\n",
      "15 x 3 = 45\n",
      "15 x 4 = 60\n",
      "15 x 5 = 75\n",
      "15 x 6 = 90\n",
      "15 x 7 = 105\n",
      "15 x 8 = 120\n",
      "15 x 9 = 135\n",
      "15 x 10 = 150\n"
     ]
    }
   ],
   "source": [
    "#multiplication table\n",
    "n=int(input(\"Enter a number: \"))\n",
    "for i in range(1,11):\n",
    "    print(f\"{n} x {i} = {n*i}\")"
   ]
  },
  {
   "cell_type": "code",
   "execution_count": 14,
   "id": "3ba04425",
   "metadata": {},
   "outputs": [
    {
     "name": "stdout",
     "output_type": "stream",
     "text": [
      "Enter the first list: 1,10,50,20,8,9,45\n",
      "Enter the second list: 1,20,23,14,56,8,50,20\n",
      "The common elements between the lists: \n",
      "1 50 20 8 "
     ]
    }
   ],
   "source": [
    "#finding the common elements between two given lists\n",
    "a=eval(input(\"Enter the first list: \"))\n",
    "b=eval(input(\"Enter the second list: \"))\n",
    "aux=[]\n",
    "print(\"The common elements between the lists: \")\n",
    "for i in a:\n",
    "    if (i in b) and (i not in aux):\n",
    "        print(i,end=\" \")\n",
    "        aux.append(i)"
   ]
  },
  {
   "cell_type": "code",
   "execution_count": 14,
   "id": "d7984e73",
   "metadata": {},
   "outputs": [
    {
     "name": "stdout",
     "output_type": "stream",
     "text": [
      "Enter two numbers: 52 65\n",
      "GCD of 52 and 65 is: 13\n"
     ]
    }
   ],
   "source": [
    "#finding the GCD of two given numbers\n",
    "num1,num2=map(int,input(\"Enter two numbers: \").split( ))\n",
    "gcd=1\n",
    "for i in range(1,num1+1) and range(1,num2+1):\n",
    "    if(num1%i==0 and num2%i==0):\n",
    "        gcd=i\n",
    "print(f\"GCD of {num1} and {num2} is: {gcd}\")"
   ]
  },
  {
   "cell_type": "code",
   "execution_count": 18,
   "id": "8e1533b4",
   "metadata": {},
   "outputs": [
    {
     "name": "stdout",
     "output_type": "stream",
     "text": [
      "Enter a string value: madam\n",
      "madam is a plindrome string\n"
     ]
    }
   ],
   "source": [
    "#checking whether a string is palindrome or not\n",
    "s=input(\"Enter a string value: \")\n",
    "rev=\"\"\n",
    "for i in s:\n",
    "    rev=i+rev\n",
    "if(rev==s):\n",
    "    print(f\"{s} is a plindrome string\")\n",
    "else:\n",
    "    print(f\"{s} is not a plindrome string\")"
   ]
  },
  {
   "cell_type": "code",
   "execution_count": 34,
   "id": "76fd5158",
   "metadata": {},
   "outputs": [
    {
     "name": "stdout",
     "output_type": "stream",
     "text": [
      "Enter the number of elements required: 6\n",
      "Enter the list elements: \n",
      "11\n",
      "12\n",
      "11\n",
      "13\n",
      "15\n",
      "13\n",
      "Initial input: [11, 12, 11, 13, 15, 13]\n",
      "Final output without duplicate elements: [11, 12, 13, 15]\n"
     ]
    }
   ],
   "source": [
    "#removing duplicate elements from a list\n",
    "a=[]\n",
    "n=int(input(\"Enter the number of elements required: \"))\n",
    "print(\"Enter the list elements: \")\n",
    "for i in range(n):\n",
    "    a.append(int(input()))\n",
    "print(\"Initial input: \",end=\"\")\n",
    "print(a)\n",
    "aux=[]\n",
    "for i in a:\n",
    "    if i not in aux:\n",
    "        aux.append(i)\n",
    "print(\"Final output without duplicate elements: \",end=\"\")\n",
    "print(aux)"
   ]
  },
  {
   "cell_type": "code",
   "execution_count": 34,
   "id": "adc0ad8a",
   "metadata": {},
   "outputs": [
    {
     "name": "stdout",
     "output_type": "stream",
     "text": [
      "Enter a sentence: Hi! I'm Subhajit Sardar\n",
      "The number of words present in the given sentence is: 4\n"
     ]
    }
   ],
   "source": [
    "#counting the number of words in a given sentence\n",
    "n=0\n",
    "s=input(\"Enter a sentence: \")\n",
    "for i in s:\n",
    "    if(i==\" \"):\n",
    "        n+=1\n",
    "n+=1\n",
    "print(f\"The number of words present in the given sentence is: {n}\")"
   ]
  },
  {
   "cell_type": "code",
   "execution_count": 1,
   "id": "fad2fdd7",
   "metadata": {},
   "outputs": [
    {
     "name": "stdout",
     "output_type": "stream",
     "text": [
      "The summation of all odd numbers between 1 and 50 is: 625\n"
     ]
    }
   ],
   "source": [
    "#Finding the summation of all odd numbers between 1 and 50\n",
    "s=0\n",
    "for i in range(1,51,2):\n",
    "    s+=i\n",
    "print(f\"The summation of all odd numbers between 1 and 50 is: {s}\")"
   ]
  },
  {
   "cell_type": "code",
   "execution_count": 15,
   "id": "06665bdc",
   "metadata": {},
   "outputs": [
    {
     "name": "stdout",
     "output_type": "stream",
     "text": [
      "Enter a year:\t2024\n",
      "2024 is a leap year\n"
     ]
    }
   ],
   "source": [
    "#checing whether a year is leap year or not\n",
    "y=int(input(\"Enter a year:\\t\"))\n",
    "if(y%400==0) or (y%4==0) and (y%100!=0):\n",
    "    print(f\"{y} is a leap year\")\n",
    "else:\n",
    "    print(f\"{y} is not a leap year\")"
   ]
  },
  {
   "cell_type": "code",
   "execution_count": 31,
   "id": "f77341b7",
   "metadata": {},
   "outputs": [
    {
     "name": "stdout",
     "output_type": "stream",
     "text": [
      "Enter a number:\t625\n",
      "Square root of 625 is: 25\n"
     ]
    }
   ],
   "source": [
    "#finding the square root of a number\n",
    "sqroot=0\n",
    "n=int(input(\"Enter a number:\\t\"))\n",
    "num=n\n",
    "for i in range(1,n,2):\n",
    "    if(n>0):\n",
    "        n=n-i\n",
    "        sqroot+=1\n",
    "    else:\n",
    "        break\n",
    "print(f\"Square root of {num} is: {sqroot}\")"
   ]
  },
  {
   "cell_type": "code",
   "execution_count": 51,
   "id": "cb7ca2bd",
   "metadata": {},
   "outputs": [
    {
     "name": "stdout",
     "output_type": "stream",
     "text": [
      "Enter two numbers:\t12 18\n",
      "LCM of 12 and 18 is: 36\n"
     ]
    }
   ],
   "source": [
    "#finding the lcm between two numbers\n",
    "a,b=map(int,input(\"Enter two numbers:\\t\").split())\n",
    "i=a if a>b else b\n",
    "for lcm in range(i,99999):\n",
    "    if(lcm%a==0) and (lcm%b==0):\n",
    "        break\n",
    "print(f\"LCM of {a} and {b} is: {lcm}\")"
   ]
  },
  {
   "cell_type": "code",
   "execution_count": null,
   "id": "e1b5851a",
   "metadata": {},
   "outputs": [],
   "source": []
  },
  {
   "cell_type": "code",
   "execution_count": null,
   "id": "2c4766bc",
   "metadata": {},
   "outputs": [],
   "source": []
  }
 ],
 "metadata": {
  "kernelspec": {
   "display_name": "Python 3 (ipykernel)",
   "language": "python",
   "name": "python3"
  },
  "language_info": {
   "codemirror_mode": {
    "name": "ipython",
    "version": 3
   },
   "file_extension": ".py",
   "mimetype": "text/x-python",
   "name": "python",
   "nbconvert_exporter": "python",
   "pygments_lexer": "ipython3",
   "version": "3.11.4"
  }
 },
 "nbformat": 4,
 "nbformat_minor": 5
}
