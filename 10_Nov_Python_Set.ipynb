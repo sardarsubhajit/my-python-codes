{
 "cells": [
  {
   "cell_type": "code",
   "execution_count": 1,
   "id": "ebb60043",
   "metadata": {},
   "outputs": [
    {
     "name": "stdout",
     "output_type": "stream",
     "text": [
      "Set of integers from 1 to 5: {1, 2, 3, 4, 5}\n"
     ]
    }
   ],
   "source": [
    "#Create a set with integers from 1 to 5\n",
    "s=set(range(1,6))\n",
    "print(\"Set of integers from 1 to 5:\",s)"
   ]
  },
  {
   "cell_type": "code",
   "execution_count": 5,
   "id": "9372a4d4",
   "metadata": {},
   "outputs": [
    {
     "name": "stdout",
     "output_type": "stream",
     "text": [
      "Before adding any new element: set()\n",
      "Enter a new element: 15\n",
      "After adding a new element: {15}\n"
     ]
    }
   ],
   "source": [
    "#Add an element to a set\n",
    "s=set()\n",
    "print(\"Before adding any new element:\",s)\n",
    "item=input(\"Enter a new element: \")\n",
    "if item.isdigit():\n",
    "    s.add(int(item))\n",
    "else:\n",
    "    s.add(item)\n",
    "print(\"After adding a new element:\",s)"
   ]
  },
  {
   "cell_type": "code",
   "execution_count": 6,
   "id": "8a892b54",
   "metadata": {},
   "outputs": [
    {
     "name": "stdout",
     "output_type": "stream",
     "text": [
      "Enter a set of elements: {1,2,5,36,5}\n",
      "Enter the item you want to remove from the set: 5\n",
      "After removing 5: {1, 2, 36}\n"
     ]
    }
   ],
   "source": [
    "#Remove an element from a set\n",
    "s=eval(input(\"Enter a set of elements: \"))\n",
    "item=input(\"Enter the item you want to remove from the set: \")\n",
    "if item.isdigit():\n",
    "    s.discard(int(item))\n",
    "else:\n",
    "    s.discard(item)\n",
    "print(f\"After removing {item}:\",s)"
   ]
  },
  {
   "cell_type": "code",
   "execution_count": 8,
   "id": "69cb848e",
   "metadata": {},
   "outputs": [
    {
     "name": "stdout",
     "output_type": "stream",
     "text": [
      "Enter a set of elements: {1,2,3,'python'}\n",
      "{1, 2, 3, 'python'}\n",
      "Enter the element you want to serach into the set: python\n",
      "python is present in the input set\n"
     ]
    }
   ],
   "source": [
    "#Check if an element exists in a set\n",
    "s=eval(input(\"Enter a set of elements: \"))\n",
    "print(s)\n",
    "item=input(\"Enter the element you want to serach into the set: \")\n",
    "if item.isdigit():\n",
    "    item=int(item)\n",
    "if item in s:\n",
    "    print(f\"{item} is present in the input set\") \n",
    "else:\n",
    "    print(f\"{item} isn't present in the input set\")"
   ]
  },
  {
   "cell_type": "code",
   "execution_count": 11,
   "id": "6257e38f",
   "metadata": {},
   "outputs": [
    {
     "name": "stdout",
     "output_type": "stream",
     "text": [
      "Input a set of elements: {1,2,3,6,94,10}\n",
      "Length of the input set is: 6\n"
     ]
    }
   ],
   "source": [
    "#Find the length of a set without using the `len()` function\n",
    "s=eval(input(\"Input a set of elements: \"))\n",
    "c=0\n",
    "for i in s:\n",
    "    c+=1\n",
    "print(\"Length of the input set is:\",c)"
   ]
  },
  {
   "cell_type": "code",
   "execution_count": 12,
   "id": "24e77834",
   "metadata": {},
   "outputs": [
    {
     "name": "stdout",
     "output_type": "stream",
     "text": [
      "Input a set of elements: {2,5,6,7,9,10}\n",
      "Initial set: {2, 5, 6, 7, 9, 10}\n",
      "Final set: set()\n"
     ]
    }
   ],
   "source": [
    "#Clear all elements from a set\n",
    "s=eval(input(\"Input a set of elements: \"))\n",
    "print(\"Initial set:\",s)\n",
    "s.clear()\n",
    "print(\"Final set:\",s)"
   ]
  },
  {
   "cell_type": "code",
   "execution_count": 14,
   "id": "5d5a4b33",
   "metadata": {},
   "outputs": [
    {
     "name": "stdout",
     "output_type": "stream",
     "text": [
      "set of even numbers from 1 to 10: {2, 4, 6, 8, 10}\n"
     ]
    }
   ],
   "source": [
    "#Create a set of even numbers from 1 to 10\n",
    "s={i for i in range(1,11) if i%2==0}\n",
    "print(\"set of even numbers from 1 to 10:\",s)"
   ]
  },
  {
   "cell_type": "code",
   "execution_count": 15,
   "id": "953ead71",
   "metadata": {},
   "outputs": [
    {
     "name": "stdout",
     "output_type": "stream",
     "text": [
      "set of odd numbers from 1 to 10: {1, 3, 5, 7, 9}\n"
     ]
    }
   ],
   "source": [
    "#Create a set of odd numbers from 1 to 10\n",
    "s={i for i in range(1,11) if i%2!=0}\n",
    "print(\"set of odd numbers from 1 to 10:\",s)"
   ]
  },
  {
   "cell_type": "code",
   "execution_count": 19,
   "id": "491ccfed",
   "metadata": {},
   "outputs": [
    {
     "name": "stdout",
     "output_type": "stream",
     "text": [
      "Enter a set of elements: {2,3,6,9,4}\n",
      "Enter a second set of elements: {12,3,65,10}\n",
      "Union of two input sets: {65, 2, 3, 4, 6, 9, 10, 12}\n"
     ]
    }
   ],
   "source": [
    "#Find the union of two sets\n",
    "s1=eval(input(\"Enter a set of elements: \"))\n",
    "s2=eval(input(\"Enter a second set of elements: \"))\n",
    "s3=s1.union(s2) #or we can use s1|s2\n",
    "print(\"Union of two input sets:\",s3)"
   ]
  },
  {
   "cell_type": "code",
   "execution_count": 22,
   "id": "02f7d7bb",
   "metadata": {},
   "outputs": [
    {
     "name": "stdout",
     "output_type": "stream",
     "text": [
      "Enter a set of elements: {1,2,6,7}\n",
      "Enter a second set of elements: {21,1,7,2,27}\n",
      "Intersection of two input sets: {1, 2, 7}\n"
     ]
    }
   ],
   "source": [
    "#Find the intersection of two sets\n",
    "s1=eval(input(\"Enter a set of elements: \"))\n",
    "s2=eval(input(\"Enter a second set of elements: \"))\n",
    "s3=s1&(s2)\n",
    "print(\"Intersection of two input sets:\",s3)"
   ]
  },
  {
   "cell_type": "code",
   "execution_count": 23,
   "id": "e07f6325",
   "metadata": {},
   "outputs": [
    {
     "name": "stdout",
     "output_type": "stream",
     "text": [
      "Enter a set of elements: {15,2,3,14}\n",
      "Enter a second set of elements: {10,2,3,1,20}\n",
      "Difference of two input sets: {14, 15}\n"
     ]
    }
   ],
   "source": [
    "#Find the difference between two sets\n",
    "s1=eval(input(\"Enter a set of elements: \"))\n",
    "s2=eval(input(\"Enter a second set of elements: \"))\n",
    "s3=s1.difference(s2)\n",
    "print(\"Difference of two input sets:\",s3)"
   ]
  },
  {
   "cell_type": "code",
   "execution_count": 26,
   "id": "c7cf083d",
   "metadata": {},
   "outputs": [
    {
     "name": "stdout",
     "output_type": "stream",
     "text": [
      "Enter a set of elements: {1,2,3,5,7}\n",
      "Enter a second set of elements: {2,3,5,7}\n",
      "Second set is subset of first set\n"
     ]
    }
   ],
   "source": [
    "#Check if a set is a subset of another set\n",
    "s1=eval(input(\"Enter a set of elements: \"))\n",
    "s2=eval(input(\"Enter a second set of elements: \"))\n",
    "if s1.issubset(s2):\n",
    "    print(\"First set is subset of second set\")\n",
    "elif s2.issubset(s1):\n",
    "    print(\"Second set is subset of first set\")\n",
    "else:\n",
    "    print(\"None set is a subset\")"
   ]
  },
  {
   "cell_type": "code",
   "execution_count": 28,
   "id": "ee4a6e24",
   "metadata": {},
   "outputs": [
    {
     "name": "stdout",
     "output_type": "stream",
     "text": [
      "Enter a set of elements: {2,3,6,7}\n",
      "Enter a second set of elements: {3,7}\n",
      "First set is superset of second set\n"
     ]
    }
   ],
   "source": [
    "#Check if a set is a superset of another set\n",
    "s1=eval(input(\"Enter a set of elements: \"))\n",
    "s2=eval(input(\"Enter a second set of elements: \"))\n",
    "if s1.issuperset(s2):\n",
    "    print(\"First set is superset of second set\")\n",
    "elif s2.issuperset(s1):\n",
    "    print(\"Second set is superset of first set\")\n",
    "else:\n",
    "    print(\"None set is a superset\")"
   ]
  },
  {
   "cell_type": "code",
   "execution_count": 31,
   "id": "1bc6ec93",
   "metadata": {},
   "outputs": [
    {
     "name": "stdout",
     "output_type": "stream",
     "text": [
      "Enter a list of items: [52,26,56,26,52,'python']\n",
      "Your input list: [52, 26, 56, 26, 52, 'python']\n",
      "Output set: {56, 'python', 26, 52}\n"
     ]
    }
   ],
   "source": [
    "#Create a set from a list\n",
    "l=eval(input(\"Enter a list of items: \"))\n",
    "print(\"Your input list:\",l)\n",
    "s=set(l)\n",
    "print(\"Output set:\",s)"
   ]
  },
  {
   "cell_type": "code",
   "execution_count": 32,
   "id": "e4aa45bb",
   "metadata": {},
   "outputs": [
    {
     "name": "stdout",
     "output_type": "stream",
     "text": [
      "Enter a set of items: {1,2,3,6,6}\n",
      "Your input set: {1, 2, 3, 6}\n",
      "Output list: [1, 2, 3, 6]\n"
     ]
    }
   ],
   "source": [
    "#Convert a set to a list\n",
    "s=eval(input(\"Enter a set of items: \"))\n",
    "print(\"Your input set:\",s)\n",
    "l=list(s)\n",
    "print(\"Output list:\",l)"
   ]
  },
  {
   "cell_type": "code",
   "execution_count": 35,
   "id": "6128d843",
   "metadata": {},
   "outputs": [
    {
     "name": "stdout",
     "output_type": "stream",
     "text": [
      "Enter a set of items: {1,65,4,1,43,2}\n",
      "65 is removed from the input set\n"
     ]
    }
   ],
   "source": [
    "#Remove a random element from a set\n",
    "s=eval(input(\"Enter a set of items: \"))\n",
    "print(f\"{s.pop()} is removed from the input set\")"
   ]
  },
  {
   "cell_type": "code",
   "execution_count": 37,
   "id": "3e6ab407",
   "metadata": {},
   "outputs": [
    {
     "name": "stdout",
     "output_type": "stream",
     "text": [
      "Enter a set of items: {1,41,17,43,2}\n",
      "1 is popped out from the input set\n"
     ]
    }
   ],
   "source": [
    "#Pop an element from a set\n",
    "s=eval(input(\"Enter a set of items: \"))\n",
    "print(f\"{s.pop()} is popped out from the input set\")"
   ]
  },
  {
   "cell_type": "code",
   "execution_count": 44,
   "id": "e51cb056",
   "metadata": {},
   "outputs": [
    {
     "name": "stdout",
     "output_type": "stream",
     "text": [
      "Enter a set of elements: {10,23,11,5}\n",
      "Enter a second set of elements: {21,654,66}\n",
      "Input sets have no elements in common\n"
     ]
    }
   ],
   "source": [
    "#Check if two sets have no elements in common\n",
    "s1=eval(input(\"Enter a set of elements: \"))\n",
    "s2=eval(input(\"Enter a second set of elements: \"))\n",
    "s3=s1&s2\n",
    "if s3==set():\n",
    "    print(\"Input sets have no elements in common\")\n",
    "else:\n",
    "    print(\"The common elements between the two input sets:\",s3)"
   ]
  },
  {
   "cell_type": "code",
   "execution_count": 45,
   "id": "a8111772",
   "metadata": {},
   "outputs": [
    {
     "name": "stdout",
     "output_type": "stream",
     "text": [
      "Enter a set of elements: {1,32,6,65}\n",
      "Enter a second set of elements: {35,32,1,70,58}\n",
      "The symmetric difference between the two input sets is: {65, 35, 70, 6, 58}\n"
     ]
    }
   ],
   "source": [
    "#eval(input(\"Enter a set of elements: \"))\n",
    "s1=eval(input(\"Enter a set of elements: \"))\n",
    "s2=eval(input(\"Enter a second set of elements: \"))\n",
    "s3=s1^s2\n",
    "print(\"The symmetric difference between the two input sets is:\",s3)"
   ]
  },
  {
   "cell_type": "code",
   "execution_count": 46,
   "id": "f042b1bd",
   "metadata": {},
   "outputs": [
    {
     "name": "stdout",
     "output_type": "stream",
     "text": [
      "Enter a set of elements: {1,32,6,65}\n",
      "Enter a second set of elements: {35,32,1,70,58}\n",
      "{32, 1, 65, 35, 6, 70, 58}\n"
     ]
    }
   ],
   "source": [
    "#Update a set with elements from another set\n",
    "s1=eval(input(\"Enter a set of elements: \"))\n",
    "s2=eval(input(\"Enter a second set of elements: \"))\n",
    "s1.update(s2)\n",
    "print(s1)"
   ]
  },
  {
   "cell_type": "code",
   "execution_count": 2,
   "id": "09148def",
   "metadata": {},
   "outputs": [
    {
     "name": "stdout",
     "output_type": "stream",
     "text": [
      "Set of the first 5 prime numbers is: {2, 3, 5, 7, 11}\n"
     ]
    }
   ],
   "source": [
    "#Create a set of the first 5 prime numbers\n",
    "import math as m\n",
    "s=set()\n",
    "num=2\n",
    "while(len(s)<5):\n",
    "    c=1\n",
    "    for i in range(2,int(m.sqrt(num)+1)):\n",
    "        if num%i==0:\n",
    "            c=0\n",
    "            break\n",
    "    if(c):\n",
    "        s.add(num)\n",
    "    num+=1\n",
    "print(\"Set of the first 5 prime numbers is:\",s)"
   ]
  },
  {
   "cell_type": "code",
   "execution_count": 4,
   "id": "d9d795c3",
   "metadata": {},
   "outputs": [
    {
     "name": "stdout",
     "output_type": "stream",
     "text": [
      "Enter a set of elements: {2,65,4,46,5}\n",
      "Enter a second set of elements: {2,65,4,46,5}\n",
      "Your input sets are identical to each other\n"
     ]
    }
   ],
   "source": [
    "#Check if two sets are identical\n",
    "s1=eval(input(\"Enter a set of elements: \"))\n",
    "s2=eval(input(\"Enter a second set of elements: \"))\n",
    "if s1==s2:\n",
    "    print(\"Your input sets are identical to each other\")\n",
    "else:\n",
    "    print(\"Your input sets arn't identical to each other\")"
   ]
  },
  {
   "cell_type": "code",
   "execution_count": 1,
   "id": "d2ab5a09",
   "metadata": {},
   "outputs": [
    {
     "name": "stdout",
     "output_type": "stream",
     "text": [
      "Enter a set of elements: {5,3,6,9,10}\n",
      "<class 'set'>\n",
      "<class 'frozenset'>\n"
     ]
    }
   ],
   "source": [
    "#Create a frozen set\n",
    "s=eval(input(\"Enter a set of elements: \"))\n",
    "print(type(s))\n",
    "s=frozenset(s)\n",
    "print(type(s))"
   ]
  },
  {
   "cell_type": "code",
   "execution_count": 70,
   "id": "b56454ad",
   "metadata": {},
   "outputs": [
    {
     "name": "stdout",
     "output_type": "stream",
     "text": [
      "Enter a set of elements: {2,131,4,5}\n",
      "Enter a second set of elements: {98,74,44,96}\n",
      "Input sets are disjoint sets\n"
     ]
    }
   ],
   "source": [
    "#Check if a set is disjoint with another set\n",
    "s1=eval(input(\"Enter a set of elements: \"))\n",
    "s2=eval(input(\"Enter a second set of elements: \"))\n",
    "s3=s1&s2\n",
    "if s3==set():\n",
    "    print(\"Input sets are disjoint sets\")\n",
    "else:\n",
    "    print(\"Input sets arn't disjoint sets\")"
   ]
  },
  {
   "cell_type": "code",
   "execution_count": 3,
   "id": "53e89009",
   "metadata": {},
   "outputs": [
    {
     "name": "stdout",
     "output_type": "stream",
     "text": [
      "set of squares of numbers from 1 to 5: {1, 4, 9, 16, 25}\n"
     ]
    }
   ],
   "source": [
    "#Create a set of squares of numbers from 1 to 5\n",
    "s={i**2 for i in range(1,6)}\n",
    "print(\"set of squares of numbers from 1 to 5:\",s)"
   ]
  },
  {
   "cell_type": "code",
   "execution_count": 6,
   "id": "19abf167",
   "metadata": {},
   "outputs": [
    {
     "name": "stdout",
     "output_type": "stream",
     "text": [
      "Input a set of elements: {1,2,3,5,9,4,'python'}\n",
      "All even numbers present in the input set: \n",
      "2 4 "
     ]
    }
   ],
   "source": [
    "#Filter out all even numbers from a set\n",
    "s=eval(input(\"Input a set of elements: \"))\n",
    "print(\"All even numbers present in the input set: \")\n",
    "for i in s:\n",
    "    if type(i)!=type(str()) and i%2==0:\n",
    "        print(i,end=\" \")"
   ]
  },
  {
   "cell_type": "code",
   "execution_count": 8,
   "id": "d0b4a351",
   "metadata": {},
   "outputs": [
    {
     "name": "stdout",
     "output_type": "stream",
     "text": [
      "Enter a set of elements: {16,7,9,4,6,2,3,'python'}\n",
      "Input set: {2, 3, 4, 6, 7, 9, 16, 'python'}\n",
      "Output set: {32, 4, 6, 8, 12, 14, 18, 'pythonpython'}\n"
     ]
    }
   ],
   "source": [
    "#Multiply all elements in a set by 2\n",
    "s=eval(input(\"Enter a set of elements: \"))\n",
    "print(\"Input set:\",s)\n",
    "s1={i*2 for i in s}\n",
    "print(\"Output set:\",s1)    "
   ]
  },
  {
   "cell_type": "code",
   "execution_count": 13,
   "id": "ed71e9ff",
   "metadata": {},
   "outputs": [
    {
     "name": "stdout",
     "output_type": "stream",
     "text": [
      "Enter the number of elements required: 10\n",
      "A set of 10 random numbers: {-892, 196, 488, -664, -24, -597, -875, -42, -455, 219}\n"
     ]
    }
   ],
   "source": [
    "#Create a set of random numbers\n",
    "import random\n",
    "n=int(input(\"Enter the number of elements required: \"))\n",
    "s=set()\n",
    "for i in range(n):\n",
    "    s.add(random.randint(-1000,1000))\n",
    "print(f\"A set of {n} random numbers:\",s)"
   ]
  },
  {
   "cell_type": "code",
   "execution_count": 20,
   "id": "828d23e1",
   "metadata": {},
   "outputs": [
    {
     "name": "stdout",
     "output_type": "stream",
     "text": [
      "Enter a set of elements: {}\n",
      "Your set is empty!\n"
     ]
    }
   ],
   "source": [
    "#Check if a set is empty\n",
    "s=eval(input(\"Enter a set of elements: \"))\n",
    "if s=={}:\n",
    "    print(\"Your set is empty!\")\n",
    "else:\n",
    "    print(\"Your input set:\",s)"
   ]
  },
  {
   "cell_type": "code",
   "execution_count": 26,
   "id": "6780c040",
   "metadata": {},
   "outputs": [
    {
     "name": "stdout",
     "output_type": "stream",
     "text": [
      "Enter a nested set: {{2,3,6},{1,3,6,9}}\n"
     ]
    },
    {
     "ename": "TypeError",
     "evalue": "unhashable type: 'set'",
     "output_type": "error",
     "traceback": [
      "\u001b[1;31m---------------------------------------------------------------------------\u001b[0m",
      "\u001b[1;31mTypeError\u001b[0m                                 Traceback (most recent call last)",
      "Cell \u001b[1;32mIn[26], line 3\u001b[0m\n\u001b[0;32m      1\u001b[0m \u001b[38;5;66;03m#Create a nested set\u001b[39;00m\n\u001b[0;32m      2\u001b[0m s\u001b[38;5;241m=\u001b[39m\u001b[38;5;28mfrozenset\u001b[39m()\n\u001b[1;32m----> 3\u001b[0m s\u001b[38;5;241m=\u001b[39m\u001b[38;5;28meval\u001b[39m(\u001b[38;5;28minput\u001b[39m(\u001b[38;5;124m\"\u001b[39m\u001b[38;5;124mEnter a nested set: \u001b[39m\u001b[38;5;124m\"\u001b[39m))\n\u001b[0;32m      4\u001b[0m \u001b[38;5;28;01mfor\u001b[39;00m i \u001b[38;5;129;01min\u001b[39;00m s:\n\u001b[0;32m      5\u001b[0m     \u001b[38;5;28;01mfor\u001b[39;00m j \u001b[38;5;129;01min\u001b[39;00m i:\n",
      "File \u001b[1;32m<string>:1\u001b[0m\n",
      "\u001b[1;31mTypeError\u001b[0m: unhashable type: 'set'"
     ]
    }
   ],
   "source": [
    "#Create a nested set\n",
    "s=frozenset()\n",
    "s=eval(input(\"Enter a nested set: \"))\n",
    "for i in s:\n",
    "    for j in i:\n",
    "        print(j,end=\" \")\n",
    "    print()"
   ]
  },
  {
   "cell_type": "code",
   "execution_count": 30,
   "id": "d0b2c995",
   "metadata": {},
   "outputs": [
    {
     "name": "stdout",
     "output_type": "stream",
     "text": [
      "Enter a set of elements: {12,3,6,4,26,68}\n",
      "Input set: {3, 4, 68, 6, 26, 12}\n",
      "Enter an element that you want to remove from the input set: 26\n",
      "Current set: {3, 4, 68, 6, 12}\n"
     ]
    }
   ],
   "source": [
    "#Remove an element from a set using the discard method\n",
    "s=eval(input(\"Enter a set of elements: \"))\n",
    "print(\"Input set:\",s)\n",
    "item=input(\"Enter an element that you want to remove from the input set: \")\n",
    "if item.isdigit():\n",
    "    item=int(item)\n",
    "s.discard(item)\n",
    "print(\"Current set:\",s)"
   ]
  },
  {
   "cell_type": "code",
   "execution_count": 32,
   "id": "d804e27b",
   "metadata": {},
   "outputs": [
    {
     "name": "stdout",
     "output_type": "stream",
     "text": [
      "Enter a set of items: {2,3,6,4,61}\n",
      "Enter a second set of items: {5,3,21}\n",
      "First set is greater compared to second set\n"
     ]
    }
   ],
   "source": [
    "#Compare two sets\n",
    "s1=eval(input(\"Enter a set of items: \"))\n",
    "s2=eval(input(\"Enter a second set of items: \"))\n",
    "if len(s1)<len(s2):\n",
    "    print(\"First set is smaller compared to second set\")\n",
    "elif len(s1)>len(s2):\n",
    "    print(\"First set is greater compared to second set\")\n",
    "else:\n",
    "    print(\"Both the input sets are identical\")"
   ]
  },
  {
   "cell_type": "code",
   "execution_count": 33,
   "id": "4d408f4a",
   "metadata": {},
   "outputs": [
    {
     "name": "stdout",
     "output_type": "stream",
     "text": [
      "Enter a setring: Python\n",
      "Set of the input string: {'P', 'o', 't', 'y', 'n', 'h'}\n"
     ]
    }
   ],
   "source": [
    "#Create a set from a string\n",
    "string=input(\"Enter a setring: \")\n",
    "s=set(string)\n",
    "print(\"Set of the input string:\",s)"
   ]
  },
  {
   "cell_type": "code",
   "execution_count": 35,
   "id": "8faf1fe5",
   "metadata": {},
   "outputs": [
    {
     "name": "stdout",
     "output_type": "stream",
     "text": [
      "Enter a set of strings: {1,2,3,'i','am','learning','python'}\n",
      "Input set: {1, 2, 3, 'am', 'learning', 'python', 'i'}\n",
      "Output set: {1, 2, 3, 97, 105, 108, 112}\n"
     ]
    }
   ],
   "source": [
    "#Convert a set of strings to a set of integers\n",
    "s=eval(input(\"Enter a set of strings: \"))\n",
    "s1=set()\n",
    "for i in s:\n",
    "    if type(i)==type(str()):\n",
    "        s1.add(ord(i[0]))\n",
    "    else:\n",
    "        s1.add(i)\n",
    "print(\"Input set:\",s)\n",
    "print(\"Output set:\",s1)"
   ]
  },
  {
   "cell_type": "code",
   "execution_count": 36,
   "id": "09099463",
   "metadata": {},
   "outputs": [
    {
     "name": "stdout",
     "output_type": "stream",
     "text": [
      "Enter a set of integers: {2,3,65,46,70,500}\n",
      "Input set: {65, 2, 3, 500, 70, 46}\n",
      "Output set: {'Ǵ', '\\x03', 'F', 'A', '\\x02', '.'}\n"
     ]
    }
   ],
   "source": [
    "#Convert a set of integers to a set of strings\n",
    "s=eval(input(\"Enter a set of integers: \"))\n",
    "s1=set()\n",
    "for i in s:\n",
    "    s1.add(chr(i))\n",
    "print(\"Input set:\",s)\n",
    "print(\"Output set:\",s1)"
   ]
  },
  {
   "cell_type": "code",
   "execution_count": 37,
   "id": "36113290",
   "metadata": {},
   "outputs": [
    {
     "name": "stdout",
     "output_type": "stream",
     "text": [
      "Enter a tuple of elements: (2,6,4,6,6,6,'python','java',6,9,46,)\n",
      "Tuple of elements: (2, 6, 4, 6, 6, 6, 'python', 'java', 6, 9, 46)\n",
      "Set of input tuple of elements: {2, 4, 6, 9, 'java', 46, 'python'}\n"
     ]
    }
   ],
   "source": [
    "#Create a set from a tuple\n",
    "t=eval(input(\"Enter a tuple of elements: \"))\n",
    "s=set(t)\n",
    "print(\"Tuple of elements:\",t)\n",
    "print(\"Set of input tuple of elements:\",s)"
   ]
  },
  {
   "cell_type": "code",
   "execution_count": 38,
   "id": "6d1099c1",
   "metadata": {},
   "outputs": [
    {
     "name": "stdout",
     "output_type": "stream",
     "text": [
      "Enter a set of elements: {9,89,36,6,6,2,9}\n",
      "Set of elements: {89, 2, 36, 6, 9}\n",
      "Tuple of input set of elements: (89, 2, 36, 6, 9)\n"
     ]
    }
   ],
   "source": [
    "#Convert a set to a tuple\n",
    "s=eval(input(\"Enter a set of elements: \"))\n",
    "t=tuple(s)\n",
    "print(\"Set of elements:\",s)\n",
    "print(\"Tuple of input set of elements:\",t)"
   ]
  },
  {
   "cell_type": "code",
   "execution_count": 43,
   "id": "bd437350",
   "metadata": {},
   "outputs": [
    {
     "name": "stdout",
     "output_type": "stream",
     "text": [
      "Enter a set of elements: {33,56,27,64,21,13,'python','java'}\n",
      "Maximum element present in the input set is: 64\n"
     ]
    }
   ],
   "source": [
    "#Find the maximum value in a set\n",
    "s=eval(input(\"Enter a set of elements: \"))\n",
    "s1=set()\n",
    "for i in s:\n",
    "    if type(i)!=type(str()):\n",
    "        s1.add(i)\n",
    "print(\"Maximum element present in the input set is:\",max(s1))"
   ]
  },
  {
   "cell_type": "code",
   "execution_count": 44,
   "id": "7433dacc",
   "metadata": {},
   "outputs": [
    {
     "name": "stdout",
     "output_type": "stream",
     "text": [
      "Enter a set of elements: {33,56,27,64,21,13,'python','java'}\n",
      "Minimum element present in the input set is: 13\n"
     ]
    }
   ],
   "source": [
    "#Find the minimum value in a set\n",
    "s=eval(input(\"Enter a set of elements: \"))\n",
    "s1=set()\n",
    "for i in s:\n",
    "    if type(i)!=type(str()):\n",
    "        s1.add(i)\n",
    "print(\"Minimum element present in the input set is:\",min(s1))"
   ]
  },
  {
   "cell_type": "code",
   "execution_count": 45,
   "id": "9f23eb0d",
   "metadata": {},
   "outputs": [
    {
     "name": "stdout",
     "output_type": "stream",
     "text": [
      "Enter the number of elements required: 5\n",
      "Enter element no.1: 25\n",
      "Enter element no.2: python\n",
      "Enter element no.3: 26\n",
      "Enter element no.4: 27\n",
      "Enter element no.5: java\n",
      "Your input set: {'java', 'python', 25, 26, 27}\n"
     ]
    }
   ],
   "source": [
    "#Create a set from user input\n",
    "s=set()\n",
    "n=int(input(\"Enter the number of elements required: \"))\n",
    "for i in range(n):\n",
    "    item=input(f\"Enter element no.{i+1}: \")\n",
    "    if item.isdigit():\n",
    "        s.add(int(item))\n",
    "    else:\n",
    "        s.add(item)\n",
    "print(\"Your input set:\",s)"
   ]
  },
  {
   "cell_type": "code",
   "execution_count": 46,
   "id": "2b31f9b9",
   "metadata": {},
   "outputs": [
    {
     "name": "stdout",
     "output_type": "stream",
     "text": [
      "Enter a set of elements: {2,3,6,4,3}\n",
      "Enter second set of elements: {9,7,8}\n",
      "Intersection of the input sets is empty!\n"
     ]
    }
   ],
   "source": [
    "#Check if the intersection of two sets is empty\n",
    "s1=eval(input(\"Enter a set of elements: \"))\n",
    "s2=eval(input(\"Enter second set of elements: \"))\n",
    "s3=s1&s2\n",
    "if s3==set():\n",
    "    print(\"Intersection of the input sets is empty!\")\n",
    "else:\n",
    "    print(\"Intersection of the input sets is:\",s3)"
   ]
  },
  {
   "cell_type": "code",
   "execution_count": 52,
   "id": "2334e23f",
   "metadata": {},
   "outputs": [
    {
     "name": "stdout",
     "output_type": "stream",
     "text": [
      "Set of first 5 fibonacci numbers: {0, 1, 2, 3}\n"
     ]
    }
   ],
   "source": [
    "#Create a set of the first 5 Fibonacci numbers\n",
    "l=[0,1]\n",
    "for i in range(5-2):\n",
    "    l.append(l[i+1]+l[i])\n",
    "s=set(l)\n",
    "print(\"Set of first 5 fibonacci numbers:\",s)"
   ]
  },
  {
   "cell_type": "code",
   "execution_count": 53,
   "id": "6831e29d",
   "metadata": {},
   "outputs": [
    {
     "name": "stdout",
     "output_type": "stream",
     "text": [
      "Enter a list of items: [2,6,4,2,6,23,'python',6,'python']\n",
      "Input list with duplicate elements: [2, 6, 4, 2, 6, 23, 'python', 6, 'python']\n",
      "Output list without duplicate elements: [2, 4, 6, 'python', 23]\n"
     ]
    }
   ],
   "source": [
    "#Remove duplicates from a list using sets\n",
    "l=eval(input(\"Enter a list of items: \"))\n",
    "print(\"Input list with duplicate elements:\",l)\n",
    "s=set(l)\n",
    "l=list(s)\n",
    "print(\"Output list without duplicate elements:\",l)"
   ]
  },
  {
   "cell_type": "code",
   "execution_count": 55,
   "id": "f4f742e6",
   "metadata": {},
   "outputs": [
    {
     "name": "stdout",
     "output_type": "stream",
     "text": [
      "Enter a set of elements: {1,23,6,46,5}\n",
      "Enter a second set of elements: {1,23,46,5}\n",
      "The symmetric difference between the input sets: {6}\n"
     ]
    }
   ],
   "source": [
    "#Check if two sets have the same elements, regardless of their count\n",
    "s1=eval(input(\"Enter a set of elements: \"))\n",
    "s2=eval(input(\"Enter a second set of elements: \"))\n",
    "s3=s1^s2    #s3  represents the symmetric difference between the sets\n",
    "if s3==set():\n",
    "    print(\"Input sets have the same elements\")\n",
    "else:\n",
    "    print(\"The symmetric difference between the input sets:\",s3)"
   ]
  },
  {
   "cell_type": "code",
   "execution_count": 56,
   "id": "1768460e",
   "metadata": {},
   "outputs": [
    {
     "name": "stdout",
     "output_type": "stream",
     "text": [
      "Enter a value of n: 5\n",
      "set of the first `5` powers of 2: {1, 2, 4, 8, 16}\n"
     ]
    }
   ],
   "source": [
    "#Create a set of the first `n` powers of 2\n",
    "n=int(input(\"Enter a value of n: \"))\n",
    "s={2**i for i in range(n)}\n",
    "print(f\"set of the first `{n}` powers of 2:\",s)"
   ]
  },
  {
   "cell_type": "code",
   "execution_count": 57,
   "id": "dbb95aaa",
   "metadata": {},
   "outputs": [
    {
     "name": "stdout",
     "output_type": "stream",
     "text": [
      "Enter a list of items: [2,3,1,55,65,50]\n",
      "Enter a set of elements: {23,2,55,70,5,65}\n",
      "The common elements between the input set and the list are: {65, 2, 55}\n"
     ]
    }
   ],
   "source": [
    "#Find the common elements between a set and a list\n",
    "l=eval(input(\"Enter a list of items: \"))\n",
    "s=eval(input(\"Enter a set of elements: \"))\n",
    "s1=set(l)\n",
    "s2=s1&s\n",
    "print(\"The common elements between the input set and the list are:\",s2)"
   ]
  },
  {
   "cell_type": "code",
   "execution_count": 59,
   "id": "f85b274b",
   "metadata": {},
   "outputs": [
    {
     "name": "stdout",
     "output_type": "stream",
     "text": [
      "Enter a value of n: 10\n",
      "Set of the first `10` triangular numbers is: {1, 3, 36, 6, 10, 45, 15, 21, 28}\n"
     ]
    }
   ],
   "source": [
    "#Create a set of the first `n` triangular numbers\n",
    "n=int(input(\"Enter a value of n: \"))\n",
    "s=set()\n",
    "item,k=1,2\n",
    "for i in range(1,n):\n",
    "    s.add(item)\n",
    "    item+=k\n",
    "    k+=1\n",
    "print(f\"Set of the first `{n}` triangular numbers is:\",s)"
   ]
  },
  {
   "cell_type": "code",
   "execution_count": 66,
   "id": "38e3693b",
   "metadata": {},
   "outputs": [],
   "source": [
    "#Check if a set contains another set as a subset\n"
   ]
  },
  {
   "cell_type": "code",
   "execution_count": 67,
   "id": "63393e44",
   "metadata": {},
   "outputs": [
    {
     "name": "stdout",
     "output_type": "stream",
     "text": [
      "Enter the value of n: 10\n",
      "Set of alternating 1s and 0s of length `10`: {0, 1}\n"
     ]
    }
   ],
   "source": [
    "#Create a set of alternating 1s and 0s of length `n`\n",
    "n=int(input(\"Enter the value of n: \"))\n",
    "s=set()\n",
    "for i in range(n):\n",
    "    if i%2==0:\n",
    "        s.add(1)\n",
    "    else:\n",
    "        s.add(0)\n",
    "print(f\"Set of alternating 1s and 0s of length `{n}`:\",s)"
   ]
  },
  {
   "cell_type": "code",
   "execution_count": 69,
   "id": "f92acf1a",
   "metadata": {},
   "outputs": [
    {
     "name": "stdout",
     "output_type": "stream",
     "text": [
      "Enter the number of sets required: 5\n",
      "Enter set no.1: {56,464,4,66,6,2}\n",
      "Enter set no.2: {2,131,6,6,5}\n",
      "Enter set no.3: {1,31,13,1}\n",
      "Enter set no.4: {79,212,44,1,12,1}\n",
      "Enter set no.5: {146,41,31,3}\n",
      "Output: {1, 66, 2, 4, 131, 6, 5, 3, 12, 13, 79, 464, 146, 212, 31, 41, 44, 56}\n"
     ]
    }
   ],
   "source": [
    "#Merge multiple sets into one\n",
    "n=int(input(\"Enter the number of sets required: \"))\n",
    "s=set()\n",
    "s1=set()\n",
    "for i in range(n):\n",
    "    s=eval(input(f\"Enter set no.{i+1}: \"))\n",
    "    s1.update(s)\n",
    "print(\"Output:\",s1)"
   ]
  },
  {
   "cell_type": "code",
   "execution_count": null,
   "id": "bc1c0fd3",
   "metadata": {},
   "outputs": [],
   "source": []
  }
 ],
 "metadata": {
  "kernelspec": {
   "display_name": "Python 3 (ipykernel)",
   "language": "python",
   "name": "python3"
  },
  "language_info": {
   "codemirror_mode": {
    "name": "ipython",
    "version": 3
   },
   "file_extension": ".py",
   "mimetype": "text/x-python",
   "name": "python",
   "nbconvert_exporter": "python",
   "pygments_lexer": "ipython3",
   "version": "3.11.4"
  }
 },
 "nbformat": 4,
 "nbformat_minor": 5
}
