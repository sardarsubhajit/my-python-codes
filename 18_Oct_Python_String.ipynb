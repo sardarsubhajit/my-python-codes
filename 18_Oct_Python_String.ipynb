{
 "cells": [
  {
   "cell_type": "code",
   "execution_count": 3,
   "id": "284e464c",
   "metadata": {},
   "outputs": [
    {
     "name": "stdout",
     "output_type": "stream",
     "text": [
      "Enter a string value: Subhajit\n",
      "Reverse of the given string is: tijahbuS\n"
     ]
    }
   ],
   "source": [
    "#program to reverse a string\n",
    "s=input(\"Enter a string value: \")\n",
    "rev=\"\"\n",
    "for i in range(len(s)):\n",
    "    rev=s[i]+rev\n",
    "print(f\"Reverse of the given string is: {rev}\")\n",
    "\n",
    "#alternate\n",
    "#rev=s[::-1]\n",
    "#print(f\"Reverse of the given string is: {rev}\")"
   ]
  },
  {
   "cell_type": "code",
   "execution_count": 7,
   "id": "d0add190",
   "metadata": {},
   "outputs": [
    {
     "name": "stdout",
     "output_type": "stream",
     "text": [
      "Enter a string input: madam\n",
      "Palindrome\n"
     ]
    }
   ],
   "source": [
    "#Checking if a string is a palindrome\n",
    "s=input(\"Enter a string input: \")\n",
    "if(s[::-1]==s):\n",
    "    print(\"Palindrome\")\n",
    "else:\n",
    "    print(\"Not palindrome\")"
   ]
  },
  {
   "cell_type": "code",
   "execution_count": 8,
   "id": "0a7eeee1",
   "metadata": {},
   "outputs": [
    {
     "name": "stdout",
     "output_type": "stream",
     "text": [
      "Enter a string value: Hi I'm learning python\n",
      "Output: HI I'M LEARNING PYTHON\n"
     ]
    }
   ],
   "source": [
    "#Converting a string to uppercase\n",
    "s=input(\"Enter a string value: \")\n",
    "print(f\"Output: {s.upper()}\")"
   ]
  },
  {
   "cell_type": "code",
   "execution_count": 9,
   "id": "fe27f333",
   "metadata": {},
   "outputs": [
    {
     "name": "stdout",
     "output_type": "stream",
     "text": [
      "Enter a string value: Hi I'm learning python\n",
      "Output: hi i'm learning python\n"
     ]
    }
   ],
   "source": [
    "#Converting a string to lowercase\n",
    "s=input(\"Enter a string value: \")\n",
    "print(f\"Output: {s.lower()}\")"
   ]
  },
  {
   "cell_type": "code",
   "execution_count": 12,
   "id": "c1c9164a",
   "metadata": {},
   "outputs": [
    {
     "name": "stdout",
     "output_type": "stream",
     "text": [
      "Enter a string input: Hi I'm learning python\n",
      "Number of vowels present: 6\n"
     ]
    }
   ],
   "source": [
    "#Counting the number of vowels in a string\n",
    "s=input(\"Enter a string input: \")\n",
    "vowel=['a','e','i','o','u','A','E','I','O','U']\n",
    "count=0\n",
    "for i in s:\n",
    "    if i in vowel:\n",
    "        count+=1\n",
    "print(f\"Number of vowels present: {count}\")"
   ]
  },
  {
   "cell_type": "code",
   "execution_count": 14,
   "id": "f0a5ad67",
   "metadata": {},
   "outputs": [
    {
     "name": "stdout",
     "output_type": "stream",
     "text": [
      "Enter a string input: Hi I'm learning python\n",
      "Number of consonants present: 12\n"
     ]
    }
   ],
   "source": [
    "#Counting the number of consonants in a string\n",
    "s=input(\"Enter a string input: \")\n",
    "cons=set(\"bcdfghjklmnpqrstvwxyzBCDFGHJKLMNPQRSTVWXYZ\")\n",
    "count=0\n",
    "for i in s:\n",
    "    if i in cons:\n",
    "        count+=1\n",
    "print(f\"Number of consonants present: {count}\")"
   ]
  },
  {
   "cell_type": "code",
   "execution_count": 20,
   "id": "b0714c01",
   "metadata": {},
   "outputs": [
    {
     "name": "stdout",
     "output_type": "stream",
     "text": [
      "Enter a string: Remove    all     whitespaces    from   a   string.\n",
      "Your desired output: Remove all whitespaces from a string. "
     ]
    }
   ],
   "source": [
    "#Removing all whitespaces from a string\n",
    "s=input(\"Enter a string: \")\n",
    "new=s.split()\n",
    "print(\"Your desired output: \",end=\"\")\n",
    "for i in new:\n",
    "    print(i,end=\" \")"
   ]
  },
  {
   "cell_type": "code",
   "execution_count": 2,
   "id": "22fbd545",
   "metadata": {},
   "outputs": [
    {
     "name": "stdout",
     "output_type": "stream",
     "text": [
      "Enter a string input: Hello World\n",
      "Length of the given string is 11\n"
     ]
    }
   ],
   "source": [
    "#finding the length of a string without using the `len()` function\n",
    "s=input(\"Enter a string input: \")\n",
    "count=0\n",
    "for i in s:\n",
    "    count+=1\n",
    "print(\"Length of the given string is {}\".format(count))"
   ]
  },
  {
   "cell_type": "code",
   "execution_count": 6,
   "id": "b180ccc2",
   "metadata": {},
   "outputs": [
    {
     "name": "stdout",
     "output_type": "stream",
     "text": [
      "Enter a string input: Hi I am learning Python\n",
      "Enter the sub-string you are searching for: PYTHON\n",
      "PYTHON is present in the given string.\n"
     ]
    }
   ],
   "source": [
    "#checking if a string contains a specific word\n",
    "s=input(\"Enter a string input: \")\n",
    "sub=input(\"Enter the sub-string you are searching for: \")\n",
    "flag=False\n",
    "if sub in s or sub.upper() in s or sub.lower() in s or sub.title() in s:\n",
    "    flag=True\n",
    "if(flag):\n",
    "    print(\"{} is present in the given string.\".format(sub))\n",
    "else:\n",
    "    print(\"{} isn't present in the given string.\".format(sub))"
   ]
  },
  {
   "cell_type": "code",
   "execution_count": 13,
   "id": "921f45f8",
   "metadata": {},
   "outputs": [
    {
     "name": "stdout",
     "output_type": "stream",
     "text": [
      "Enter a string value: Hi I am learning Python\n",
      "Enter the word you want to replace: Python\n",
      "Enter the word you want to replace with Python: Java\n",
      "Hi I am learning Java\n"
     ]
    }
   ],
   "source": [
    "#ReplacING a word in a string with another word\n",
    "s=input(\"Enter a string value: \")\n",
    "sub1=input(\"Enter the word you want to replace: \")\n",
    "sub2=input(\"Enter the word you want to replace with {}: \".format(sub1))\n",
    "flag=False\n",
    "if sub1 in s:\n",
    "    s1=s.replace(sub1,sub2)\n",
    "    flag=True\n",
    "if(not flag):\n",
    "    print(\"{} is not present in the given string.\".format(sub1))\n",
    "else:\n",
    "    print(s1)"
   ]
  },
  {
   "cell_type": "code",
   "execution_count": 14,
   "id": "9823d596",
   "metadata": {},
   "outputs": [
    {
     "name": "stdout",
     "output_type": "stream",
     "text": [
      "Enter a string: Hi I am learning Python. Python is being used in many platforms including web and desktop application. Python is a very easy programming language.\n",
      "Enter the sub-string you are searching for: Python\n",
      "Occurences of Python in the given string is: 3\n"
     ]
    }
   ],
   "source": [
    "#Counting the occurrences of a word in a string\n",
    "s=input(\"Enter a string: \")\n",
    "sub=input(\"Enter the sub-string you are searching for: \")\n",
    "loc,count=-1,0\n",
    "while(True):\n",
    "    loc=s.find(sub,loc+1,len(s))\n",
    "    if(loc==-1):\n",
    "        break\n",
    "    else:\n",
    "        count+=1\n",
    "print(\"Occurences of {} in the given string is: {}\".format(sub,count))"
   ]
  },
  {
   "cell_type": "code",
   "execution_count": 17,
   "id": "2944963a",
   "metadata": {},
   "outputs": [
    {
     "name": "stdout",
     "output_type": "stream",
     "text": [
      "Enter a string: Hi I am learning Python. Python is being used in many platforms including web and desktop application. Python is a very easy programming language.\n",
      "Enter the sub-srting you are searching for: Python\n",
      "Python is present in the string at the location: 17\n"
     ]
    }
   ],
   "source": [
    "#Finding the first occurrence of a word in a string\n",
    "s=input(\"Enter a string: \")\n",
    "sub=input(\"Enter the sub-srting you are searching for: \")\n",
    "loc=s.find(sub,0,len(s))\n",
    "if(loc==-1):\n",
    "    print(\"\\\"{}\\\" is not present in the given string.\".format(sub))\n",
    "else:\n",
    "    print(f\"{sub} is present in the string at the location: {loc}\")"
   ]
  },
  {
   "cell_type": "code",
   "execution_count": 21,
   "id": "1212732c",
   "metadata": {},
   "outputs": [
    {
     "name": "stdout",
     "output_type": "stream",
     "text": [
      "Enter a string value: Hi I am learning Python. Python is being used in many platforms including web and desktop application. Python is a very easy programming language.\n",
      "Enter the word you are searching for: Python\n",
      "Last occurence of \"Python\" in the given string is: 103\n"
     ]
    }
   ],
   "source": [
    "#Finding the last occurrence of a word in a string\n",
    "s=input(\"Enter a string value: \")\n",
    "sub=input(\"Enter the word you are searching for: \")\n",
    "loc=prev=-1\n",
    "while(True):\n",
    "    loc=s.find(sub,loc+1,len(s))\n",
    "    if(loc==-1):\n",
    "        break\n",
    "    else:\n",
    "        prev=loc\n",
    "if(loc==-1 and prev==-1):\n",
    "    print(f\"\\\"{sub}\\\" is not present in the given string.\")\n",
    "else:\n",
    "    print(\"Last occurence of \\\"{}\\\" in the given string is: {}\".format(sub,prev))"
   ]
  },
  {
   "cell_type": "code",
   "execution_count": 22,
   "id": "ff71e628",
   "metadata": {},
   "outputs": [
    {
     "name": "stdout",
     "output_type": "stream",
     "text": [
      "Enter a string value: Hi I am learning Python.\n",
      "Hi\n",
      "I\n",
      "am\n",
      "learning\n",
      "Python.\n"
     ]
    }
   ],
   "source": [
    "#Spliting a string into a list of words\n",
    "s=input(\"Enter a string value: \")\n",
    "l=s.split()\n",
    "for i in l:\n",
    "    print(i)"
   ]
  },
  {
   "cell_type": "code",
   "execution_count": 35,
   "id": "69c8da84",
   "metadata": {},
   "outputs": [
    {
     "name": "stdout",
     "output_type": "stream",
     "text": [
      "Enter the number of words required: 5\n",
      "Enter a word: Hi\n",
      "Enter a word: I\n",
      "Enter a word: am\n",
      "Enter a word: learning\n",
      "Enter a word: Python.\n",
      "Your string is: Hi I am learning Python.\n"
     ]
    }
   ],
   "source": [
    "#Joining a list of words into a string\n",
    "l=[]\n",
    "n=int(input(\"Enter the number of words required: \"))\n",
    "for i in range(n):\n",
    "    l.append(input(\"Enter a word: \"))\n",
    "s=\" \".join(l)\n",
    "print(f\"Your string is: {s}\")"
   ]
  },
  {
   "cell_type": "code",
   "execution_count": 2,
   "id": "303b0448",
   "metadata": {},
   "outputs": [
    {
     "name": "stdout",
     "output_type": "stream",
     "text": [
      "Enter a string: Hi I am learning Python.\n",
      "Output:  Hi_I_am_learning_Python.\n"
     ]
    }
   ],
   "source": [
    "#Convert a string where words are separated by spaces to one where words are separated by underscores\n",
    "s=input(\"Enter a string: \")\n",
    "s1=s.replace(\" \",\"_\")\n",
    "print(\"Output: \",s1)"
   ]
  },
  {
   "cell_type": "code",
   "execution_count": 5,
   "id": "db69f3c0",
   "metadata": {},
   "outputs": [
    {
     "name": "stdout",
     "output_type": "stream",
     "text": [
      "Enter a string: Hi I am learning python.\n",
      "Enter a word or a phrase: hi\n",
      "The given string starts with hi\n"
     ]
    }
   ],
   "source": [
    "#Check if a string starts with a specific word or phrase\n",
    "s=input(\"Enter a string: \")\n",
    "sub=input(\"Enter a word or a phrase: \")\n",
    "if(s.startswith(sub) or s.startswith(sub.title())):\n",
    "    print(\"The given string starts with {}\".format(sub))\n",
    "else:\n",
    "    print(\"The given string doesn't start with {}\".format(sub))"
   ]
  },
  {
   "cell_type": "code",
   "execution_count": 7,
   "id": "aae68dae",
   "metadata": {},
   "outputs": [
    {
     "name": "stdout",
     "output_type": "stream",
     "text": [
      "Enter a string: Hi I am learning Python\n",
      "Enter a word or a phrase: python\n",
      "The given string ends with python\n"
     ]
    }
   ],
   "source": [
    "#Check if a string ends with a specific word or phrase\n",
    "s=input(\"Enter a string: \")\n",
    "sub=input(\"Enter a word or a phrase: \")\n",
    "if(s.endswith(sub) or s.endswith(sub.title())):\n",
    "    print(\"The given string ends with {}\".format(sub))\n",
    "else:\n",
    "    print(\"The given string doesn't end with {}\".format(sub))"
   ]
  },
  {
   "cell_type": "code",
   "execution_count": 11,
   "id": "d5cb4cb0",
   "metadata": {},
   "outputs": [
    {
     "name": "stdout",
     "output_type": "stream",
     "text": [
      "Enter a string: hello world\n",
      "Output: Hello World\n"
     ]
    }
   ],
   "source": [
    "#Convert a string to title case\n",
    "s=input(\"Enter a string: \")\n",
    "s1=s.title()\n",
    "print(\"Output:\",s1)"
   ]
  },
  {
   "cell_type": "code",
   "execution_count": 16,
   "id": "dbd22995",
   "metadata": {},
   "outputs": [
    {
     "name": "stdout",
     "output_type": "stream",
     "text": [
      "Enter a string: Hi I am learning python\n",
      "The longest word present in the given string is: \"learning\"\n"
     ]
    }
   ],
   "source": [
    "#Find the longest word in a string\n",
    "s=input(\"Enter a string: \")\n",
    "l=s.split()\n",
    "lock=\"\"\n",
    "for i in l:\n",
    "    if(len(lock)<len(i)):\n",
    "        lock=i\n",
    "print(\"The longest word present in the given string is: \\\"{}\\\"\".format(lock))"
   ]
  },
  {
   "cell_type": "code",
   "execution_count": 17,
   "id": "0fba1121",
   "metadata": {},
   "outputs": [
    {
     "name": "stdout",
     "output_type": "stream",
     "text": [
      "Enter a string: Hi I am learning python\n",
      "The longest word present in the given string is: \"I\"\n"
     ]
    }
   ],
   "source": [
    "#Find the shortest word in a string\n",
    "s=input(\"Enter a string: \")\n",
    "l=s.split()\n",
    "lock=l[0]\n",
    "for i in l:\n",
    "    if(len(lock)>len(i)):\n",
    "        lock=i\n",
    "print(\"The longest word present in the given string is: \\\"{}\\\"\".format(lock))"
   ]
  },
  {
   "cell_type": "code",
   "execution_count": 22,
   "id": "7dc63fdf",
   "metadata": {},
   "outputs": [
    {
     "name": "stdout",
     "output_type": "stream",
     "text": [
      "Enter a string: Hi I am learning pyhton\n",
      "Output: pyhton learning am I Hi\n"
     ]
    }
   ],
   "source": [
    "#Reverse the order of words in a string\n",
    "s=input(\"Enter a string: \")\n",
    "l,s1=s.split(),\"\"\n",
    "for i in range(len(l)-1,-1,-1):\n",
    "    if(i==0):\n",
    "        s1=s1+l[i]\n",
    "    else:\n",
    "        s1=s1+l[i]+\" \"\n",
    "print(\"Output:\",s1)"
   ]
  },
  {
   "cell_type": "code",
   "execution_count": 26,
   "id": "0b26bcab",
   "metadata": {},
   "outputs": [
    {
     "name": "stdout",
     "output_type": "stream",
     "text": [
      "Enter a alphanumeric string: subhajit8801\n",
      "Input string is alphanumeric\n"
     ]
    }
   ],
   "source": [
    "#Check if a string is alphanumeric\n",
    "s=input(\"Enter a alphanumeric string: \")\n",
    "if(s.isalnum()):\n",
    "    print(\"Input string is alphanumeric\")\n",
    "else:\n",
    "    print(\"Input string is not alphanumeric\")"
   ]
  },
  {
   "cell_type": "code",
   "execution_count": 3,
   "id": "96c5fd87",
   "metadata": {},
   "outputs": [
    {
     "name": "stdout",
     "output_type": "stream",
     "text": [
      "Enter a string: subhajit8801@gmail.com\n",
      "Output: subhajit@gmail.com\n"
     ]
    }
   ],
   "source": [
    "#Extract all digits from a string\n",
    "s=input(\"Enter a string: \")\n",
    "s1=\"\"\n",
    "for i in s:\n",
    "    if(i.isdigit()):\n",
    "        s1=s1+\"\"\n",
    "    else:\n",
    "        s1=s1+i\n",
    "print(\"Output:\",s1)"
   ]
  },
  {
   "cell_type": "code",
   "execution_count": 4,
   "id": "5207fd18",
   "metadata": {},
   "outputs": [
    {
     "name": "stdout",
     "output_type": "stream",
     "text": [
      "Enter a string: subhajit8801@gmail.com\n",
      "Output: 8801@.\n"
     ]
    }
   ],
   "source": [
    "#Extract all alphabets from a string\n",
    "s=input(\"Enter a string: \")\n",
    "s1=\"\"\n",
    "for i in s:\n",
    "    if(i.isalpha()):\n",
    "        s1=s1+\"\"\n",
    "    else:\n",
    "        s1=s1+i\n",
    "print(\"Output:\",s1)"
   ]
  },
  {
   "cell_type": "code",
   "execution_count": 6,
   "id": "e08c2fdb",
   "metadata": {},
   "outputs": [
    {
     "name": "stdout",
     "output_type": "stream",
     "text": [
      "Enter a string: Hi I am learning Python.\n",
      "Number of uppercase characters in the given string is: 3\n"
     ]
    }
   ],
   "source": [
    "#Count the number of uppercase letters in a string\n",
    "s=input(\"Enter a string: \")\n",
    "count=0\n",
    "for i in s:\n",
    "    if(i.isupper()):\n",
    "        count+=1\n",
    "print(\"Number of uppercase characters in the given string is:\",count)"
   ]
  },
  {
   "cell_type": "code",
   "execution_count": 8,
   "id": "066abad4",
   "metadata": {},
   "outputs": [
    {
     "name": "stdout",
     "output_type": "stream",
     "text": [
      "Enter a string: Hi I am learning Python.\n",
      "Number of uppercase characters in the given string is: 16\n"
     ]
    }
   ],
   "source": [
    "#Count the number of lowercase letters in a string.\n",
    "s=input(\"Enter a string: \")\n",
    "count=0\n",
    "for i in s:\n",
    "    if(i.islower()):\n",
    "        count+=1\n",
    "print(\"Number of uppercase characters in the given string is:\",count)"
   ]
  },
  {
   "cell_type": "code",
   "execution_count": 9,
   "id": "f7b74f87",
   "metadata": {},
   "outputs": [
    {
     "name": "stdout",
     "output_type": "stream",
     "text": [
      "Enter a string: Hi I am learning Python.\n",
      "Output: hI i AM LEARNING pYTHON.\n"
     ]
    }
   ],
   "source": [
    "#Swap the case of each character in a string\n",
    "s=input(\"Enter a string: \")\n",
    "s1=s.swapcase()\n",
    "print(\"Output:\",s1)"
   ]
  },
  {
   "cell_type": "code",
   "execution_count": 10,
   "id": "6cca0258",
   "metadata": {},
   "outputs": [
    {
     "name": "stdout",
     "output_type": "stream",
     "text": [
      "Enter a string: Hi I am learning Python.\n",
      "Enter the word you want to eliminate: Python\n",
      "Output: Hi I am learning .\n"
     ]
    }
   ],
   "source": [
    "#Remove a specific word from a string\n",
    "s=input(\"Enter a string: \")\n",
    "sub=input(\"Enter the word you want to eliminate: \")\n",
    "s1=s.replace(sub,\"\")\n",
    "print(\"Output:\",s1)"
   ]
  },
  {
   "cell_type": "code",
   "execution_count": 16,
   "id": "f3ea4378",
   "metadata": {},
   "outputs": [
    {
     "name": "stdout",
     "output_type": "stream",
     "text": [
      "Enter a email address:subhajit8801@gmail.com\n",
      "Valid email address!\n"
     ]
    }
   ],
   "source": [
    "#Check if a string is a valid email address\n",
    "s=input(\"Enter a email address:\")\n",
    "if(s.isalnum and s.find(\"@gmail.com\")!=-1 or s.find(\"@yahoo.com\")!=-1 or s.find(\"@hotmail.com\")!=-1):\n",
    "    print(\"Valid email address!\")\n",
    "else:\n",
    "    print(\"Invalid email address!\")"
   ]
  },
  {
   "cell_type": "code",
   "execution_count": null,
   "id": "0ede415c",
   "metadata": {},
   "outputs": [],
   "source": []
  }
 ],
 "metadata": {
  "kernelspec": {
   "display_name": "Python 3 (ipykernel)",
   "language": "python",
   "name": "python3"
  },
  "language_info": {
   "codemirror_mode": {
    "name": "ipython",
    "version": 3
   },
   "file_extension": ".py",
   "mimetype": "text/x-python",
   "name": "python",
   "nbconvert_exporter": "python",
   "pygments_lexer": "ipython3",
   "version": "3.11.4"
  }
 },
 "nbformat": 4,
 "nbformat_minor": 5
}
