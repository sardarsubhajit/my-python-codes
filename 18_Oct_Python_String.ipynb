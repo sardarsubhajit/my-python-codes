{
 "cells": [
  {
   "cell_type": "code",
   "execution_count": 3,
   "id": "284e464c",
   "metadata": {},
   "outputs": [
    {
     "name": "stdout",
     "output_type": "stream",
     "text": [
      "Enter a string value: Subhajit\n",
      "Reverse of the given string is: tijahbuS\n"
     ]
    }
   ],
   "source": [
    "#program to reverse a string\n",
    "s=input(\"Enter a string value: \")\n",
    "rev=\"\"\n",
    "for i in range(len(s)):\n",
    "    rev=s[i]+rev\n",
    "print(f\"Reverse of the given string is: {rev}\")\n",
    "\n",
    "#alternate\n",
    "#rev=s[::-1]\n",
    "#print(f\"Reverse of the given string is: {rev}\")"
   ]
  },
  {
   "cell_type": "code",
   "execution_count": 7,
   "id": "d0add190",
   "metadata": {},
   "outputs": [
    {
     "name": "stdout",
     "output_type": "stream",
     "text": [
      "Enter a string input: madam\n",
      "Palindrome\n"
     ]
    }
   ],
   "source": [
    "#Checking if a string is a palindrome\n",
    "s=input(\"Enter a string input: \")\n",
    "if(s[::-1]==s):\n",
    "    print(\"Palindrome\")\n",
    "else:\n",
    "    print(\"Not palindrome\")"
   ]
  },
  {
   "cell_type": "code",
   "execution_count": 8,
   "id": "0a7eeee1",
   "metadata": {},
   "outputs": [
    {
     "name": "stdout",
     "output_type": "stream",
     "text": [
      "Enter a string value: Hi I'm learning python\n",
      "Output: HI I'M LEARNING PYTHON\n"
     ]
    }
   ],
   "source": [
    "#Converting a string to uppercase\n",
    "s=input(\"Enter a string value: \")\n",
    "print(f\"Output: {s.upper()}\")"
   ]
  },
  {
   "cell_type": "code",
   "execution_count": 9,
   "id": "fe27f333",
   "metadata": {},
   "outputs": [
    {
     "name": "stdout",
     "output_type": "stream",
     "text": [
      "Enter a string value: Hi I'm learning python\n",
      "Output: hi i'm learning python\n"
     ]
    }
   ],
   "source": [
    "#Converting a string to lowercase\n",
    "s=input(\"Enter a string value: \")\n",
    "print(f\"Output: {s.lower()}\")"
   ]
  },
  {
   "cell_type": "code",
   "execution_count": 12,
   "id": "c1c9164a",
   "metadata": {},
   "outputs": [
    {
     "name": "stdout",
     "output_type": "stream",
     "text": [
      "Enter a string input: Hi I'm learning python\n",
      "Number of vowels present: 6\n"
     ]
    }
   ],
   "source": [
    "#Counting the number of vowels in a string\n",
    "s=input(\"Enter a string input: \")\n",
    "vowel=['a','e','i','o','u','A','E','I','O','U']\n",
    "count=0\n",
    "for i in s:\n",
    "    if i in vowel:\n",
    "        count+=1\n",
    "print(f\"Number of vowels present: {count}\")"
   ]
  },
  {
   "cell_type": "code",
   "execution_count": 14,
   "id": "f0a5ad67",
   "metadata": {},
   "outputs": [
    {
     "name": "stdout",
     "output_type": "stream",
     "text": [
      "Enter a string input: Hi I'm learning python\n",
      "Number of consonants present: 12\n"
     ]
    }
   ],
   "source": [
    "#Counting the number of consonants in a string\n",
    "s=input(\"Enter a string input: \")\n",
    "cons=set(\"bcdfghjklmnpqrstvwxyzBCDFGHJKLMNPQRSTVWXYZ\")\n",
    "count=0\n",
    "for i in s:\n",
    "    if i in cons:\n",
    "        count+=1\n",
    "print(f\"Number of consonants present: {count}\")"
   ]
  },
  {
   "cell_type": "code",
   "execution_count": 20,
   "id": "b0714c01",
   "metadata": {},
   "outputs": [
    {
     "name": "stdout",
     "output_type": "stream",
     "text": [
      "Enter a string: Remove    all     whitespaces    from   a   string.\n",
      "Your desired output: Remove all whitespaces from a string. "
     ]
    }
   ],
   "source": [
    "#Removing all whitespaces from a string\n",
    "s=input(\"Enter a string: \")\n",
    "new=s.split()\n",
    "print(\"Your desired output: \",end=\"\")\n",
    "for i in new:\n",
    "    print(i,end=\" \")"
   ]
  },
  {
   "cell_type": "code",
   "execution_count": 2,
   "id": "22fbd545",
   "metadata": {},
   "outputs": [
    {
     "name": "stdout",
     "output_type": "stream",
     "text": [
      "Enter a string input: Hello World\n",
      "Length of the given string is 11\n"
     ]
    }
   ],
   "source": [
    "#finding the length of a string without using the `len()` function\n",
    "s=input(\"Enter a string input: \")\n",
    "count=0\n",
    "for i in s:\n",
    "    count+=1\n",
    "print(\"Length of the given string is {}\".format(count))"
   ]
  },
  {
   "cell_type": "code",
   "execution_count": 6,
   "id": "b180ccc2",
   "metadata": {},
   "outputs": [
    {
     "name": "stdout",
     "output_type": "stream",
     "text": [
      "Enter a string input: Hi I am learning Python\n",
      "Enter the sub-string you are searching for: PYTHON\n",
      "PYTHON is present in the given string.\n"
     ]
    }
   ],
   "source": [
    "#checking if a string contains a specific word\n",
    "s=input(\"Enter a string input: \")\n",
    "sub=input(\"Enter the sub-string you are searching for: \")\n",
    "flag=False\n",
    "if sub in s or sub.upper() in s or sub.lower() in s or sub.title() in s:\n",
    "    flag=True\n",
    "if(flag):\n",
    "    print(\"{} is present in the given string.\".format(sub))\n",
    "else:\n",
    "    print(\"{} isn't present in the given string.\".format(sub))"
   ]
  },
  {
   "cell_type": "code",
   "execution_count": 13,
   "id": "921f45f8",
   "metadata": {},
   "outputs": [
    {
     "name": "stdout",
     "output_type": "stream",
     "text": [
      "Enter a string value: Hi I am learning Python\n",
      "Enter the word you want to replace: Python\n",
      "Enter the word you want to replace with Python: Java\n",
      "Hi I am learning Java\n"
     ]
    }
   ],
   "source": [
    "#ReplacING a word in a string with another word\n",
    "s=input(\"Enter a string value: \")\n",
    "sub1=input(\"Enter the word you want to replace: \")\n",
    "sub2=input(\"Enter the word you want to replace with {}: \".format(sub1))\n",
    "flag=False\n",
    "if sub1 in s:\n",
    "    s1=s.replace(sub1,sub2)\n",
    "    flag=True\n",
    "if(not flag):\n",
    "    print(\"{} is not present in the given string.\".format(sub1))\n",
    "else:\n",
    "    print(s1)"
   ]
  },
  {
   "cell_type": "code",
   "execution_count": 14,
   "id": "9823d596",
   "metadata": {},
   "outputs": [
    {
     "name": "stdout",
     "output_type": "stream",
     "text": [
      "Enter a string: Hi I am learning Python. Python is being used in many platforms including web and desktop application. Python is a very easy programming language.\n",
      "Enter the sub-string you are searching for: Python\n",
      "Occurences of Python in the given string is: 3\n"
     ]
    }
   ],
   "source": [
    "#Counting the occurrences of a word in a string\n",
    "s=input(\"Enter a string: \")\n",
    "sub=input(\"Enter the sub-string you are searching for: \")\n",
    "loc,count=-1,0\n",
    "while(True):\n",
    "    loc=s.find(sub,loc+1,len(s))\n",
    "    if(loc==-1):\n",
    "        break\n",
    "    else:\n",
    "        count+=1\n",
    "print(\"Occurences of {} in the given string is: {}\".format(sub,count))"
   ]
  },
  {
   "cell_type": "code",
   "execution_count": 17,
   "id": "2944963a",
   "metadata": {},
   "outputs": [
    {
     "name": "stdout",
     "output_type": "stream",
     "text": [
      "Enter a string: Hi I am learning Python. Python is being used in many platforms including web and desktop application. Python is a very easy programming language.\n",
      "Enter the sub-srting you are searching for: Python\n",
      "Python is present in the string at the location: 17\n"
     ]
    }
   ],
   "source": [
    "#Finding the first occurrence of a word in a string\n",
    "s=input(\"Enter a string: \")\n",
    "sub=input(\"Enter the sub-srting you are searching for: \")\n",
    "loc=s.find(sub,0,len(s))\n",
    "if(loc==-1):\n",
    "    print(\"\\\"{}\\\" is not present in the given string.\".format(sub))\n",
    "else:\n",
    "    print(f\"{sub} is present in the string at the location: {loc}\")"
   ]
  },
  {
   "cell_type": "code",
   "execution_count": 21,
   "id": "1212732c",
   "metadata": {},
   "outputs": [
    {
     "name": "stdout",
     "output_type": "stream",
     "text": [
      "Enter a string value: Hi I am learning Python. Python is being used in many platforms including web and desktop application. Python is a very easy programming language.\n",
      "Enter the word you are searching for: Python\n",
      "Last occurence of \"Python\" in the given string is: 103\n"
     ]
    }
   ],
   "source": [
    "#Finding the last occurrence of a word in a string\n",
    "s=input(\"Enter a string value: \")\n",
    "sub=input(\"Enter the word you are searching for: \")\n",
    "loc=prev=-1\n",
    "while(True):\n",
    "    loc=s.find(sub,loc+1,len(s))\n",
    "    if(loc==-1):\n",
    "        break\n",
    "    else:\n",
    "        prev=loc\n",
    "if(loc==-1 and prev==-1):\n",
    "    print(f\"\\\"{sub}\\\" is not present in the given string.\")\n",
    "else:\n",
    "    print(\"Last occurence of \\\"{}\\\" in the given string is: {}\".format(sub,prev))"
   ]
  },
  {
   "cell_type": "code",
   "execution_count": 22,
   "id": "ff71e628",
   "metadata": {},
   "outputs": [
    {
     "name": "stdout",
     "output_type": "stream",
     "text": [
      "Enter a string value: Hi I am learning Python.\n",
      "Hi\n",
      "I\n",
      "am\n",
      "learning\n",
      "Python.\n"
     ]
    }
   ],
   "source": [
    "#Spliting a string into a list of words\n",
    "s=input(\"Enter a string value: \")\n",
    "l=s.split()\n",
    "for i in l:\n",
    "    print(i)"
   ]
  },
  {
   "cell_type": "code",
   "execution_count": 35,
   "id": "69c8da84",
   "metadata": {},
   "outputs": [
    {
     "name": "stdout",
     "output_type": "stream",
     "text": [
      "Enter the number of words required: 5\n",
      "Enter a word: Hi\n",
      "Enter a word: I\n",
      "Enter a word: am\n",
      "Enter a word: learning\n",
      "Enter a word: Python.\n",
      "Your string is: Hi I am learning Python.\n"
     ]
    }
   ],
   "source": [
    "#Joining a list of words into a string\n",
    "l=[]\n",
    "n=int(input(\"Enter the number of words required: \"))\n",
    "for i in range(n):\n",
    "    l.append(input(\"Enter a word: \"))\n",
    "s=\" \".join(l)\n",
    "print(f\"Your string is: {s}\")"
   ]
  },
  {
   "cell_type": "code",
   "execution_count": 2,
   "id": "303b0448",
   "metadata": {},
   "outputs": [
    {
     "name": "stdout",
     "output_type": "stream",
     "text": [
      "Enter a string: Hi I am learning Python.\n",
      "Output:  Hi_I_am_learning_Python.\n"
     ]
    }
   ],
   "source": [
    "#Convert a string where words are separated by spaces to one where words are separated by underscores\n",
    "s=input(\"Enter a string: \")\n",
    "s1=s.replace(\" \",\"_\")\n",
    "print(\"Output: \",s1)"
   ]
  },
  {
   "cell_type": "code",
   "execution_count": 5,
   "id": "db69f3c0",
   "metadata": {},
   "outputs": [
    {
     "name": "stdout",
     "output_type": "stream",
     "text": [
      "Enter a string: Hi I am learning python.\n",
      "Enter a word or a phrase: hi\n",
      "The given string starts with hi\n"
     ]
    }
   ],
   "source": [
    "#Check if a string starts with a specific word or phrase\n",
    "s=input(\"Enter a string: \")\n",
    "sub=input(\"Enter a word or a phrase: \")\n",
    "if(s.startswith(sub) or s.startswith(sub.title())):\n",
    "    print(\"The given string starts with {}\".format(sub))\n",
    "else:\n",
    "    print(\"The given string doesn't start with {}\".format(sub))"
   ]
  },
  {
   "cell_type": "code",
   "execution_count": 7,
   "id": "aae68dae",
   "metadata": {},
   "outputs": [
    {
     "name": "stdout",
     "output_type": "stream",
     "text": [
      "Enter a string: Hi I am learning Python\n",
      "Enter a word or a phrase: python\n",
      "The given string ends with python\n"
     ]
    }
   ],
   "source": [
    "#Check if a string ends with a specific word or phrase\n",
    "s=input(\"Enter a string: \")\n",
    "sub=input(\"Enter a word or a phrase: \")\n",
    "if(s.endswith(sub) or s.endswith(sub.title())):\n",
    "    print(\"The given string ends with {}\".format(sub))\n",
    "else:\n",
    "    print(\"The given string doesn't end with {}\".format(sub))"
   ]
  },
  {
   "cell_type": "code",
   "execution_count": 11,
   "id": "d5cb4cb0",
   "metadata": {},
   "outputs": [
    {
     "name": "stdout",
     "output_type": "stream",
     "text": [
      "Enter a string: hello world\n",
      "Output: Hello World\n"
     ]
    }
   ],
   "source": [
    "#Convert a string to title case\n",
    "s=input(\"Enter a string: \")\n",
    "s1=s.title()\n",
    "print(\"Output:\",s1)"
   ]
  },
  {
   "cell_type": "code",
   "execution_count": 16,
   "id": "dbd22995",
   "metadata": {},
   "outputs": [
    {
     "name": "stdout",
     "output_type": "stream",
     "text": [
      "Enter a string: Hi I am learning python\n",
      "The longest word present in the given string is: \"learning\"\n"
     ]
    }
   ],
   "source": [
    "#Find the longest word in a string\n",
    "s=input(\"Enter a string: \")\n",
    "l=s.split()\n",
    "lock=\"\"\n",
    "for i in l:\n",
    "    if(len(lock)<len(i)):\n",
    "        lock=i\n",
    "print(\"The longest word present in the given string is: \\\"{}\\\"\".format(lock))"
   ]
  },
  {
   "cell_type": "code",
   "execution_count": 17,
   "id": "0fba1121",
   "metadata": {},
   "outputs": [
    {
     "name": "stdout",
     "output_type": "stream",
     "text": [
      "Enter a string: Hi I am learning python\n",
      "The longest word present in the given string is: \"I\"\n"
     ]
    }
   ],
   "source": [
    "#Find the shortest word in a string\n",
    "s=input(\"Enter a string: \")\n",
    "l=s.split()\n",
    "lock=l[0]\n",
    "for i in l:\n",
    "    if(len(lock)>len(i)):\n",
    "        lock=i\n",
    "print(\"The longest word present in the given string is: \\\"{}\\\"\".format(lock))"
   ]
  },
  {
   "cell_type": "code",
   "execution_count": 22,
   "id": "7dc63fdf",
   "metadata": {},
   "outputs": [
    {
     "name": "stdout",
     "output_type": "stream",
     "text": [
      "Enter a string: Hi I am learning pyhton\n",
      "Output: pyhton learning am I Hi\n"
     ]
    }
   ],
   "source": [
    "#Reverse the order of words in a string\n",
    "s=input(\"Enter a string: \")\n",
    "l,s1=s.split(),\"\"\n",
    "for i in range(len(l)-1,-1,-1):\n",
    "    if(i==0):\n",
    "        s1=s1+l[i]\n",
    "    else:\n",
    "        s1=s1+l[i]+\" \"\n",
    "print(\"Output:\",s1)"
   ]
  },
  {
   "cell_type": "code",
   "execution_count": 26,
   "id": "0b26bcab",
   "metadata": {},
   "outputs": [
    {
     "name": "stdout",
     "output_type": "stream",
     "text": [
      "Enter a alphanumeric string: subhajit8801\n",
      "Input string is alphanumeric\n"
     ]
    }
   ],
   "source": [
    "#Check if a string is alphanumeric\n",
    "s=input(\"Enter a alphanumeric string: \")\n",
    "if(s.isalnum()):\n",
    "    print(\"Input string is alphanumeric\")\n",
    "else:\n",
    "    print(\"Input string is not alphanumeric\")"
   ]
  },
  {
   "cell_type": "code",
   "execution_count": 3,
   "id": "96c5fd87",
   "metadata": {},
   "outputs": [
    {
     "name": "stdout",
     "output_type": "stream",
     "text": [
      "Enter a string: subhajit8801@gmail.com\n",
      "Output: subhajit@gmail.com\n"
     ]
    }
   ],
   "source": [
    "#Extract all digits from a string\n",
    "s=input(\"Enter a string: \")\n",
    "s1=\"\"\n",
    "for i in s:\n",
    "    if(i.isdigit()):\n",
    "        s1=s1+\"\"\n",
    "    else:\n",
    "        s1=s1+i\n",
    "print(\"Output:\",s1)"
   ]
  },
  {
   "cell_type": "code",
   "execution_count": 4,
   "id": "5207fd18",
   "metadata": {},
   "outputs": [
    {
     "name": "stdout",
     "output_type": "stream",
     "text": [
      "Enter a string: subhajit8801@gmail.com\n",
      "Output: 8801@.\n"
     ]
    }
   ],
   "source": [
    "#Extract all alphabets from a string\n",
    "s=input(\"Enter a string: \")\n",
    "s1=\"\"\n",
    "for i in s:\n",
    "    if(i.isalpha()):\n",
    "        s1=s1+\"\"\n",
    "    else:\n",
    "        s1=s1+i\n",
    "print(\"Output:\",s1)"
   ]
  },
  {
   "cell_type": "code",
   "execution_count": 6,
   "id": "e08c2fdb",
   "metadata": {},
   "outputs": [
    {
     "name": "stdout",
     "output_type": "stream",
     "text": [
      "Enter a string: Hi I am learning Python.\n",
      "Number of uppercase characters in the given string is: 3\n"
     ]
    }
   ],
   "source": [
    "#Count the number of uppercase letters in a string\n",
    "s=input(\"Enter a string: \")\n",
    "count=0\n",
    "for i in s:\n",
    "    if(i.isupper()):\n",
    "        count+=1\n",
    "print(\"Number of uppercase characters in the given string is:\",count)"
   ]
  },
  {
   "cell_type": "code",
   "execution_count": 8,
   "id": "066abad4",
   "metadata": {},
   "outputs": [
    {
     "name": "stdout",
     "output_type": "stream",
     "text": [
      "Enter a string: Hi I am learning Python.\n",
      "Number of uppercase characters in the given string is: 16\n"
     ]
    }
   ],
   "source": [
    "#Count the number of lowercase letters in a string.\n",
    "s=input(\"Enter a string: \")\n",
    "count=0\n",
    "for i in s:\n",
    "    if(i.islower()):\n",
    "        count+=1\n",
    "print(\"Number of uppercase characters in the given string is:\",count)"
   ]
  },
  {
   "cell_type": "code",
   "execution_count": 9,
   "id": "f7b74f87",
   "metadata": {},
   "outputs": [
    {
     "name": "stdout",
     "output_type": "stream",
     "text": [
      "Enter a string: Hi I am learning Python.\n",
      "Output: hI i AM LEARNING pYTHON.\n"
     ]
    }
   ],
   "source": [
    "#Swap the case of each character in a string\n",
    "s=input(\"Enter a string: \")\n",
    "s1=s.swapcase()\n",
    "print(\"Output:\",s1)"
   ]
  },
  {
   "cell_type": "code",
   "execution_count": 10,
   "id": "6cca0258",
   "metadata": {},
   "outputs": [
    {
     "name": "stdout",
     "output_type": "stream",
     "text": [
      "Enter a string: Hi I am learning Python.\n",
      "Enter the word you want to eliminate: Python\n",
      "Output: Hi I am learning .\n"
     ]
    }
   ],
   "source": [
    "#Remove a specific word from a string\n",
    "s=input(\"Enter a string: \")\n",
    "sub=input(\"Enter the word you want to eliminate: \")\n",
    "s1=s.replace(sub,\"\")\n",
    "print(\"Output:\",s1)"
   ]
  },
  {
   "cell_type": "code",
   "execution_count": 4,
   "id": "f3ea4378",
   "metadata": {},
   "outputs": [
    {
     "name": "stdout",
     "output_type": "stream",
     "text": [
      "Enter a email address:subhajit8801@gmail.com\n",
      "Valid email address!\n"
     ]
    }
   ],
   "source": [
    "#Check if a string is a valid email address\n",
    "s=input(\"Enter a email address:\")\n",
    "if(s.find(\"@gmail.com\")!=-1 or s.find(\"@yahoo.com\")!=-1 or s.find(\"@hotmail.com\")!=-1):\n",
    "    print(\"Valid email address!\")\n",
    "else:\n",
    "    print(\"Invalid email address!\")"
   ]
  },
  {
   "cell_type": "code",
   "execution_count": 9,
   "id": "0ede415c",
   "metadata": {},
   "outputs": [
    {
     "name": "stdout",
     "output_type": "stream",
     "text": [
      "Enter an e-mail id: xyz@hotmail.com\n",
      "User name: xyz\n"
     ]
    }
   ],
   "source": [
    "#Extracting the user name from an email id\n",
    "email=input(\"Enter an e-mail id: \")\n",
    "if(email.find(\"@gmail.com\")!=-1 or email.find(\"@yahoo.com\")!=-1 or email.find(\"@hotmail.com\")!=-1):\n",
    "    l=email.split(\"@\")\n",
    "    print(f\"User name: {l[0]}\")\n",
    "else:\n",
    "    print(\"You have given an invalid email\")"
   ]
  },
  {
   "cell_type": "code",
   "execution_count": 10,
   "id": "21fb5f63",
   "metadata": {},
   "outputs": [
    {
     "name": "stdout",
     "output_type": "stream",
     "text": [
      "Enter an e-mail id: subhajit@gmail.com\n",
      "Domain name: gmail.com\n"
     ]
    }
   ],
   "source": [
    "#extracting the domain name from an email id\n",
    "email=input(\"Enter an e-mail id: \")\n",
    "if(email.find(\"@gmail.com\")!=-1 or s.find(\"@yahoo.com\")!=-1 or s.find(\"@hotmail.com\")!=-1):\n",
    "    l=email.split(\"@\")\n",
    "    print(f\"Domain name: {l[1]}\")\n",
    "else:\n",
    "    print(\"Invalid email id\")"
   ]
  },
  {
   "cell_type": "code",
   "execution_count": 14,
   "id": "951b3fb4",
   "metadata": {},
   "outputs": [
    {
     "name": "stdout",
     "output_type": "stream",
     "text": [
      "Enter a string:         Hi     I  am learning     python \n",
      "Output: Hi I am learning python\n"
     ]
    }
   ],
   "source": [
    "#replacing multiple spaces in a string with a single space\n",
    "s=input(\"Enter a string: \")\n",
    "l=s.split()\n",
    "s1=\" \".join(l)\n",
    "print(\"Output:\",s1)"
   ]
  },
  {
   "cell_type": "code",
   "execution_count": 18,
   "id": "d169890f",
   "metadata": {},
   "outputs": [
    {
     "name": "stdout",
     "output_type": "stream",
     "text": [
      "Enter an URL: https:google.com\n",
      "Valid URL\n"
     ]
    }
   ],
   "source": [
    "#Check if a string is a valid URL\n",
    "url=input(\"Enter an URL: \")\n",
    "if(url.startswith(\"https:\") or url.startswith(\"http:\")):\n",
    "    print(\"Valid URL\")\n",
    "else:\n",
    "    print(\"Invalid URL\")"
   ]
  },
  {
   "cell_type": "code",
   "execution_count": 21,
   "id": "2e608872",
   "metadata": {},
   "outputs": [
    {
     "name": "stdout",
     "output_type": "stream",
     "text": [
      "Enter an URL: https:google.co.in\n",
      "Protocol of the given url is: https\n"
     ]
    }
   ],
   "source": [
    "#Extract the protocol (http or https) from a URL string\n",
    "url=input(\"Enter an URL: \")\n",
    "if(url.startswith(\"https:\") or url.startswith(\"http:\")):\n",
    "    l=url.split(\":\")\n",
    "    print(f\"Protocol of the given url is: {l[0]}\")\n",
    "else:\n",
    "    print(\"You have entered an invalid URL\")"
   ]
  },
  {
   "cell_type": "code",
   "execution_count": 25,
   "id": "97de0af9",
   "metadata": {},
   "outputs": [
    {
     "name": "stdout",
     "output_type": "stream",
     "text": [
      "Enter a string value: Abbreviation\n",
      "Frequency of 'A' in the given string is: 1\n",
      "Frequency of 'b' in the given string is: 2\n",
      "Frequency of 'r' in the given string is: 1\n",
      "Frequency of 'e' in the given string is: 1\n",
      "Frequency of 'v' in the given string is: 1\n",
      "Frequency of 'i' in the given string is: 2\n",
      "Frequency of 'a' in the given string is: 1\n",
      "Frequency of 't' in the given string is: 1\n",
      "Frequency of 'o' in the given string is: 1\n",
      "Frequency of 'n' in the given string is: 1\n"
     ]
    }
   ],
   "source": [
    "#Find the frequency of each character in a string\n",
    "s=input(\"Enter a string value: \")\n",
    "l=[]\n",
    "for i in s:\n",
    "    if i not in l:\n",
    "        print(f\"Frequency of \\'{i}\\' in the given string is: {s.count(i)}\")\n",
    "        l.append(i)"
   ]
  },
  {
   "cell_type": "code",
   "execution_count": 29,
   "id": "a846b907",
   "metadata": {},
   "outputs": [
    {
     "name": "stdout",
     "output_type": "stream",
     "text": [
      "Enter a string value: Subhajit said to me, \"How are you?\"\n",
      "Subhajit said to me How are you\n"
     ]
    }
   ],
   "source": [
    "#Remove all punctuation from a string\n",
    "s=input(\"Enter a string value: \")\n",
    "punctuation=[',','.',':',';','?','[',']','(',')','-','/','!',\"\\'\",'\\\"']\n",
    "s1=\"\"\n",
    "for i in s:\n",
    "    if i not in punctuation:\n",
    "        s1=s1+i\n",
    "print(s1)"
   ]
  },
  {
   "cell_type": "code",
   "execution_count": 31,
   "id": "0d5e8c13",
   "metadata": {},
   "outputs": [
    {
     "name": "stdout",
     "output_type": "stream",
     "text": [
      "Enter a string: 129416831\n",
      "Given string contains only digits.\n"
     ]
    }
   ],
   "source": [
    "#Check if a string contains only digits\n",
    "s=input(\"Enter a string: \")\n",
    "if(s.isdigit()):\n",
    "    print(\"Given string contains only digits.\")\n",
    "else:\n",
    "    print(\"Given string doesn't contain only digits.\")"
   ]
  },
  {
   "cell_type": "code",
   "execution_count": 3,
   "id": "c47970dc",
   "metadata": {},
   "outputs": [
    {
     "name": "stdout",
     "output_type": "stream",
     "text": [
      "Enter a word: Listen\n",
      "Enter another word: Silent\n",
      "Listen and Silent are anagrams.\n"
     ]
    }
   ],
   "source": [
    "#Check if two strings are anagrams\n",
    "s1=input(\"Enter a word: \")\n",
    "s2=input(\"Enter another word: \")\n",
    "if(sorted(s1.lower())==sorted(s2.lower())):\n",
    "    print(f\"{s1} and {s2} are anagrams.\")\n",
    "else:\n",
    "    print(f\"{s1} and {s2} aren't anagrams.\")"
   ]
  },
  {
   "cell_type": "code",
   "execution_count": 7,
   "id": "4e55daca",
   "metadata": {},
   "outputs": [
    {
     "name": "stdout",
     "output_type": "stream",
     "text": [
      "Enter a plain text: Hello World!\n",
      "Cipher text of the given plain text is: Tqxx{ c{~xp-\n"
     ]
    }
   ],
   "source": [
    "#Encode a string using a Caesar cipher\n",
    "pt=input(\"Enter a plain text: \")\n",
    "shift=len(pt)%26\n",
    "if shift==0:\n",
    "    shift+=1\n",
    "ct=\"\"\n",
    "for i in pt:\n",
    "    if i.isspace():\n",
    "        ct=ct+\" \"\n",
    "    else:\n",
    "        ct=ct+chr(ord(i)+shift)\n",
    "print(\"Cipher text of the given plain text is:\",ct)"
   ]
  },
  {
   "cell_type": "code",
   "execution_count": 8,
   "id": "283247c7",
   "metadata": {
    "scrolled": false
   },
   "outputs": [
    {
     "name": "stdout",
     "output_type": "stream",
     "text": [
      "Enter the cipher text: Tqxx{ c{~xp-\n",
      "Plain text of the given cipher text is: Hello World!\n"
     ]
    }
   ],
   "source": [
    "#Decode a Caesar cipher encoded string\n",
    "ct=input(\"Enter the cipher text: \")\n",
    "shift=len(ct)%26\n",
    "if shift==0:\n",
    "    shift+=1\n",
    "pt=\"\"\n",
    "for i in ct:\n",
    "    if i.isspace():\n",
    "        pt=pt+\" \"\n",
    "    else:\n",
    "        pt=pt+chr(ord(i)-shift)\n",
    "print(\"Plain text of the given cipher text is:\",pt)"
   ]
  },
  {
   "cell_type": "code",
   "execution_count": 24,
   "id": "93fa03be",
   "metadata": {},
   "outputs": [
    {
     "name": "stdout",
     "output_type": "stream",
     "text": [
      "Enter a string: Hi he is is a good good boy\n",
      "The most frequent words in the given string are: \n",
      "is=2 times\n",
      "good=2 times\n"
     ]
    }
   ],
   "source": [
    "#Find the most frequent word in a string\n",
    "s=input(\"Enter a string: \")\n",
    "l=s.split()\n",
    "d={}\n",
    "for i in l:\n",
    "    if i in d.keys():\n",
    "        d[i]=d[i]+1\n",
    "    else:\n",
    "        d[i]=1\n",
    "m=0\n",
    "for i,j in d.items():\n",
    "    if(m<j):\n",
    "        m=j\n",
    "print(\"The most frequent words in the given string are: \")\n",
    "for i,j in d.items():\n",
    "    if(m==j):\n",
    "        print(\"{}={} times\".format(i,j))"
   ]
  },
  {
   "cell_type": "code",
   "execution_count": 31,
   "id": "4a9f7eec",
   "metadata": {},
   "outputs": [
    {
     "name": "stdout",
     "output_type": "stream",
     "text": [
      "Enter a string: Hi he is is a good good boy\n",
      "All the unique words present in the given string: Hi he is a good boy "
     ]
    }
   ],
   "source": [
    "#Find all unique words in a string\n",
    "s=input(\"Enter a string: \")\n",
    "l=s.split()\n",
    "l1=[]\n",
    "print(\"All the unique words present in the given string:\",end=\" \")\n",
    "for i in l:\n",
    "    if i not in l1:\n",
    "        l1.append(i)\n",
    "        print(i,end=\" \")"
   ]
  },
  {
   "cell_type": "code",
   "execution_count": 39,
   "id": "e42ca1c1",
   "metadata": {},
   "outputs": [
    {
     "name": "stdout",
     "output_type": "stream",
     "text": [
      "Enter a string: Hi my name is $ubho@7718#\n",
      "Your given string countains special character(s): $ @ # "
     ]
    }
   ],
   "source": [
    "#Check if a string contains any special characters\n",
    "s=input(\"Enter a string: \")\n",
    "if(s.isalnum()):\n",
    "    print(\"Your given string doesn't countain special characters.\")\n",
    "else:\n",
    "    print(\"Your given string countains special character(s): \",end=\"\")\n",
    "    for i in s:\n",
    "        if not i.isalnum() and not i.isspace():\n",
    "            print(i,end=\" \")"
   ]
  },
  {
   "cell_type": "code",
   "execution_count": 1,
   "id": "78f69892",
   "metadata": {},
   "outputs": [
    {
     "name": "stdout",
     "output_type": "stream",
     "text": [
      "Enter a string of words: Hi learning Python is so easy\n",
      "Enter the position of the word, you want to remove: 3\n",
      "Required output: Hi learning is so easy\n"
     ]
    }
   ],
   "source": [
    "#Remove the nth word from a string\n",
    "s=input(\"Enter a string of words: \")\n",
    "l=s.split()\n",
    "n=int(input(\"Enter the position of the word, you want to remove: \"))\n",
    "l.remove(l[n-1])\n",
    "output=\" \".join(l)\n",
    "print(\"Required output:\",output)"
   ]
  },
  {
   "cell_type": "code",
   "execution_count": 3,
   "id": "7eebca21",
   "metadata": {},
   "outputs": [
    {
     "name": "stdout",
     "output_type": "stream",
     "text": [
      "Enter a string of words: Hi learning Python is easy\n",
      "Enter the new word you want to insert to the existing sentence: so\n",
      "Enter the position where you want to insert the word: 5\n",
      "Required out: Hi learning Python is so easy\n"
     ]
    }
   ],
   "source": [
    "#Insert a word at the nth position in a string\n",
    "s=input(\"Enter a string of words: \")\n",
    "l=s.split()\n",
    "word=input(\"Enter the new word you want to insert to the existing sentence: \")\n",
    "n=int(input(\"Enter the position where you want to insert the word: \"))\n",
    "l.insert(n-1,word)\n",
    "output=\" \".join(l)\n",
    "print(\"Required out:\",output)"
   ]
  },
  {
   "cell_type": "code",
   "execution_count": null,
   "id": "10fec32c",
   "metadata": {},
   "outputs": [],
   "source": []
  }
 ],
 "metadata": {
  "kernelspec": {
   "display_name": "Python 3 (ipykernel)",
   "language": "python",
   "name": "python3"
  },
  "language_info": {
   "codemirror_mode": {
    "name": "ipython",
    "version": 3
   },
   "file_extension": ".py",
   "mimetype": "text/x-python",
   "name": "python",
   "nbconvert_exporter": "python",
   "pygments_lexer": "ipython3",
   "version": "3.11.4"
  }
 },
 "nbformat": 4,
 "nbformat_minor": 5
}
