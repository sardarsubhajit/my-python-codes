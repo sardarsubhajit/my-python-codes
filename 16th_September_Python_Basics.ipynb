{
 "cells": [
  {
   "cell_type": "code",
   "execution_count": 4,
   "id": "aa4b8cdc",
   "metadata": {},
   "outputs": [
    {
     "name": "stdout",
     "output_type": "stream",
     "text": [
      "Before swapping x: 10 and y: 20\n",
      "After swapping x: 20 and y: 10\n"
     ]
    }
   ],
   "source": [
    "#Swap the values of these variables without using any temporary variable.\n",
    "x,y=10,20\n",
    "print(\"Before swapping x:\",x,\"and y:\",y)\n",
    "x=x+y\n",
    "y=x-y\n",
    "x=x-y\n",
    "print(\"After swapping x:\",x,\"and y:\",y)"
   ]
  },
  {
   "cell_type": "code",
   "execution_count": 8,
   "id": "82acddf3",
   "metadata": {},
   "outputs": [
    {
     "name": "stdout",
     "output_type": "stream",
     "text": [
      "Enter the length of the rectangle:12\n",
      "Enter the breadth of the rectangle:5\n",
      "Area of the rectangle is: 60\n"
     ]
    }
   ],
   "source": [
    "#Create a program that calculates the area of a rectangle.\n",
    "a=int(input(\"Enter the length of the rectangle:\"))\n",
    "b=int(input(\"Enter the breadth of the rectangle:\"))\n",
    "area=(a*b)\n",
    "print(\"Area of the rectangle is:\",area)"
   ]
  },
  {
   "cell_type": "code",
   "execution_count": 10,
   "id": "5a56a140",
   "metadata": {},
   "outputs": [
    {
     "name": "stdout",
     "output_type": "stream",
     "text": [
      "Enter the temperature in Celcius:25.3\n",
      "Reading in celcius scale: 25.3 and the corresponding reading in the Fahrenheit scale is: 77.54\n"
     ]
    }
   ],
   "source": [
    "#Write a Python program that converts temperatures from Celsius to Fahrenheit.\n",
    "c=float(input(\"Enter the temperature in Celcius:\"))\n",
    "f=float((c*9/5)+32)\n",
    "print(\"Reading in celcius scale:\",c,\"and the corresponding reading in the Fahrenheit scale is:\",f)"
   ]
  },
  {
   "cell_type": "code",
   "execution_count": 30,
   "id": "0d5a5490",
   "metadata": {},
   "outputs": [
    {
     "name": "stdout",
     "output_type": "stream",
     "text": [
      "Enter a string value:Sammilani Mahavidyalaya\n",
      "The total length of the given string is: 23\n",
      "Enter a string value:SMMV\n",
      "The total length of the given string is: 4\n"
     ]
    }
   ],
   "source": [
    "#Write a Python program that takes a string as input and prints the length of the string.\n",
    "string1=input(\"Enter a string value:\")\n",
    "n=len(string1)\n",
    "print(\"The total length of the given string is:\",n)\n",
    "#Alternate\n",
    "string2=input(\"Enter a string value:\")\n",
    "counter=0\n",
    "for i in string2:\n",
    "    counter=counter+1\n",
    "print(\"The total length of the given string is:\",counter)"
   ]
  },
  {
   "cell_type": "code",
   "execution_count": 19,
   "id": "59d51065",
   "metadata": {},
   "outputs": [
    {
     "name": "stdout",
     "output_type": "stream",
     "text": [
      "Enter a string value:Subhajit Sardar\n",
      "Number of vowels in the given string are: 5\n"
     ]
    }
   ],
   "source": [
    "#Create a program that takes a sentence from the user and counts the number of vowels (a, e, i, o, u) in the string.\n",
    "string=input(\"Enter a string value:\")\n",
    "vowel=set(\"aeiouAEIOU\")\n",
    "count=0\n",
    "for i in string:\n",
    "    if i in vowel:\n",
    "        count+=1\n",
    "print(\"Number of vowels in the given string are:\",count)"
   ]
  },
  {
   "cell_type": "code",
   "execution_count": 21,
   "id": "175e4dd5",
   "metadata": {},
   "outputs": [
    {
     "name": "stdout",
     "output_type": "stream",
     "text": [
      "Enter your string input: subho\n",
      "Reverse of your given string is: ohbus\n"
     ]
    }
   ],
   "source": [
    "#Given a string, reverse the order of characters using string slicing and print the reversed string.\n",
    "string=input(\"Enter your string input: \")\n",
    "print(\"Reverse of your given string is:\",string[::-1])"
   ]
  },
  {
   "cell_type": "code",
   "execution_count": 28,
   "id": "9635c8e9",
   "metadata": {},
   "outputs": [
    {
     "name": "stdout",
     "output_type": "stream",
     "text": [
      "Enter your string value: madam\n",
      "madam is a palindrome!\n"
     ]
    }
   ],
   "source": [
    "#Write a program that takes a string as input and checks if it is a palindrome.\n",
    "string=input(\"Enter your string value: \")\n",
    "string_rev=string[::-1]\n",
    "if string == \"\":\n",
    "    print(\"Empty input!\")\n",
    "elif string == string_rev:\n",
    "    print(string,\"is a palindrome!\")\n",
    "else:\n",
    "    print(string,\"is not a palindrome!\")"
   ]
  },
  {
   "cell_type": "code",
   "execution_count": 29,
   "id": "dabd90ee",
   "metadata": {},
   "outputs": [
    {
     "name": "stdout",
     "output_type": "stream",
     "text": [
      "Enter your string value: Subhajit Sardar     is a very good boy!\n",
      "Your desired output is:  SubhajitSardarisaverygoodboy!\n"
     ]
    }
   ],
   "source": [
    "#Create a program that takes a string as input and removes all the spaces from it.\n",
    "string=input(\"Enter your string value: \")\n",
    "print(\"Your desired output is: \",string.replace(\" \",\"\"))"
   ]
  },
  {
   "cell_type": "code",
   "execution_count": null,
   "id": "870de244",
   "metadata": {},
   "outputs": [],
   "source": []
  }
 ],
 "metadata": {
  "kernelspec": {
   "display_name": "Python 3 (ipykernel)",
   "language": "python",
   "name": "python3"
  },
  "language_info": {
   "codemirror_mode": {
    "name": "ipython",
    "version": 3
   },
   "file_extension": ".py",
   "mimetype": "text/x-python",
   "name": "python",
   "nbconvert_exporter": "python",
   "pygments_lexer": "ipython3",
   "version": "3.11.4"
  }
 },
 "nbformat": 4,
 "nbformat_minor": 5
}
